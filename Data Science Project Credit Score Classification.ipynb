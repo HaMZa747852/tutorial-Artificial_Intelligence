{
 "cells": [
  {
   "cell_type": "markdown",
   "id": "8b76a204",
   "metadata": {},
   "source": [
    "# **Data Science Project: Credit Score Classification**"
   ]
  },
  {
   "cell_type": "markdown",
   "id": "d19dbb15",
   "metadata": {},
   "source": [
    "Analyzed by,\n",
    "<br>\n",
    "**Mohamed Abdullah Ali**"
   ]
  },
  {
   "cell_type": "markdown",
   "id": "5d652ce7",
   "metadata": {},
   "source": [
    "## Table of Contents\n",
    "* [Intro](#Intro)\n",
    "\n",
    "[**Part 1: Data Preparation, Cleaning, and Engineering**](#Part_1)\n",
    "* [**I. Preparation**](#I)\n",
    "    * [Ia. Libraries](#Ia)\n",
    "    * [Ib. Dataframes](#Ib)\n",
    "    * [Ic. Functions](#Ic)\n",
    "        * [a. Data Exporation Functions](#Ic_a)\n",
    "        * [b. Feature Cleaning and Engineering Functions](#Ic_b)\n",
    "    * [Id. Color Palette](#Id)\n",
    "* [**II. Data Exploration Phase I: Get to Know the Data**](#II)\n",
    "    * [IIa. General Overview](#IIa)\n",
    "    * [IIb. Missing Values](#IIb)\n",
    "    * [IIc. Duplicated Entries](#IIc)\n",
    "    * [IId. Unique Values](#IId)\n",
    "    * [IIe. Data Exploration Findings](#IIe)\n",
    "* [**III. Data Cleaning and Engineering Phase 1: Data Type Conversion**](#III)\n",
    "    * [IIIa. Cleaning Categorical Features That Are Supposedly Numerical](#IIIa)\n",
    "    * [IIIb. Cleaning Strings in Credit_History_Age to be Numerical](#IIIb)\n",
    "    * [IIIc. Data Cleaning and Engineering Log](#IIIc)\n",
    "* [**IV. Data Exploration Phase 2: Categorical Features**](#IV)\n",
    "    * [IVa. General Overview](#IVa)\n",
    "    * [IVb. Items Spelling Checking](#IVb)\n",
    "    * [IVc. Data Exploration Findings](#IVc)\n",
    "* [**V. Data Cleaning and Engineering Phase 2: Categorical Features**](#V)\n",
    "    * [Va. Categorical Feature: Name](#Va)\n",
    "    * [Vb. Categorical Feature: SSN](#Vb)\n",
    "    * [Vc. Categorical Feature: Occupation](#Vc)\n",
    "    * [Vd. Categorical Feature: Type_of_Loan](#Vd)\n",
    "        * [a. Train Dataframe](#Vd_a)\n",
    "        * [b. Test Dataframe](#Vd_b)\n",
    "    * [Ve. Categorical Feature: Payment_Behavior](#Ve)\n",
    "    * [Vf. Categorical Feature: Credit_Mix](#Vf)\n",
    "    * [Vg. Data Cleaning and Engineering Log](#Vg)\n",
    "* [**VI. Data Exploration Phase 3: Numerical Features**](#VI)\n",
    "    * [VIa. Data Distribution](#VIa)\n",
    "    * [VIb. Data Exploration Findings](#VIb)\n",
    "* [**VII. Data Cleaning and Engineering Phase 3: Numerical Features**](#VII)\n",
    "    * [VIIa. Numerical Feature: Age](#VIIa)\n",
    "    * [VIIb. Numerical Feature: Annual_Income](#VIIb)\n",
    "    * [VIIc. Numerical Feature: Monthly_Inhand_Salary](#VIIc)\n",
    "    * [VIId. Numerical Feature: Num_Bank_Accounts](#VIId)\n",
    "    * [VIIe. Numerical Feature: Num_Credit_Card](#VIIr)\n",
    "    * [VIIf. Numerical Feature: Interest_Rate](#VIIf)\n",
    "    * [VIIg. Numerical Feature: Num_of_Loan](#VIIg)\n",
    "    * [VIIh. Numerical Feature: Num_of_Delayed_Payment](#VIIh)\n",
    "    * [VIIi. Numerical Feature: Changed_Credit_Limit](#VIIi)\n",
    "    * [VIIj. Numerical Feature: Num_Credit_Inquiries](#VIIj)\n",
    "    * [VIIk. Numerical Feature: Credit_History_Age](#VIIk)\n",
    "    * [VIIl. Numerical Feature: Total_EMI_per_month](#VIIl)\n",
    "    * [VIIm. Numerical Feature: Amount_invested_monthly](#VIIm)\n",
    "    * [VIIn. Numerical Feature: Monthly_Balance](#VIIn)\n",
    "    * [VIIo. Data Cleaning and Engineering Log](#VIIo)\n",
    " \n",
    "[**Part 2: Classification Model Building**](#Part_2)\n",
    "* [**VIII. Data Exploration Phase 4**](#VIII)\n",
    "    * [VIIIa. General Overview](#VIIIa)\n",
    "    * [VIIIb. Univariate Analysis](#VIIIb)\n",
    "    * [VIIIc. Bivariate Analysis](#VIIIc)\n",
    "        * [a. Numerical Features vs. Credit_Score](#VIIIc_a)\n",
    "        * [b. Boolean Features vs. Credit_Score](#VIIIc_b)\n",
    "        * [c. Ordinal and Nominal Categorical Features vs. Credit_Score](#VIIIc_c)\n",
    "* [**IX. Features Selection**](#IX)\n",
    "    * [IXa. Dataframe Engineering and Features Selection Preparation](#IXa)\n",
    "    * [IXb. Pearson Correlation](#IXb)\n",
    "    * [IXc. ANOVA F-Score](#IXc)\n",
    "    * [IXd. Kendall's Tau](#IXd)\n",
    "    * [IXe. Chi-Squared](#IXe)\n",
    "    * [IXf. Mutual Information](#IXf)\n",
    "    * [IXg. Subset of Best-Correlating Features](#IXg)\n",
    "* [**X. Machine Learning Models**](#X)\n",
    "    * [Xa. Train Dataframe Splitting](#Xa)\n",
    "    * [Xb. Random Forest](#Xb)\n",
    "        * [a. Preparation](#Xb_a)\n",
    "        * [b. Input: Best Correlating Numerical and Categorical Features](#Xb_b)\n",
    "        * [c. Input: Best Correlating Numerical Features with Normal Data Distribution](#Xb_c)\n",
    "        * [d. Input: Best Correlating Numerical Features with Non-Normal Data Distribution](#Xb_d)\n",
    "        * [e. Input: Best Correlating Categorical Features Obtained by Chi-Squared](#Xb_e)\n",
    "        * [f. Input: Best Correlating Categorical Features Obtained by Mutual Information](#Xb_f)\n",
    "        * [g. Input: All Best Correlating Features and Boolean Features](#Xb_g)\n",
    "        * [h. Random Forest Model Accuracy Report](#Xb_h)\n",
    "        * [i. Random Forest Model Overfitting Test](#Xb_i)\n",
    "        * [j. Random Forest Parameter Tuning](#Xb_j)\n",
    "        * [k. Refitting the Random Forest model using the tuned parameters](#Xb_k)\n",
    "* [**XI. Predicting the Credit_Score in Test Dataframe**](#XI)\n",
    "    * [XIa. Preparing the Test Dataframe](#XIa)\n",
    "    * [XIb. Building and Applying the Random Forest Model](#XIb)\n",
    "    * [XIc. Finalizing the Test Dataframe](#XIc)\n",
    "* [**XII. Summary**](#XII)\n",
    "    * [XIIa. Model Review](#XIIa)\n",
    "    * [XIIb. Outro](#XIIb)"
   ]
  },
  {
   "cell_type": "markdown",
   "id": "c8ec364f",
   "metadata": {},
   "source": [
    "# **Part 1: Data Preparation, Cleaning, and Engineering**"
   ]
  },
  {
   "cell_type": "markdown",
   "id": "65f90d1d",
   "metadata": {},
   "source": [
    "---\n",
    "Welcome to my data science project!<a class = \"anchor\" id = \"Intro\"></a>\n",
    "---\n",
    "<br>\n",
    "\n",
    "**Intro :**\n",
    "<br>\n",
    "In this project, we are going to do a classification project to help a finance company classify their consumers' credit score based on the consumers' credit-related information. The company has been doing this classification task manually over the years and now has decided to build an intelligent system that can do this automatically using the data that has been gathered up until this point. The management of the company asked me, a data scientist, to help building the classification models.\n",
    "<br>\n",
    "<br>\n",
    "<br>\n",
    "**Business Goal :**\n",
    "<br>\n",
    "Perform credit score classification for a finance company's consumers based on their credit-related information.\n",
    "<br>\n",
    "<br>\n",
    "<br>\n",
    "**Project Tasks :**\n",
    "1. Perform the preparation task by cleaning Train and Test dataframes before using them for the classification modelling.\n",
    "2. Build the Random Forest classification model using the Train dataframe to learn the nature of the data.\n",
    "3. Tune the Random Forest parameters to increase the reliability of the model.\n",
    "4. Perform the classification on the Test dataframe using the model with the highest accuracy."
   ]
  },
  {
   "cell_type": "markdown",
   "id": "f52775d2",
   "metadata": {},
   "source": [
    "## **I. Preparation**<a class = \"anchor\" id = \"I\"></a>"
   ]
  },
  {
   "cell_type": "markdown",
   "id": "e6992050",
   "metadata": {},
   "source": [
    "### **Ia. Libraries**<a class = \"anchor\" id = \"Ia\"></a>"
   ]
  },
  {
   "cell_type": "markdown",
   "id": "445a4ad1",
   "metadata": {},
   "source": [
    "#### **a. Data Engineering and Visualization Libraries**"
   ]
  },
  {
   "cell_type": "code",
   "execution_count": 1,
   "id": "2292c14a",
   "metadata": {},
   "outputs": [],
   "source": [
    "# libraries for dataframe manipulation\n",
    "import pandas as pd\n",
    "import numpy as np\n",
    "from sklearn.preprocessing import MultiLabelBinarizer\n",
    "\n",
    "from sklearn.preprocessing import LabelEncoder\n",
    "enc = LabelEncoder()\n",
    "\n",
    "# libraries for data visualization\n",
    "import seaborn as sns\n",
    "import matplotlib.pyplot as plt"
   ]
  },
  {
   "cell_type": "markdown",
   "id": "0b737f69",
   "metadata": {},
   "source": [
    "#### **b. Machine Learning Libraries**"
   ]
  },
  {
   "cell_type": "code",
   "execution_count": 2,
   "id": "da379fc2",
   "metadata": {},
   "outputs": [],
   "source": [
    "# library to split a dataframe into Train and Test dataframes\n",
    "from sklearn.model_selection import train_test_split\n",
    "\n",
    "# libraries for feature selection\n",
    "from sklearn.feature_selection import SelectKBest\n",
    "    # 1. ANOVA\n",
    "from sklearn.feature_selection import f_classif\n",
    "    # 2. Kendall's Tau\n",
    "from scipy.stats import kendalltau\n",
    "    # 3. Chi-Squared\n",
    "from sklearn.feature_selection import chi2\n",
    "    # 4. Mutual Information\n",
    "from sklearn.feature_selection import mutual_info_classif\n",
    "\n",
    "# library to help selecting the best parameter configuration for the model\n",
    "from sklearn.model_selection import GridSearchCV\n",
    "\n",
    "# libraries to build the machine learning models\n",
    "from sklearn.ensemble import RandomForestClassifier\n",
    "\n",
    "from sklearn.metrics import accuracy_score"
   ]
  },
  {
   "cell_type": "markdown",
   "id": "46aef9d4",
   "metadata": {},
   "source": [
    "### **Ib. Dataframes**<a class = \"anchor\" id = \"Ib\"></a>"
   ]
  },
  {
   "cell_type": "code",
   "execution_count": 3,
   "id": "c36f6c46",
   "metadata": {},
   "outputs": [
    {
     "name": "stderr",
     "output_type": "stream",
     "text": [
      "C:\\Users\\HP\\AppData\\Local\\Temp\\ipykernel_11068\\3553192589.py:2: DtypeWarning: Columns (26) have mixed types. Specify dtype option on import or set low_memory=False.\n",
      "  train_ori = pd.read_csv('D:\\\\Artificial Intelligence\\\\2-ML models\\\\Projects\\\\Machine Learning\\\\3-Credit Card Score\\\\dataset\\\\train.csv')\n"
     ]
    }
   ],
   "source": [
    "# original train dataset to serve as reset checkpoint\n",
    "train_ori = pd.read_csv('D:\\\\Artificial Intelligence\\\\2-ML models\\\\Projects\\\\Machine Learning\\\\3-Credit Card Score\\\\dataset\\\\train.csv')\n",
    "\n",
    "# copy of train dataset\n",
    "data_train = train_ori.copy()\n",
    "\n",
    "# original test dataset to serve as reset checkpoint\n",
    "test_ori = pd.read_csv('D:\\\\Artificial Intelligence\\\\2-ML models\\\\Projects\\\\Machine Learning\\\\3-Credit Card Score\\\\dataset\\\\test.csv')\n",
    "\n",
    "# copy of test dataset\n",
    "data_test = test_ori.copy()"
   ]
  },
  {
   "cell_type": "markdown",
   "id": "3dbc2188",
   "metadata": {},
   "source": [
    "### **Ic. Functions**<a class = \"anchor\" id = \"Ic\"></a>"
   ]
  },
  {
   "cell_type": "markdown",
   "id": "4f1bf759",
   "metadata": {},
   "source": [
    "#### **a. Data Exploration Functions**<a class = \"anchor\" id = \"Ic_a\"></a>"
   ]
  },
  {
   "cell_type": "code",
   "execution_count": 4,
   "id": "9b3f719c",
   "metadata": {},
   "outputs": [],
   "source": [
    "def missing_values_perc(df):\n",
    "    # a function to return each datafame column's missing value count and its percentange\n",
    "\n",
    "    # calculating the missing values for each column\n",
    "    missing_values = df.isnull().sum()\n",
    "\n",
    "    # turning the previous output into a dataframe format\n",
    "    missing_values = pd.DataFrame(missing_values)\n",
    "    missing_values = missing_values.reset_index()\n",
    "    missing_values.columns = ['Column', 'Count']\n",
    "\n",
    "    # calculating each feature's missing values percentage\n",
    "    list_missing_values = []\n",
    "    for i in missing_values['Count']:\n",
    "        missing_values_perc = i / len(df) * 100 # Total entries = 100000 (from previous step)\n",
    "        list_missing_values.append(missing_values_perc)\n",
    "    list_missing_values = [round(num, 2) for num in list_missing_values]\n",
    "\n",
    "    # adding the missing values percentage column to the report\n",
    "    missing_values['Percentage (%)'] = list_missing_values\n",
    "\n",
    "    # displaying the missing values report\n",
    "    print('Missing values on each column : ', '\\n')\n",
    "    print(missing_values)"
   ]
  },
  {
   "cell_type": "code",
   "execution_count": 5,
   "id": "a4c28f30",
   "metadata": {},
   "outputs": [],
   "source": [
    "def data_types(dataset):\n",
    "    #a function to display the data types for each column\n",
    "    \n",
    "    #take the names of the columns in the dataset \n",
    "    columns_name=list(dataset.columns)\n",
    "    #intialize list to store on it the data types of each columns\n",
    "    data_types=[]\n",
    "    #loop to get the data types of each column and store it in data_types var\n",
    "    for col in columns_name:\n",
    "        dtype=pd.api.types.infer_dtype(dataset[col])\n",
    "        data_types.append(dtype)\n",
    "    #Creating dataframe to show the data types of each column\n",
    "    df=pd.DataFrame(list(zip(columns_name,columns_name)))\n",
    "    df.columns=['Feature','Data Type']\n",
    "    print(df)"
   ]
  },
  {
   "cell_type": "markdown",
   "id": "cf385e92",
   "metadata": {},
   "source": [
    "#### **b. Feature Cleaning and Engineering Functions**<a class = \"anchor\" id = \"Ic_b\"></a>"
   ]
  },
  {
   "cell_type": "code",
   "execution_count": 6,
   "id": "cce185c0",
   "metadata": {},
   "outputs": [],
   "source": [
    "def countoutlier(dataset, feature):\n",
    "    # a function to count how many outliers are present in a numerical list\n",
    "    \n",
    "    # calculating the outlier boundaries\n",
    "    Q1 = dataset[feature].quantile(0.25)\n",
    "    Q3 = dataset[feature].quantile(0.75)\n",
    "    IQR = Q3 - Q1\n",
    "    UBoundary = Q3 + 1.5 * IQR\n",
    "    LBoundary = Q1 - 1.5 * IQR\n",
    "    \n",
    "    # counting the outliers\n",
    "    outliercount = 0\n",
    "    for i in dataset[feature]:\n",
    "        if i > UBoundary or i < LBoundary:\n",
    "            outliercount += 1\n",
    "    # displaying the outliers count report\n",
    "    print('Outlier count in', feature, ':', outliercount)"
   ]
  },
  {
   "cell_type": "code",
   "execution_count": 7,
   "id": "d488d393",
   "metadata": {},
   "outputs": [],
   "source": [
    "def omitoutlier(dataframe, feature):\n",
    "    # a function to omit outliers that are present in a numerical list\n",
    "    \n",
    "    # calculating the outlier boundaries\n",
    "    Q1 = dataframe[feature].quantile(0.25)\n",
    "    Q3 = dataframe[feature].quantile(0.75)\n",
    "    IQR = Q3 - Q1\n",
    "    UBoundary = Q3 + 1.5 * IQR\n",
    "    LBoundary = Q1 - 1.5 * IQR\n",
    "    \n",
    "    # creating a new list that does not contain the outliers\n",
    "    newlist = []\n",
    "    for i in dataframe[feature]:\n",
    "        if i > UBoundary or i < LBoundary:\n",
    "            newlist.append(np.nan)\n",
    "        else:\n",
    "            newlist.append(i)\n",
    "    \n",
    "    # replacing the items in the feature with the newly-created list\n",
    "    dataframe[feature] = newlist\n",
    "    \n",
    "    # displaying the outliers ommission report\n",
    "    print('\\n')\n",
    "    print(feature,'data boxplot after dropping the outliers : ')\n",
    "    dataframe[feature].plot.box()"
   ]
  },
  {
   "cell_type": "code",
   "execution_count": 8,
   "id": "dfafd2cc",
   "metadata": {},
   "outputs": [],
   "source": [
    "def lookupreplacement(dataset,reference,feature):\n",
    "    # a function to replace all entries in each subgroup of a numerical list based on each subgroup's mode\n",
    "    \n",
    "    # preparing a dataframe containing both the feature that needs the replacement and the reference feature that acts as the lookup table\n",
    "    lookup = dataset[[reference, feature]]\n",
    "\n",
    "    # returning the mode of each subgroup that is present in the reference feature\n",
    "    lookup = lookup.groupby(reference).agg(pd.Series.mode)\n",
    "\n",
    "    # replacing all entries in each subgroup of the numerical list based on each subgroup's mode\n",
    "    dataset[feature] = dataset[reference].map(lookup[feature])\n",
    "    \n",
    "    # eliminating any array-type value generated by the replacement method using only the first member of the array value     \n",
    "    '''\n",
    "    when we replacing all entries with mode it is possible containing a list have two or more\n",
    "    value \n",
    "    or containing a empty list \n",
    "    or containin one vlaue\n",
    "    This is the solution for this problem \n",
    "    '''\n",
    "    newlist = []\n",
    "    for i in range(len(dataset[feature])):\n",
    "        # for float type members\n",
    "        if type(dataset[feature][i]) == np.float64:\n",
    "            newlist.append(dataset[feature][i])\n",
    "        # for empty list members\n",
    "        elif type(dataset[feature][i]) == np.ndarray and len(dataset[feature][i]) == 0:\n",
    "            newlist.append(np.nan)\n",
    "        # for non-empty list members\n",
    "        elif type(dataset[feature][i]) == np.ndarray and len(dataset[feature][i]) != 0:\n",
    "            newlist.append(dataset[feature][i][1])\n",
    "    dataset[feature] = newlist\n",
    "    \n",
    "    # reconverting the feature into float to make sure the data type is correct\n",
    "    dataset[feature].astype(float)\n",
    "    \n",
    "    # displaying the remaining missing value after the replacement and array elimination process\n",
    "    remaining = dataset[feature].isnull().sum()\n",
    "    print('Remaining', feature, 'missing values :', remaining)"
   ]
  },
  {
   "cell_type": "code",
   "execution_count": 9,
   "id": "cb7884ae",
   "metadata": {},
   "outputs": [],
   "source": [
    "def aggregatedfillna(dataset, reference, feature):\n",
    "        # a function to fill nan entries present in each subgroup of a numerical list using the subgroup's mean +- standard deviation\n",
    "    \n",
    "    # preparing a dataframe containing both the feature that needs the nan filling and the reference feature that acts as the lookup table\n",
    "    table = dataset[[reference, feature]]\n",
    "    \n",
    "    # locating the nan entries in the feature that needs the nan filling, followed by their reference value\n",
    "    Reference = table.loc[table[feature].isnull(), reference]\n",
    "\n",
    "    # getting only the unique reference values and converting the reference values into a list\n",
    "    Reference = list(Reference.unique())\n",
    "\n",
    "    # creating a list with the same length as the reference values list containing empty values\n",
    "    Feture = []\n",
    "    for i in range(len(Reference)):\n",
    "        Feture.append(np.nan)\n",
    "\n",
    "    # preparing the lookup table containing the reference values and the soon-to-be generated value associated to them\n",
    "    featureLookup = pd.DataFrame(list(zip(Reference, Feture)))\n",
    "    featureLookup.columns = [reference, feature]\n",
    "\n",
    "    # calculating the mean value of the feature that needs the nan filling\n",
    "    featureMean = dataset[feature].mean()\n",
    "\n",
    "    # calculating the standard deviation value of the feature that needs the nan filling\n",
    "    featureStdDev = dataset[feature].std()\n",
    "\n",
    "    # generating the lookup value in the lokup table\n",
    "    featureLookup[feature] = featureLookup[feature].fillna(pd.Series(np.random.randint(int(featureMean - featureStdDev), \n",
    "                                                                                       int(featureMean + featureStdDev),\n",
    "                                                                                       size = featureLookup[feature].isnull().sum())))\n",
    "    '''\n",
    "    #another way \n",
    "    Look_Table=df.groupby(Reference)[Feature].agg('mean')\n",
    "    Look_Table=Look_Table.reset_index()\n",
    "    Look_Table.columns=[Reference,Feature]\n",
    "    df[Feature]=df[Feature].fillna(df[Reference].map(Look_Table.set_index(Reference)[Feature]))    \n",
    "    \n",
    "    '''\n",
    "    \n",
    "    '''\n",
    "    Note\n",
    "         #pd.Series(np.random.randint(1011,7500,size =16))\n",
    "         #Generate array of 16values random from 1011 to 7500\n",
    "    '''\n",
    "    \n",
    "    # filling in the nan entries in the feature that needs the nan filling with the reference to the lookup table\n",
    "    dataset[feature] = dataset[feature].fillna(dataset[reference].map(featureLookup.set_index(reference)[feature]))\n",
    "    \n",
    "    '''\n",
    "    dataset[reference].map(featureLookup.set_index(reference)[feature]\n",
    "    [Doctor].map(Doctor)[15362] for example the returned value from this line is \n",
    "    15362\n",
    "    fill the nan value in feature salary which referened value is Docotr\n",
    "    \n",
    "    '''\n",
    "\n",
    "    # checking if there are still missing values in the feature\n",
    "    remaining = dataset[feature].isnull().sum()\n",
    "    print('Remaining', feature, 'missing values :', remaining)"
   ]
  },
  {
   "cell_type": "markdown",
   "id": "6c1f062d",
   "metadata": {},
   "source": [
    "### **Id. Color Palette**<a class = \"anchor\" id = \"Id\"></a>"
   ]
  },
  {
   "cell_type": "markdown",
   "id": "c35b59d9",
   "metadata": {},
   "source": [
    "## **II. Data Exploration Phase I: Get to Know the Data**<a class = \"anchor\" id = \"II\"></a>"
   ]
  },
  {
   "cell_type": "markdown",
   "id": "276b0e1e",
   "metadata": {},
   "source": [
    "### **IIa. General Overview**<a class = \"anchor\" id = \"IIa\"></a>"
   ]
  },
  {
   "cell_type": "markdown",
   "id": "8c235883",
   "metadata": {},
   "source": [
    "There are some information regarding what each feature of the dataset represents given by the provider of the datasets. These information are very useful for us to better understand the datasets.\n",
    "\n",
    "* 1. ID: Represents a unique identification of an entry\n",
    "* 2. Customer_ID: Represents a unique identification of a person\n",
    "* 3. Month: Represents the month of the year\n",
    "* 4. Name: Represents the name of a person\n",
    "* 5. Age: Represents the age of the person\n",
    "* 6. SSN: Represents the social security number of a person\n",
    "* 7. Occupation: Represents the occupation of the person\n",
    "* 8. Annual_Income: Represents the annual income of the person\n",
    "* 9. Monthly_Inhand_Salary:Represents the monthly base salary of a person\n",
    "* 10. Num_Bank_Accounts: Represents the number of bank accounts a person holds\n",
    "* 11. Num_Credit_Card: Represents the number of other credit cards held by a person\n",
    "* 12. Interest_Rate: Represents the interest rate on credit card\n",
    "* 13. Num_of_Loan: Represents the number of loans taken from the bank\n",
    "* 14. Type_of_Loan: Represents the types of loan taken by a person\n",
    "* 15. Delay_from_due_date: Represents the average number of days delayed from the payment date\n",
    "* 16. Num_of_Delayed_Payment: Represents the average number of payments delayed by a person\n",
    "* 17. Changed_Credit_Limit: Represents the percentage change in credit card limit\n",
    "* 18. Num_Credit_Inquiries: Represents the number of credit card inquiries\n",
    "* 19. Credit_Mix: Represents the classification of the mix of credits\n",
    "* 20. Outstanding_Debt: Represents the remaining debt to be paid (in USD)\n",
    "* 21. Credit_Utilization_Ratio: Represents the utilization ratio of credit card\n",
    "* 22. Credit_History_Age: Represents the age of credit history of the person\n",
    "* 23. Payment_of_Min_Amount: Represents whether only the minimum amount was paid by the person\n",
    "* 24. Total_EMI_per_month: Represents the monthly EMI payments (in USD)\n",
    "* 25. Amount_invested_monthly: Represents the monthly amount invested by the customer (in USD)\n",
    "* 26. Payment_Behaviour: Represents the payment behavior of the customer (in USD)\n",
    "* 27. Monthly_Balance: Represents the monthly balance amount of the customer (in USD)"
   ]
  },
  {
   "cell_type": "code",
   "execution_count": 10,
   "id": "437e3ad7",
   "metadata": {},
   "outputs": [
    {
     "data": {
      "text/html": [
       "<div>\n",
       "<style scoped>\n",
       "    .dataframe tbody tr th:only-of-type {\n",
       "        vertical-align: middle;\n",
       "    }\n",
       "\n",
       "    .dataframe tbody tr th {\n",
       "        vertical-align: top;\n",
       "    }\n",
       "\n",
       "    .dataframe thead th {\n",
       "        text-align: right;\n",
       "    }\n",
       "</style>\n",
       "<table border=\"1\" class=\"dataframe\">\n",
       "  <thead>\n",
       "    <tr style=\"text-align: right;\">\n",
       "      <th></th>\n",
       "      <th>ID</th>\n",
       "      <th>Customer_ID</th>\n",
       "      <th>Month</th>\n",
       "      <th>Name</th>\n",
       "      <th>Age</th>\n",
       "      <th>SSN</th>\n",
       "      <th>Occupation</th>\n",
       "      <th>Annual_Income</th>\n",
       "      <th>Monthly_Inhand_Salary</th>\n",
       "      <th>Num_Bank_Accounts</th>\n",
       "      <th>...</th>\n",
       "      <th>Credit_Mix</th>\n",
       "      <th>Outstanding_Debt</th>\n",
       "      <th>Credit_Utilization_Ratio</th>\n",
       "      <th>Credit_History_Age</th>\n",
       "      <th>Payment_of_Min_Amount</th>\n",
       "      <th>Total_EMI_per_month</th>\n",
       "      <th>Amount_invested_monthly</th>\n",
       "      <th>Payment_Behaviour</th>\n",
       "      <th>Monthly_Balance</th>\n",
       "      <th>Credit_Score</th>\n",
       "    </tr>\n",
       "  </thead>\n",
       "  <tbody>\n",
       "    <tr>\n",
       "      <th>0</th>\n",
       "      <td>0x1602</td>\n",
       "      <td>CUS_0xd40</td>\n",
       "      <td>January</td>\n",
       "      <td>Aaron Maashoh</td>\n",
       "      <td>23</td>\n",
       "      <td>821-00-0265</td>\n",
       "      <td>Scientist</td>\n",
       "      <td>19114.12</td>\n",
       "      <td>1824.843333</td>\n",
       "      <td>3</td>\n",
       "      <td>...</td>\n",
       "      <td>_</td>\n",
       "      <td>809.98</td>\n",
       "      <td>26.822620</td>\n",
       "      <td>22 Years and 1 Months</td>\n",
       "      <td>No</td>\n",
       "      <td>49.574949</td>\n",
       "      <td>80.41529543900253</td>\n",
       "      <td>High_spent_Small_value_payments</td>\n",
       "      <td>312.49408867943663</td>\n",
       "      <td>Good</td>\n",
       "    </tr>\n",
       "    <tr>\n",
       "      <th>1</th>\n",
       "      <td>0x1603</td>\n",
       "      <td>CUS_0xd40</td>\n",
       "      <td>February</td>\n",
       "      <td>Aaron Maashoh</td>\n",
       "      <td>23</td>\n",
       "      <td>821-00-0265</td>\n",
       "      <td>Scientist</td>\n",
       "      <td>19114.12</td>\n",
       "      <td>NaN</td>\n",
       "      <td>3</td>\n",
       "      <td>...</td>\n",
       "      <td>Good</td>\n",
       "      <td>809.98</td>\n",
       "      <td>31.944960</td>\n",
       "      <td>NaN</td>\n",
       "      <td>No</td>\n",
       "      <td>49.574949</td>\n",
       "      <td>118.28022162236736</td>\n",
       "      <td>Low_spent_Large_value_payments</td>\n",
       "      <td>284.62916249607184</td>\n",
       "      <td>Good</td>\n",
       "    </tr>\n",
       "    <tr>\n",
       "      <th>2</th>\n",
       "      <td>0x1604</td>\n",
       "      <td>CUS_0xd40</td>\n",
       "      <td>March</td>\n",
       "      <td>Aaron Maashoh</td>\n",
       "      <td>-500</td>\n",
       "      <td>821-00-0265</td>\n",
       "      <td>Scientist</td>\n",
       "      <td>19114.12</td>\n",
       "      <td>NaN</td>\n",
       "      <td>3</td>\n",
       "      <td>...</td>\n",
       "      <td>Good</td>\n",
       "      <td>809.98</td>\n",
       "      <td>28.609352</td>\n",
       "      <td>22 Years and 3 Months</td>\n",
       "      <td>No</td>\n",
       "      <td>49.574949</td>\n",
       "      <td>81.699521264648</td>\n",
       "      <td>Low_spent_Medium_value_payments</td>\n",
       "      <td>331.2098628537912</td>\n",
       "      <td>Good</td>\n",
       "    </tr>\n",
       "    <tr>\n",
       "      <th>3</th>\n",
       "      <td>0x1605</td>\n",
       "      <td>CUS_0xd40</td>\n",
       "      <td>April</td>\n",
       "      <td>Aaron Maashoh</td>\n",
       "      <td>23</td>\n",
       "      <td>821-00-0265</td>\n",
       "      <td>Scientist</td>\n",
       "      <td>19114.12</td>\n",
       "      <td>NaN</td>\n",
       "      <td>3</td>\n",
       "      <td>...</td>\n",
       "      <td>Good</td>\n",
       "      <td>809.98</td>\n",
       "      <td>31.377862</td>\n",
       "      <td>22 Years and 4 Months</td>\n",
       "      <td>No</td>\n",
       "      <td>49.574949</td>\n",
       "      <td>199.4580743910713</td>\n",
       "      <td>Low_spent_Small_value_payments</td>\n",
       "      <td>223.45130972736786</td>\n",
       "      <td>Good</td>\n",
       "    </tr>\n",
       "    <tr>\n",
       "      <th>4</th>\n",
       "      <td>0x1606</td>\n",
       "      <td>CUS_0xd40</td>\n",
       "      <td>May</td>\n",
       "      <td>Aaron Maashoh</td>\n",
       "      <td>23</td>\n",
       "      <td>821-00-0265</td>\n",
       "      <td>Scientist</td>\n",
       "      <td>19114.12</td>\n",
       "      <td>1824.843333</td>\n",
       "      <td>3</td>\n",
       "      <td>...</td>\n",
       "      <td>Good</td>\n",
       "      <td>809.98</td>\n",
       "      <td>24.797347</td>\n",
       "      <td>22 Years and 5 Months</td>\n",
       "      <td>No</td>\n",
       "      <td>49.574949</td>\n",
       "      <td>41.420153086217326</td>\n",
       "      <td>High_spent_Medium_value_payments</td>\n",
       "      <td>341.48923103222177</td>\n",
       "      <td>Good</td>\n",
       "    </tr>\n",
       "  </tbody>\n",
       "</table>\n",
       "<p>5 rows × 28 columns</p>\n",
       "</div>"
      ],
      "text/plain": [
       "       ID Customer_ID     Month           Name   Age          SSN Occupation  \\\n",
       "0  0x1602   CUS_0xd40   January  Aaron Maashoh    23  821-00-0265  Scientist   \n",
       "1  0x1603   CUS_0xd40  February  Aaron Maashoh    23  821-00-0265  Scientist   \n",
       "2  0x1604   CUS_0xd40     March  Aaron Maashoh  -500  821-00-0265  Scientist   \n",
       "3  0x1605   CUS_0xd40     April  Aaron Maashoh    23  821-00-0265  Scientist   \n",
       "4  0x1606   CUS_0xd40       May  Aaron Maashoh    23  821-00-0265  Scientist   \n",
       "\n",
       "  Annual_Income  Monthly_Inhand_Salary  Num_Bank_Accounts  ...  Credit_Mix  \\\n",
       "0      19114.12            1824.843333                  3  ...           _   \n",
       "1      19114.12                    NaN                  3  ...        Good   \n",
       "2      19114.12                    NaN                  3  ...        Good   \n",
       "3      19114.12                    NaN                  3  ...        Good   \n",
       "4      19114.12            1824.843333                  3  ...        Good   \n",
       "\n",
       "   Outstanding_Debt Credit_Utilization_Ratio     Credit_History_Age  \\\n",
       "0            809.98                26.822620  22 Years and 1 Months   \n",
       "1            809.98                31.944960                    NaN   \n",
       "2            809.98                28.609352  22 Years and 3 Months   \n",
       "3            809.98                31.377862  22 Years and 4 Months   \n",
       "4            809.98                24.797347  22 Years and 5 Months   \n",
       "\n",
       "   Payment_of_Min_Amount Total_EMI_per_month Amount_invested_monthly  \\\n",
       "0                     No           49.574949       80.41529543900253   \n",
       "1                     No           49.574949      118.28022162236736   \n",
       "2                     No           49.574949         81.699521264648   \n",
       "3                     No           49.574949       199.4580743910713   \n",
       "4                     No           49.574949      41.420153086217326   \n",
       "\n",
       "                  Payment_Behaviour     Monthly_Balance Credit_Score  \n",
       "0   High_spent_Small_value_payments  312.49408867943663         Good  \n",
       "1    Low_spent_Large_value_payments  284.62916249607184         Good  \n",
       "2   Low_spent_Medium_value_payments   331.2098628537912         Good  \n",
       "3    Low_spent_Small_value_payments  223.45130972736786         Good  \n",
       "4  High_spent_Medium_value_payments  341.48923103222177         Good  \n",
       "\n",
       "[5 rows x 28 columns]"
      ]
     },
     "metadata": {},
     "output_type": "display_data"
    },
    {
     "name": "stdout",
     "output_type": "stream",
     "text": [
      "Rows , cols of train dataframe : (100000, 28)\n"
     ]
    }
   ],
   "source": [
    "# taking a quick look at Train dataframe\n",
    "display(data_train.head())\n",
    "print('Rows , cols of train dataframe :', data_train.shape)"
   ]
  },
  {
   "cell_type": "code",
   "execution_count": 11,
   "id": "8c389fcb",
   "metadata": {},
   "outputs": [
    {
     "data": {
      "text/html": [
       "<div>\n",
       "<style scoped>\n",
       "    .dataframe tbody tr th:only-of-type {\n",
       "        vertical-align: middle;\n",
       "    }\n",
       "\n",
       "    .dataframe tbody tr th {\n",
       "        vertical-align: top;\n",
       "    }\n",
       "\n",
       "    .dataframe thead th {\n",
       "        text-align: right;\n",
       "    }\n",
       "</style>\n",
       "<table border=\"1\" class=\"dataframe\">\n",
       "  <thead>\n",
       "    <tr style=\"text-align: right;\">\n",
       "      <th></th>\n",
       "      <th>ID</th>\n",
       "      <th>Customer_ID</th>\n",
       "      <th>Month</th>\n",
       "      <th>Name</th>\n",
       "      <th>Age</th>\n",
       "      <th>SSN</th>\n",
       "      <th>Occupation</th>\n",
       "      <th>Annual_Income</th>\n",
       "      <th>Monthly_Inhand_Salary</th>\n",
       "      <th>Num_Bank_Accounts</th>\n",
       "      <th>...</th>\n",
       "      <th>Num_Credit_Inquiries</th>\n",
       "      <th>Credit_Mix</th>\n",
       "      <th>Outstanding_Debt</th>\n",
       "      <th>Credit_Utilization_Ratio</th>\n",
       "      <th>Credit_History_Age</th>\n",
       "      <th>Payment_of_Min_Amount</th>\n",
       "      <th>Total_EMI_per_month</th>\n",
       "      <th>Amount_invested_monthly</th>\n",
       "      <th>Payment_Behaviour</th>\n",
       "      <th>Monthly_Balance</th>\n",
       "    </tr>\n",
       "  </thead>\n",
       "  <tbody>\n",
       "    <tr>\n",
       "      <th>0</th>\n",
       "      <td>0x160a</td>\n",
       "      <td>CUS_0xd40</td>\n",
       "      <td>September</td>\n",
       "      <td>Aaron Maashoh</td>\n",
       "      <td>23</td>\n",
       "      <td>821-00-0265</td>\n",
       "      <td>Scientist</td>\n",
       "      <td>19114.12</td>\n",
       "      <td>1824.843333</td>\n",
       "      <td>3</td>\n",
       "      <td>...</td>\n",
       "      <td>2022.0</td>\n",
       "      <td>Good</td>\n",
       "      <td>809.98</td>\n",
       "      <td>35.030402</td>\n",
       "      <td>22 Years and 9 Months</td>\n",
       "      <td>No</td>\n",
       "      <td>49.574949</td>\n",
       "      <td>236.64268203272135</td>\n",
       "      <td>Low_spent_Small_value_payments</td>\n",
       "      <td>186.26670208571772</td>\n",
       "    </tr>\n",
       "    <tr>\n",
       "      <th>1</th>\n",
       "      <td>0x160b</td>\n",
       "      <td>CUS_0xd40</td>\n",
       "      <td>October</td>\n",
       "      <td>Aaron Maashoh</td>\n",
       "      <td>24</td>\n",
       "      <td>821-00-0265</td>\n",
       "      <td>Scientist</td>\n",
       "      <td>19114.12</td>\n",
       "      <td>1824.843333</td>\n",
       "      <td>3</td>\n",
       "      <td>...</td>\n",
       "      <td>4.0</td>\n",
       "      <td>Good</td>\n",
       "      <td>809.98</td>\n",
       "      <td>33.053114</td>\n",
       "      <td>22 Years and 10 Months</td>\n",
       "      <td>No</td>\n",
       "      <td>49.574949</td>\n",
       "      <td>21.465380264657146</td>\n",
       "      <td>High_spent_Medium_value_payments</td>\n",
       "      <td>361.44400385378196</td>\n",
       "    </tr>\n",
       "    <tr>\n",
       "      <th>2</th>\n",
       "      <td>0x160c</td>\n",
       "      <td>CUS_0xd40</td>\n",
       "      <td>November</td>\n",
       "      <td>Aaron Maashoh</td>\n",
       "      <td>24</td>\n",
       "      <td>821-00-0265</td>\n",
       "      <td>Scientist</td>\n",
       "      <td>19114.12</td>\n",
       "      <td>1824.843333</td>\n",
       "      <td>3</td>\n",
       "      <td>...</td>\n",
       "      <td>4.0</td>\n",
       "      <td>Good</td>\n",
       "      <td>809.98</td>\n",
       "      <td>33.811894</td>\n",
       "      <td>NaN</td>\n",
       "      <td>No</td>\n",
       "      <td>49.574949</td>\n",
       "      <td>148.23393788500925</td>\n",
       "      <td>Low_spent_Medium_value_payments</td>\n",
       "      <td>264.67544623342997</td>\n",
       "    </tr>\n",
       "    <tr>\n",
       "      <th>3</th>\n",
       "      <td>0x160d</td>\n",
       "      <td>CUS_0xd40</td>\n",
       "      <td>December</td>\n",
       "      <td>Aaron Maashoh</td>\n",
       "      <td>24_</td>\n",
       "      <td>821-00-0265</td>\n",
       "      <td>Scientist</td>\n",
       "      <td>19114.12</td>\n",
       "      <td>NaN</td>\n",
       "      <td>3</td>\n",
       "      <td>...</td>\n",
       "      <td>4.0</td>\n",
       "      <td>Good</td>\n",
       "      <td>809.98</td>\n",
       "      <td>32.430559</td>\n",
       "      <td>23 Years and 0 Months</td>\n",
       "      <td>No</td>\n",
       "      <td>49.574949</td>\n",
       "      <td>39.08251089460281</td>\n",
       "      <td>High_spent_Medium_value_payments</td>\n",
       "      <td>343.82687322383634</td>\n",
       "    </tr>\n",
       "    <tr>\n",
       "      <th>4</th>\n",
       "      <td>0x1616</td>\n",
       "      <td>CUS_0x21b1</td>\n",
       "      <td>September</td>\n",
       "      <td>Rick Rothackerj</td>\n",
       "      <td>28</td>\n",
       "      <td>004-07-5839</td>\n",
       "      <td>_______</td>\n",
       "      <td>34847.84</td>\n",
       "      <td>3037.986667</td>\n",
       "      <td>2</td>\n",
       "      <td>...</td>\n",
       "      <td>5.0</td>\n",
       "      <td>Good</td>\n",
       "      <td>605.03</td>\n",
       "      <td>25.926822</td>\n",
       "      <td>27 Years and 3 Months</td>\n",
       "      <td>No</td>\n",
       "      <td>18.816215</td>\n",
       "      <td>39.684018417945296</td>\n",
       "      <td>High_spent_Large_value_payments</td>\n",
       "      <td>485.2984336755923</td>\n",
       "    </tr>\n",
       "  </tbody>\n",
       "</table>\n",
       "<p>5 rows × 27 columns</p>\n",
       "</div>"
      ],
      "text/plain": [
       "       ID Customer_ID      Month             Name  Age          SSN  \\\n",
       "0  0x160a   CUS_0xd40  September    Aaron Maashoh   23  821-00-0265   \n",
       "1  0x160b   CUS_0xd40    October    Aaron Maashoh   24  821-00-0265   \n",
       "2  0x160c   CUS_0xd40   November    Aaron Maashoh   24  821-00-0265   \n",
       "3  0x160d   CUS_0xd40   December    Aaron Maashoh  24_  821-00-0265   \n",
       "4  0x1616  CUS_0x21b1  September  Rick Rothackerj   28  004-07-5839   \n",
       "\n",
       "  Occupation Annual_Income  Monthly_Inhand_Salary  Num_Bank_Accounts  ...  \\\n",
       "0  Scientist      19114.12            1824.843333                  3  ...   \n",
       "1  Scientist      19114.12            1824.843333                  3  ...   \n",
       "2  Scientist      19114.12            1824.843333                  3  ...   \n",
       "3  Scientist      19114.12                    NaN                  3  ...   \n",
       "4    _______      34847.84            3037.986667                  2  ...   \n",
       "\n",
       "   Num_Credit_Inquiries  Credit_Mix Outstanding_Debt Credit_Utilization_Ratio  \\\n",
       "0                2022.0        Good           809.98                35.030402   \n",
       "1                   4.0        Good           809.98                33.053114   \n",
       "2                   4.0        Good           809.98                33.811894   \n",
       "3                   4.0        Good           809.98                32.430559   \n",
       "4                   5.0        Good           605.03                25.926822   \n",
       "\n",
       "       Credit_History_Age Payment_of_Min_Amount Total_EMI_per_month  \\\n",
       "0   22 Years and 9 Months                    No           49.574949   \n",
       "1  22 Years and 10 Months                    No           49.574949   \n",
       "2                     NaN                    No           49.574949   \n",
       "3   23 Years and 0 Months                    No           49.574949   \n",
       "4   27 Years and 3 Months                    No           18.816215   \n",
       "\n",
       "   Amount_invested_monthly                 Payment_Behaviour  \\\n",
       "0       236.64268203272135    Low_spent_Small_value_payments   \n",
       "1       21.465380264657146  High_spent_Medium_value_payments   \n",
       "2       148.23393788500925   Low_spent_Medium_value_payments   \n",
       "3        39.08251089460281  High_spent_Medium_value_payments   \n",
       "4       39.684018417945296   High_spent_Large_value_payments   \n",
       "\n",
       "      Monthly_Balance  \n",
       "0  186.26670208571772  \n",
       "1  361.44400385378196  \n",
       "2  264.67544623342997  \n",
       "3  343.82687322383634  \n",
       "4   485.2984336755923  \n",
       "\n",
       "[5 rows x 27 columns]"
      ]
     },
     "metadata": {},
     "output_type": "display_data"
    },
    {
     "name": "stdout",
     "output_type": "stream",
     "text": [
      "Rows , cols of train dataframe : (50000, 27)\n"
     ]
    }
   ],
   "source": [
    "display(data_test.head())\n",
    "print('Rows , cols of train dataframe :', data_test.shape)"
   ]
  },
  {
   "cell_type": "code",
   "execution_count": 12,
   "id": "eca7249b",
   "metadata": {},
   "outputs": [
    {
     "name": "stdout",
     "output_type": "stream",
     "text": [
      "                     Feature                 Data Type\n",
      "0                         ID                        ID\n",
      "1                Customer_ID               Customer_ID\n",
      "2                      Month                     Month\n",
      "3                       Name                      Name\n",
      "4                        Age                       Age\n",
      "5                        SSN                       SSN\n",
      "6                 Occupation                Occupation\n",
      "7              Annual_Income             Annual_Income\n",
      "8      Monthly_Inhand_Salary     Monthly_Inhand_Salary\n",
      "9          Num_Bank_Accounts         Num_Bank_Accounts\n",
      "10           Num_Credit_Card           Num_Credit_Card\n",
      "11             Interest_Rate             Interest_Rate\n",
      "12               Num_of_Loan               Num_of_Loan\n",
      "13              Type_of_Loan              Type_of_Loan\n",
      "14       Delay_from_due_date       Delay_from_due_date\n",
      "15    Num_of_Delayed_Payment    Num_of_Delayed_Payment\n",
      "16      Changed_Credit_Limit      Changed_Credit_Limit\n",
      "17      Num_Credit_Inquiries      Num_Credit_Inquiries\n",
      "18                Credit_Mix                Credit_Mix\n",
      "19          Outstanding_Debt          Outstanding_Debt\n",
      "20  Credit_Utilization_Ratio  Credit_Utilization_Ratio\n",
      "21        Credit_History_Age        Credit_History_Age\n",
      "22     Payment_of_Min_Amount     Payment_of_Min_Amount\n",
      "23       Total_EMI_per_month       Total_EMI_per_month\n",
      "24   Amount_invested_monthly   Amount_invested_monthly\n",
      "25         Payment_Behaviour         Payment_Behaviour\n",
      "26           Monthly_Balance           Monthly_Balance\n",
      "27              Credit_Score              Credit_Score\n"
     ]
    }
   ],
   "source": [
    "# general overview of the Train dataset\n",
    "data_types(data_train)"
   ]
  },
  {
   "cell_type": "code",
   "execution_count": 13,
   "id": "8cd9854b",
   "metadata": {},
   "outputs": [
    {
     "name": "stdout",
     "output_type": "stream",
     "text": [
      "                     Feature                 Data Type\n",
      "0                         ID                        ID\n",
      "1                Customer_ID               Customer_ID\n",
      "2                      Month                     Month\n",
      "3                       Name                      Name\n",
      "4                        Age                       Age\n",
      "5                        SSN                       SSN\n",
      "6                 Occupation                Occupation\n",
      "7              Annual_Income             Annual_Income\n",
      "8      Monthly_Inhand_Salary     Monthly_Inhand_Salary\n",
      "9          Num_Bank_Accounts         Num_Bank_Accounts\n",
      "10           Num_Credit_Card           Num_Credit_Card\n",
      "11             Interest_Rate             Interest_Rate\n",
      "12               Num_of_Loan               Num_of_Loan\n",
      "13              Type_of_Loan              Type_of_Loan\n",
      "14       Delay_from_due_date       Delay_from_due_date\n",
      "15    Num_of_Delayed_Payment    Num_of_Delayed_Payment\n",
      "16      Changed_Credit_Limit      Changed_Credit_Limit\n",
      "17      Num_Credit_Inquiries      Num_Credit_Inquiries\n",
      "18                Credit_Mix                Credit_Mix\n",
      "19          Outstanding_Debt          Outstanding_Debt\n",
      "20  Credit_Utilization_Ratio  Credit_Utilization_Ratio\n",
      "21        Credit_History_Age        Credit_History_Age\n",
      "22     Payment_of_Min_Amount     Payment_of_Min_Amount\n",
      "23       Total_EMI_per_month       Total_EMI_per_month\n",
      "24   Amount_invested_monthly   Amount_invested_monthly\n",
      "25         Payment_Behaviour         Payment_Behaviour\n",
      "26           Monthly_Balance           Monthly_Balance\n"
     ]
    }
   ],
   "source": [
    "# general overview of the Test dataset\n",
    "data_types(data_test)"
   ]
  },
  {
   "cell_type": "markdown",
   "id": "192ac13d",
   "metadata": {},
   "source": [
    "### **IIb. Missing Values**<a class = \"anchor\" id = \"IIb\"></a>"
   ]
  },
  {
   "cell_type": "code",
   "execution_count": 14,
   "id": "74d541c2",
   "metadata": {},
   "outputs": [
    {
     "name": "stdout",
     "output_type": "stream",
     "text": [
      "Missing values on each column :  \n",
      "\n",
      "                      Column  Count  Percentage (%)\n",
      "0                         ID      0            0.00\n",
      "1                Customer_ID      0            0.00\n",
      "2                      Month      0            0.00\n",
      "3                       Name   9985            9.98\n",
      "4                        Age      0            0.00\n",
      "5                        SSN      0            0.00\n",
      "6                 Occupation      0            0.00\n",
      "7              Annual_Income      0            0.00\n",
      "8      Monthly_Inhand_Salary  15002           15.00\n",
      "9          Num_Bank_Accounts      0            0.00\n",
      "10           Num_Credit_Card      0            0.00\n",
      "11             Interest_Rate      0            0.00\n",
      "12               Num_of_Loan      0            0.00\n",
      "13              Type_of_Loan  11408           11.41\n",
      "14       Delay_from_due_date      0            0.00\n",
      "15    Num_of_Delayed_Payment   7002            7.00\n",
      "16      Changed_Credit_Limit      0            0.00\n",
      "17      Num_Credit_Inquiries   1965            1.97\n",
      "18                Credit_Mix      0            0.00\n",
      "19          Outstanding_Debt      0            0.00\n",
      "20  Credit_Utilization_Ratio      0            0.00\n",
      "21        Credit_History_Age   9030            9.03\n",
      "22     Payment_of_Min_Amount      0            0.00\n",
      "23       Total_EMI_per_month      0            0.00\n",
      "24   Amount_invested_monthly   4479            4.48\n",
      "25         Payment_Behaviour      0            0.00\n",
      "26           Monthly_Balance   1200            1.20\n",
      "27              Credit_Score      0            0.00\n"
     ]
    }
   ],
   "source": [
    "# reporting Train's missing values\n",
    "missing_values_perc(data_train)"
   ]
  },
  {
   "cell_type": "code",
   "execution_count": 15,
   "id": "e649cc5a",
   "metadata": {},
   "outputs": [
    {
     "name": "stdout",
     "output_type": "stream",
     "text": [
      "Missing values on each column :  \n",
      "\n",
      "                      Column  Count  Percentage (%)\n",
      "0                         ID      0            0.00\n",
      "1                Customer_ID      0            0.00\n",
      "2                      Month      0            0.00\n",
      "3                       Name   5015           10.03\n",
      "4                        Age      0            0.00\n",
      "5                        SSN      0            0.00\n",
      "6                 Occupation      0            0.00\n",
      "7              Annual_Income      0            0.00\n",
      "8      Monthly_Inhand_Salary   7498           15.00\n",
      "9          Num_Bank_Accounts      0            0.00\n",
      "10           Num_Credit_Card      0            0.00\n",
      "11             Interest_Rate      0            0.00\n",
      "12               Num_of_Loan      0            0.00\n",
      "13              Type_of_Loan   5704           11.41\n",
      "14       Delay_from_due_date      0            0.00\n",
      "15    Num_of_Delayed_Payment   3498            7.00\n",
      "16      Changed_Credit_Limit      0            0.00\n",
      "17      Num_Credit_Inquiries   1035            2.07\n",
      "18                Credit_Mix      0            0.00\n",
      "19          Outstanding_Debt      0            0.00\n",
      "20  Credit_Utilization_Ratio      0            0.00\n",
      "21        Credit_History_Age   4470            8.94\n",
      "22     Payment_of_Min_Amount      0            0.00\n",
      "23       Total_EMI_per_month      0            0.00\n",
      "24   Amount_invested_monthly   2271            4.54\n",
      "25         Payment_Behaviour      0            0.00\n",
      "26           Monthly_Balance    562            1.12\n"
     ]
    }
   ],
   "source": [
    "# reporting Test's missing values\n",
    "missing_values_perc(data_test)"
   ]
  },
  {
   "cell_type": "markdown",
   "id": "03539e85",
   "metadata": {},
   "source": [
    "### **IIc. Duplicated Entries**<a class = \"anchor\" id = \"IIc\"></a>"
   ]
  },
  {
   "cell_type": "code",
   "execution_count": 16,
   "id": "d0e73f6c",
   "metadata": {},
   "outputs": [
    {
     "name": "stdout",
     "output_type": "stream",
     "text": [
      "Duplicated data (train) :  0\n"
     ]
    }
   ],
   "source": [
    "# duplicated entries in Train dataframe\n",
    "DuplicatedValues = data_train.duplicated().sum()\n",
    "print('Duplicated data (train) : ' , (DuplicatedValues))"
   ]
  },
  {
   "cell_type": "code",
   "execution_count": 17,
   "id": "52f06e93",
   "metadata": {},
   "outputs": [
    {
     "name": "stdout",
     "output_type": "stream",
     "text": [
      "Duplicated data (test) :  0\n"
     ]
    }
   ],
   "source": [
    "# duplicated entries in Test dataframe\n",
    "DuplicatedValues = data_test.duplicated().sum()\n",
    "print('Duplicated data (test) : ' , (DuplicatedValues))"
   ]
  },
  {
   "cell_type": "markdown",
   "id": "3af600b5",
   "metadata": {},
   "source": [
    "### **IId. Unique Values**<a class = \"anchor\" id = \"IId\"></a>"
   ]
  },
  {
   "cell_type": "code",
   "execution_count": 18,
   "id": "14103f66",
   "metadata": {},
   "outputs": [
    {
     "name": "stdout",
     "output_type": "stream",
     "text": [
      "Unique values in each feature (train):\n",
      "\n",
      "                     Feature  Unique Values\n",
      "0                         ID         100000\n",
      "1                Customer_ID          12500\n",
      "2                      Month              8\n",
      "3                       Name          10139\n",
      "4                        Age           1788\n",
      "5                        SSN          12501\n",
      "6                 Occupation             16\n",
      "7              Annual_Income          18940\n",
      "8      Monthly_Inhand_Salary          13235\n",
      "9          Num_Bank_Accounts            943\n",
      "10           Num_Credit_Card           1179\n",
      "11             Interest_Rate           1750\n",
      "12               Num_of_Loan            434\n",
      "13              Type_of_Loan           6260\n",
      "14       Delay_from_due_date             73\n",
      "15    Num_of_Delayed_Payment            749\n",
      "16      Changed_Credit_Limit           4384\n",
      "17      Num_Credit_Inquiries           1223\n",
      "18                Credit_Mix              4\n",
      "19          Outstanding_Debt          13178\n",
      "20  Credit_Utilization_Ratio         100000\n",
      "21        Credit_History_Age            404\n",
      "22     Payment_of_Min_Amount              3\n",
      "23       Total_EMI_per_month          14950\n",
      "24   Amount_invested_monthly          91049\n",
      "25         Payment_Behaviour              7\n",
      "26           Monthly_Balance          98792\n",
      "27              Credit_Score              3\n"
     ]
    }
   ],
   "source": [
    "# getting the feature names in a list\n",
    "trainCols = list(data_train.columns)\n",
    "\n",
    "# calculating the number of each feature's unique values\n",
    "ListUniqueC = []\n",
    "for i in trainCols:\n",
    "    UCount = (data_train[i].nunique())\n",
    "    ListUniqueC.append(UCount)\n",
    "\n",
    "# creating the unique values table\n",
    "UniqueCTable = pd.DataFrame(list(zip(trainCols, ListUniqueC)))\n",
    "UniqueCTable.columns = ['Feature', 'Unique Values']\n",
    "\n",
    "# printing the report\n",
    "print('Unique values in each feature (train):\\n')\n",
    "print(UniqueCTable)"
   ]
  },
  {
   "cell_type": "code",
   "execution_count": 19,
   "id": "d89ac01d",
   "metadata": {},
   "outputs": [
    {
     "name": "stdout",
     "output_type": "stream",
     "text": [
      "Unique values in each feature (test):\n",
      "\n",
      "                     Feature  Unique Values\n",
      "0                         ID          50000\n",
      "1                Customer_ID          12500\n",
      "2                      Month              4\n",
      "3                       Name          10139\n",
      "4                        Age            976\n",
      "5                        SSN          12501\n",
      "6                 Occupation             16\n",
      "7              Annual_Income          16121\n",
      "8      Monthly_Inhand_Salary          12793\n",
      "9          Num_Bank_Accounts            540\n",
      "10           Num_Credit_Card            819\n",
      "11             Interest_Rate            945\n",
      "12               Num_of_Loan            263\n",
      "13              Type_of_Loan           6260\n",
      "14       Delay_from_due_date             73\n",
      "15    Num_of_Delayed_Payment            443\n",
      "16      Changed_Credit_Limit           3927\n",
      "17      Num_Credit_Inquiries            750\n",
      "18                Credit_Mix              4\n",
      "19          Outstanding_Debt          12685\n",
      "20  Credit_Utilization_Ratio          50000\n",
      "21        Credit_History_Age            399\n",
      "22     Payment_of_Min_Amount              3\n",
      "23       Total_EMI_per_month          13144\n",
      "24   Amount_invested_monthly          45450\n",
      "25         Payment_Behaviour              7\n",
      "26           Monthly_Balance          49433\n"
     ]
    }
   ],
   "source": [
    "# getting the feature names in a list\n",
    "testCols = list(data_test.columns)\n",
    "\n",
    "# calculating the number of each feature's unique values\n",
    "ListUniqueC = []\n",
    "for i in testCols:\n",
    "    UCount = (data_test[i].nunique())\n",
    "    ListUniqueC.append(UCount)\n",
    "\n",
    "# creating the unique values table\n",
    "UniqueCTable = pd.DataFrame(list(zip(testCols, ListUniqueC)))\n",
    "UniqueCTable.columns = ['Feature', 'Unique Values']\n",
    "\n",
    "# printing the report\n",
    "print('Unique values in each feature (test):\\n')\n",
    "print(UniqueCTable)"
   ]
  },
  {
   "cell_type": "markdown",
   "id": "1941e5a3",
   "metadata": {},
   "source": [
    "### **IIe. Data Exploration Findings**<a class = \"anchor\" id = \"IIe\"></a>"
   ]
  },
  {
   "cell_type": "markdown",
   "id": "0e2ff350",
   "metadata": {},
   "source": [
    "**Dataset Shape**\n",
    "* The shape of the train dataframe is (100000 x 28), while the shape of test dataframe is (50000 x 27). \n",
    "* The difference in number of entries is due to testing dataset displays the last four months for each customer, while the training dataset displays the first eight months.\n",
    "* The difference in number of features is due to training dataset has Credit_Score feature as the output feature, while the testing dataset does not have it.\n",
    "\n",
    "\n",
    "**Incorrect Data Type**\n",
    "\n",
    "*   'Annual_Income' should be float64\n",
    "*   'Num_of_Loan' should be int64\n",
    "*   'Num_of_Delayed_Payment' should be int64\n",
    "*   'Changed_Credit_Limit' should be float64\n",
    "*   'Outstanding_Debt' should be float64\n",
    "*   'Credit_History_Age' should be float64\n",
    "*   'Amount_invested_monthly' should be float64\n",
    "*   'Monthly_Balance' should be float 64\n",
    "\n",
    "\n",
    "The data type of these features are currently in categorical type, while from our observation, the data that are actually shown in these features are numerical. We need to change this later.\n",
    "\n",
    "\n",
    "**Missing Values**\n",
    "\n",
    "Train dataset:\n",
    "*   'Name'\n",
    "*   'Monthly_Inhand_Salary'\n",
    "*   'Type_of_Loan'\n",
    "*   'Num_of_Delayed_Payment'\n",
    "*   'Num_Credit_Inquiries'\n",
    "*   'Credit_History_Age'\n",
    "*   'Amount_invested_monthly'\n",
    "*   'Monthly_Balance'\n",
    "\n",
    "Test dataset:\n",
    "*   'Name'\n",
    "*   'Monthly_Inhand_Salary'\n",
    "*   'Type_of_Loan'\n",
    "*   'Num_of_Delayed_Payment'\n",
    "*   'Num_Credit_Inquiries'\n",
    "*   'Credit_History_Age'\n",
    "*   'Amount_invested_monthly'\n",
    "*   'Monthly_Balance'\n",
    "\n",
    "**Duplicated Entries**\n",
    "\n",
    "There are no duplicated entries in both Train and Test dataframes."
   ]
  },
  {
   "cell_type": "markdown",
   "id": "f53f1610",
   "metadata": {},
   "source": [
    "### **IIIa. Cleaning Categorical Features That Are Supposedly Numerical**<a class = \"anchor\" id = \"IIIa\"></a>"
   ]
  },
  {
   "cell_type": "code",
   "execution_count": 20,
   "id": "db0d395a",
   "metadata": {},
   "outputs": [
    {
     "name": "stdout",
     "output_type": "stream",
     "text": [
      "Feature: \n",
      " Age \n",
      " ['23' '-500' '28_' ... '4808_' '2263' '1342'] \n",
      " -------------------------------------------------------------------------------- \n",
      "\n",
      "Feature: \n",
      " Annual_Income \n",
      " ['19114.12' '34847.84' '34847.84_' ... '20002.88' '39628.99' '39628.99_'] \n",
      " -------------------------------------------------------------------------------- \n",
      "\n",
      "Feature: \n",
      " Num_of_Loan \n",
      " ['4' '1' '3' '967' '-100' '0' '0_' '2' '3_' '2_' '7' '5' '5_' '6' '8' '8_'\n",
      " '9' '9_' '4_' '7_' '1_' '1464' '6_' '622' '352' '472' '1017' '945' '146'\n",
      " '563' '341' '444' '720' '1485' '49' '737' '1106' '466' '728' '313' '843'\n",
      " '597_' '617' '119' '663' '640' '92_' '1019' '501' '1302' '39' '716' '848'\n",
      " '931' '1214' '186' '424' '1001' '1110' '1152' '457' '1433' '1187' '52'\n",
      " '1480' '1047' '1035' '1347_' '33' '193' '699' '329' '1451' '484' '132'\n",
      " '649' '995' '545' '684' '1135' '1094' '1204' '654' '58' '348' '614'\n",
      " '1363' '323' '1406' '1348' '430' '153' '1461' '905' '1312' '1424' '1154'\n",
      " '95' '1353' '1228' '819' '1006' '795' '359' '1209' '590' '696' '1185_'\n",
      " '1465' '911' '1181' '70' '816' '1369' '143' '1416' '455' '55' '1096'\n",
      " '1474' '420' '1131' '904' '89' '1259' '527' '1241' '449' '983' '418'\n",
      " '319' '23' '238' '638' '138' '235_' '280' '1070' '1484' '274' '494'\n",
      " '1459_' '404' '1354' '1495' '1391' '601' '1313' '1319' '898' '231' '752'\n",
      " '174' '961' '1046' '834' '284' '438' '288' '1463' '1151' '719' '198'\n",
      " '1015' '855' '841' '392' '1444' '103' '1320_' '745' '172' '252' '630_'\n",
      " '241' '31' '405' '1217' '1030' '1257' '137' '157' '164' '1088' '1236'\n",
      " '777' '1048' '613' '330' '1439' '321' '661' '952' '939' '562' '1202'\n",
      " '302' '943' '394' '955' '1318' '936' '781' '100' '1329' '1365' '860'\n",
      " '217' '191' '32' '282' '351' '1387' '757' '416' '833' '359_' '292'\n",
      " '1225_' '1227' '639' '859' '243' '267' '510' '332' '996' '597' '311'\n",
      " '492' '820' '336' '123' '540' '131_' '1311_' '1441' '895' '891' '50'\n",
      " '940' '935' '596' '29' '1182' '1129_' '1014' '251' '365' '291' '1447'\n",
      " '742' '1085' '148' '462' '832' '881' '1225' '1412' '785_' '1127' '910'\n",
      " '538' '999' '733' '101' '237' '87' '659' '633' '387' '447' '629' '831'\n",
      " '1384' '773' '621' '1419' '289' '143_' '285' '1393' '1131_' '27_' '1359'\n",
      " '1482' '1189' '1294' '201' '579' '814' '141' '1320' '581' '1171_' '295'\n",
      " '290' '433' '679' '1040' '1054' '1430' '1023' '1077' '1457' '1150' '701'\n",
      " '1382' '889' '437' '372' '1222' '126' '1159' '868' '19' '1297' '227_'\n",
      " '190' '809' '1216' '1074' '571' '520' '1274' '1340' '991' '316' '697'\n",
      " '926' '873' '1002' '378_' '65' '875' '867' '548' '652' '1372' '606'\n",
      " '1036' '1300' '17' '1178' '802' '1219_' '1271' '1137' '1496' '439' '196'\n",
      " '636' '192' '228' '1053' '229' '753' '1296' '1371' '254' '863' '464'\n",
      " '515' '838' '1160' '1289' '1298' '799' '182' '574' '527_' '242' '415'\n",
      " '869' '958' '54' '1265' '656' '275' '778' '208' '147' '350' '507' '463'\n",
      " '497' '1129' '927' '653' '662' '529' '635' '1027_' '897' '1039' '227'\n",
      " '1345' '924' '696_' '1279' '546' '1112' '1210' '526' '300' '1103' '504'\n",
      " '136' '1400' '78' '686' '1091' '344' '215' '84' '628' '1470' '968' '1478'\n",
      " '83' '1196' '1307' '1132_' '1008' '917' '657' '56' '18' '41' '801' '978'\n",
      " '216' '349' '966'] \n",
      " -------------------------------------------------------------------------------- \n",
      "\n",
      "Feature: \n",
      " Num_of_Delayed_Payment \n",
      " ['7' nan '4' '8_' '6' '1' '-1' '3_' '0' '8' '5' '3' '9' '12' '15' '17'\n",
      " '10' '2' '2_' '11' '14' '20' '22' '13' '13_' '14_' '16' '12_' '18' '19'\n",
      " '23' '24' '21' '3318' '3083' '22_' '1338' '4_' '26' '11_' '3104' '21_'\n",
      " '25' '10_' '183_' '9_' '1106' '834' '19_' '24_' '17_' '23_' '2672' '20_'\n",
      " '2008' '-3' '538' '6_' '1_' '16_' '27' '-2' '3478' '2420' '15_' '707'\n",
      " '708' '26_' '18_' '3815' '28' '5_' '1867' '2250' '1463' '25_' '7_' '4126'\n",
      " '2882' '1941' '2655' '2628' '132' '3069' '306' '0_' '3539' '3684' '1823'\n",
      " '4128' '1946' '827' '2297' '2566' '904' '182' '929' '3568' '2503' '1552'\n",
      " '2812' '1697' '3764' '851' '3905' '923' '88' '1668' '3253' '808' '2689'\n",
      " '3858' '642' '3457' '1402' '1732' '3154' '847' '3037' '2204' '3103'\n",
      " '1063' '2056' '1282' '1841' '2569_' '211' '793' '3484' '411' '3491'\n",
      " '2072' '3050' '1049' '2162' '3402' '2753' '27_' '1718' '1014' '3260'\n",
      " '3855' '84' '2311' '3251' '1832' '4069' '3010' '733' '4241' '166' '2461'\n",
      " '1749' '3200' '663_' '2185' '4161' '3009' '359' '2015' '1523' '594'\n",
      " '1079' '1199' '186' '1015' '1989' '281' '559' '2165' '1509' '3545' '779'\n",
      " '192' '4311' '-2_' '2323' '1471' '1538' '3529' '439' '3456' '3040' '2697'\n",
      " '3179' '1332' '3175' '3112' '829' '4022' '3870' '4023' '531' '1511'\n",
      " '3092' '3191' '2400' '3621' '3536' '544' '1864' '28_' '142' '2300' '264'\n",
      " '72' '497' '398' '2222' '3960' '1473' '3043' '4216' '2903' '2658' '-1_'\n",
      " '4042' '1323_' '2184' '921' '1328' '3404' '2438' '809' '47' '1996' '4164'\n",
      " '1370' '1204' '2167' '4011' '2590' '2594' '2533' '1663' '1018' '2919'\n",
      " '3458' '3316' '2589' '2801' '3355' '2529' '2488' '4266' '1243' '739'\n",
      " '845' '4107' '1884' '337' '2660' '290' '674' '2450' '3738' '1792' '2823'\n",
      " '2570' '775' '960' '482' '1706' '2493' '3623' '3031' '2794_' '2219_'\n",
      " '758_' '1849' '3559' '4096' '3726' '1953' '2657' '4043' '2938' '4384'\n",
      " '1647' '2694' '3533' '519' '2677' '2413' '-3_' '4139' '2609' '4326'\n",
      " '4211' '823' '3011' '1608' '2860' '4219' '4047' '1531' '742' '52' '4024'\n",
      " '1673' '49' '2243' '1685' '1869' '2587' '3489' '749' '1164' '2616' '848_'\n",
      " '4134' '1530' '1502' '4075' '3845' '1060' '2573' '2128' '328' '640'\n",
      " '2585' '2230' '1795' '1180' '1534' '3739' '3313' '4191' '996' '372'\n",
      " '3340' '3177' '602' '787' '4135' '3878' '4059' '1218' '4051' '1766'\n",
      " '1359' '3107' '585' '1263' '2511' '709' '3632' '4077' '2943' '2793'\n",
      " '3245' '2317' '1640' '2237_' '3819' '252' '3978' '1498' '1833' '2737'\n",
      " '1192' '1481' '700' '271' '2286' '273' '1215' '3944' '2070' '1478' '3749'\n",
      " '871' '2508' '2959' '130' '294' '3097_' '3511' '415' '2196' '2138' '2149'\n",
      " '1874' '1553' '3847' '3222' '1222' '2907' '3051' '98' '1598' '416' '2314'\n",
      " '2955' '1691' '1450' '2021' '1636' '80' '3708' '195' '320' '2945' '1911'\n",
      " '3416' '3796' '4159' '2255' '938' '4397' '3776' '2148' '1994' '853'\n",
      " '1178' '1633' '196' '3864' '714' '1687' '1034' '468' '1337' '2044' '1541'\n",
      " '3661' '1211' '2645' '2007' '102' '1891' '3162' '3142' '2566_' '2766'\n",
      " '3881' '2728' '2671' '1952' '3580' '2705' '4251' '3840_' '972' '3119'\n",
      " '3502' '4185' '2954' '683' '1614' '1572' '4302' '3447' '1852' '2131'\n",
      " '1900' '1699' '133' '2018' '2127' '508' '210' '577' '1664' '2604' '1411'\n",
      " '2351' '867' '1371' '2352' '1191' '905' '4053' '3869' '933' '3660' '3300'\n",
      " '3629' '3208' '2142' '2521' '450' '583' '876' '121' '3919' '2560' '2578'\n",
      " '2060' '813' '1236' '1489' '4360' '1154' '2544' '4172' '2924' '426'\n",
      " '4270' '2768' '3909' '3951' '2712' '2498' '3171' '1750' '197' '2569'\n",
      " '265' '4293' '887' '2707' '2397' '4337' '4249' '2751' '2950' '1859' '107'\n",
      " '2348' '2506' '2810' '2873' '1301' '2262' '1890' '3078' '3865' '3268'\n",
      " '2777' '3105' '1278' '3793' '2276' '2879' '4298' '2141' '223' '2239'\n",
      " '846' '1862' '2756' '1181' '1184' '2617' '3972' '2334' '3900' '2759'\n",
      " '4169' '2280' '2492' '2729' '3750' '1825' '309' '2431' '3099' '2080'\n",
      " '2279' '2666' '3722' '1976' '529' '1985' '3060' '4278' '3212' '46' '3148'\n",
      " '3467' '4231' '3790' '473' '1536' '3955' '2324' '2381' '1177' '371'\n",
      " '2896' '3880' '2991' '4319' '1061' '662' '4144' '693' '2006' '3115'\n",
      " '2278_' '3751' '1861' '4262' '2913' '2615' '3492' '800' '3766' '384'\n",
      " '3407' '1087' '3329' '1086' '2216' '1087_' '2457' '3522' '3274' '3488'\n",
      " '2854' '238' '351' '3706' '4280' '4095' '2926' '1329' '3370' '283' '1392'\n",
      " '1743' '2429' '974' '3156' '1133' '4388' '3243' '4282' '2523' '4281'\n",
      " '3415' '2001' '441' '94' '3499' '969' '3368' '106' '1004' '2638' '3946'\n",
      " '2956' '4324' '85' '4113' '819' '615' '1172' '2553' '1765' '3495' '2820'\n",
      " '4239' '4340' '1295_' '2636' '4295' '1653' '1325' '1879' '1096' '1735'\n",
      " '3584' '1073' '1975' '3827' '2552' '3754' '2378' '532' '926' '2376'\n",
      " '3636' '3763' '778' '2621' '804' '754' '2418' '4019' '3926' '3861_'\n",
      " '3574' '175' '162' '2834' '3765' '2354' '523' '2274' '1606' '1443' '1354'\n",
      " '2142_' '1422' '2278' '1045' '4106' '3155' '666' '659' '3229' '1216'\n",
      " '2076' '1473_' '2384' '1954' '719' '2534' '4002' '541' '2875' '4344'\n",
      " '2081' '3894' '1256' '676' '4178' '399' '86' '1571' '4037' '1967' '4005'\n",
      " '3216' '1150' '2591' '1801' '3721' '1775' '2260' '3707' '4292' '1820'\n",
      " '145' '1480' '1850' '430' '217' '3920_' '1389' '1579' '3391' '2385'\n",
      " '3336' '3392' '3688' '221' '2047'] \n",
      " -------------------------------------------------------------------------------- \n",
      "\n",
      "Feature: \n",
      " Changed_Credit_Limit \n",
      " ['11.27' '_' '6.27' ... '17.509999999999998' '25.16' '21.17'] \n",
      " -------------------------------------------------------------------------------- \n",
      "\n",
      "Feature: \n",
      " Outstanding_Debt \n",
      " ['809.98' '605.03' '1303.01' ... '3571.7_' '3571.7' '502.38'] \n",
      " -------------------------------------------------------------------------------- \n",
      "\n",
      "Feature: \n",
      " Amount_invested_monthly \n",
      " ['80.41529543900253' '118.28022162236736' '81.699521264648' ...\n",
      " '24.02847744864441' '251.67258219721603' '167.1638651610451'] \n",
      " -------------------------------------------------------------------------------- \n",
      "\n",
      "Feature: \n",
      " Monthly_Balance \n",
      " ['312.49408867943663' '284.62916249607184' '331.2098628537912' ...\n",
      " 516.8090832742814 319.1649785257098 393.6736955618808] \n",
      " -------------------------------------------------------------------------------- \n",
      "\n"
     ]
    }
   ],
   "source": [
    "# categorical features that are supposedly to be numerical instead\n",
    "FeaturesToConvert = ['Age',\n",
    "                     'Annual_Income',\n",
    "                     'Num_of_Loan',\n",
    "                     'Num_of_Delayed_Payment',\n",
    "                     'Changed_Credit_Limit',\n",
    "                     'Outstanding_Debt',\n",
    "                     'Amount_invested_monthly',\n",
    "                     'Monthly_Balance'] \n",
    "\n",
    "# 'Credit_History_Age' feature will be dealt with later (22years and 9 months)\n",
    "\n",
    "\n",
    "# checking the unique values of these features\n",
    "for feature in FeaturesToConvert:\n",
    "    uniques = data_train[feature].unique()\n",
    "    print('Feature:', '\\n',feature ,'\\n',uniques, '\\n','--'*40, '\\n')"
   ]
  },
  {
   "cell_type": "markdown",
   "id": "577ee766",
   "metadata": {},
   "source": [
    "By looking at some of the entries above, one thing that could be noticed is that some of these entries contain non-numerical character, such as '-' and '_', while they are supposed to have only numerical character. We will omit both of these special characters from the features, and see if they can be converted into numerical features afterwards."
   ]
  },
  {
   "cell_type": "code",
   "execution_count": 21,
   "id": "185c3dc0",
   "metadata": {},
   "outputs": [
    {
     "name": "stdout",
     "output_type": "stream",
     "text": [
      "train dataset: Age \n",
      " float64\n",
      "test dataset : Age \n",
      " float64 \n",
      "\n",
      "train dataset: Annual_Income \n",
      " float64\n",
      "test dataset : Annual_Income \n",
      " float64 \n",
      "\n",
      "train dataset: Num_of_Loan \n",
      " float64\n",
      "test dataset : Num_of_Loan \n",
      " float64 \n",
      "\n",
      "train dataset: Num_of_Delayed_Payment \n",
      " float64\n",
      "test dataset : Num_of_Delayed_Payment \n",
      " float64 \n",
      "\n",
      "train dataset: Changed_Credit_Limit \n",
      " float64\n",
      "test dataset : Changed_Credit_Limit \n",
      " float64 \n",
      "\n",
      "train dataset: Outstanding_Debt \n",
      " float64\n",
      "test dataset : Outstanding_Debt \n",
      " float64 \n",
      "\n",
      "train dataset: Amount_invested_monthly \n",
      " float64\n",
      "test dataset : Amount_invested_monthly \n",
      " float64 \n",
      "\n",
      "train dataset: Monthly_Balance \n",
      " float64\n",
      "test dataset : Monthly_Balance \n",
      " float64 \n",
      "\n"
     ]
    }
   ],
   "source": [
    "# removing the '-' and '_' characters\n",
    "for feature in FeaturesToConvert:\n",
    "    data_train[feature] = data_train[feature].str.strip('-_')\n",
    "    data_test[feature] = data_test[feature].str.strip('-_')\n",
    "\n",
    "# handling the empty members in each feature\n",
    "for feature in FeaturesToConvert:\n",
    "    data_train[feature] = data_train[feature].replace({'':np.nan})\n",
    "    data_test[feature] = data_test[feature].replace({'':np.nan})\n",
    "\n",
    "# trying converting the categorical features into numerical type\n",
    "for feature in FeaturesToConvert:\n",
    "    data_train[feature] = data_train[feature].astype('float64')\n",
    "    data_test[feature] = data_test[feature].astype('float64')\n",
    "\n",
    "# checking if the conversion is successful\n",
    "for feature in FeaturesToConvert:\n",
    "    print('train dataset:', feature, '\\n',\n",
    "          data_train[feature].dtype)\n",
    "    print('test dataset :', feature, '\\n',\n",
    "          data_test[feature].dtype, '\\n')"
   ]
  },
  {
   "cell_type": "markdown",
   "id": "7d5ff155",
   "metadata": {},
   "source": [
    "### **IIIb. Cleaning Strings in Credit_History_Age to be Numerical**<a class = \"anchor\" id = \"IIIb\"></a>"
   ]
  },
  {
   "cell_type": "markdown",
   "id": "f58120af",
   "metadata": {},
   "source": [
    "The data contained in this feature is meant to show a duration type of data, so for the sake of praticality when dealing with this data later in the analysis and prediction process, the type of data is better not be categorical, but numerical instead. Let's process the data contained in this feature."
   ]
  },
  {
   "cell_type": "code",
   "execution_count": 22,
   "id": "d34a0393",
   "metadata": {},
   "outputs": [
    {
     "data": {
      "text/plain": [
       "0    22 Years and 1 Months\n",
       "1                      NaN\n",
       "2    22 Years and 3 Months\n",
       "3    22 Years and 4 Months\n",
       "4    22 Years and 5 Months\n",
       "Name: Credit_History_Age, dtype: object"
      ]
     },
     "execution_count": 22,
     "metadata": {},
     "output_type": "execute_result"
    }
   ],
   "source": [
    "# taking a quick look again at the data\n",
    "data_train['Credit_History_Age'].head()"
   ]
  },
  {
   "cell_type": "markdown",
   "id": "5db3d346",
   "metadata": {},
   "source": [
    "Since the smallest unit is monthly, we are going to convert the data in monthly unit."
   ]
  },
  {
   "cell_type": "code",
   "execution_count": 23,
   "id": "1a1bdfe0",
   "metadata": {},
   "outputs": [
    {
     "data": {
      "text/plain": [
       "0    265.0\n",
       "1      NaN\n",
       "2    267.0\n",
       "3    268.0\n",
       "4    269.0\n",
       "Name: Credit_History_Age, dtype: float64"
      ]
     },
     "execution_count": 23,
     "metadata": {},
     "output_type": "execute_result"
    }
   ],
   "source": [
    "# splitting each member of the 'Credit_History_Age' feature in Train data\n",
    "SplitHistoryAge = [str(date).split(' ') for date in data_train['Credit_History_Age']]\n",
    "\n",
    "# getting the year\n",
    "CreditYear = [item[0] for item in SplitHistoryAge]\n",
    "\n",
    "# Converting the year to month\n",
    "CreditYear = [float(x) * 12 for x in CreditYear]\n",
    "\n",
    "# getting the month\n",
    "CreditMonth = []\n",
    "for item in SplitHistoryAge:\n",
    "    if len(item) > 1:\n",
    "        CreditMonth.append(item[3]) # for non-nan member\n",
    "    else:\n",
    "        CreditMonth.append(item[0]) # for nan member\n",
    "\n",
    "# combining the year and month\n",
    "CombinedCreditAge = [float(CreditYear[i]) + float(CreditMonth[i]) for i in range(len(CreditYear))]\n",
    "\n",
    "# assigning the combined month to the 'Credit_History_Age' feature\n",
    "data_train['Credit_History_Age'] = CombinedCreditAge\n",
    "\n",
    "# checking the first five rows again\n",
    "data_train['Credit_History_Age'].head()"
   ]
  },
  {
   "cell_type": "code",
   "execution_count": 24,
   "id": "78f480ab",
   "metadata": {},
   "outputs": [
    {
     "data": {
      "text/plain": [
       "0    273.0\n",
       "1    274.0\n",
       "2      NaN\n",
       "3    276.0\n",
       "4    327.0\n",
       "Name: Credit_History_Age, dtype: float64"
      ]
     },
     "execution_count": 24,
     "metadata": {},
     "output_type": "execute_result"
    }
   ],
   "source": [
    "# splitting each member of the 'Credit_History_Age' feature in Test data\n",
    "SplitHistoryAge = [str(date).split(' ') for date in data_test['Credit_History_Age']]\n",
    "\n",
    "# getting the year\n",
    "CreditYear = [item[0] for item in SplitHistoryAge]\n",
    "\n",
    "# Converting the year to month\n",
    "CreditYear = [float(x) * 12 for x in CreditYear]\n",
    "\n",
    "# getting the month\n",
    "CreditMonth = []\n",
    "for item in SplitHistoryAge:\n",
    "    if len(item) > 1:\n",
    "        CreditMonth.append(item[3]) # for non-nan member\n",
    "    else:\n",
    "        CreditMonth.append(item[0]) # for nan member\n",
    "\n",
    "# combining the year and month\n",
    "CombinedCreditAge = [float(CreditYear[i]) + float(CreditMonth[i]) for i in range(len(CreditYear))]\n",
    "\n",
    "# assigning the combined month to the 'Credit_History_Age' feature\n",
    "data_test['Credit_History_Age'] = CombinedCreditAge\n",
    "\n",
    "# checking the first five rows again\n",
    "data_test['Credit_History_Age'].head()"
   ]
  },
  {
   "cell_type": "markdown",
   "id": "df159db5",
   "metadata": {},
   "source": [
    "### **IIIc. Data Cleaning and Engineering Log**<a class = \"anchor\" id = \"IIIc\"></a>"
   ]
  },
  {
   "cell_type": "markdown",
   "id": "f6272b3b",
   "metadata": {},
   "source": [
    "**Data Cleaning and Engineering Phase 1**\n",
    "\n",
    "In the features 'Age', 'Annual_Income', 'Num_of_Loan', 'Num_of_Delayed_Payment', 'Changed_Credit_Limit', 'Outstanding_Debt', 'Amount_invested_monthly', and 'Monthly_Balance' from both Train and Test dataframes, these actions were performed :\n",
    "* Removed the characters '-' and '_'.\n",
    "* Replacing empty values with np.nan, so that the features can be converted into float.\n",
    "* Converting the features into float."
   ]
  },
  {
   "cell_type": "markdown",
   "id": "f567092d",
   "metadata": {},
   "source": [
    "## **IV. Data Exploration 2: Categorical Features**<a class = \"anchor\" id = \"IV\"></a>"
   ]
  },
  {
   "cell_type": "markdown",
   "id": "bb70ea51",
   "metadata": {},
   "source": [
    "Now that the data type of each feature has been corrected, let us proceed to checking the cleanliness of each feature itself: data validation, spelling errors, missing values, outliers, feature addition or deletion (if needed)."
   ]
  },
  {
   "cell_type": "markdown",
   "id": "3677c884",
   "metadata": {},
   "source": [
    "### **IVa. General Overview**<a class = \"anchor\" id = \"IVa\"></a>"
   ]
  },
  {
   "cell_type": "code",
   "execution_count": 25,
   "id": "c561e638",
   "metadata": {},
   "outputs": [
    {
     "name": "stdout",
     "output_type": "stream",
     "text": [
      "                     Feature                 Data Type\n",
      "0                         ID                        ID\n",
      "1                Customer_ID               Customer_ID\n",
      "2                      Month                     Month\n",
      "3                       Name                      Name\n",
      "4                        Age                       Age\n",
      "5                        SSN                       SSN\n",
      "6                 Occupation                Occupation\n",
      "7              Annual_Income             Annual_Income\n",
      "8      Monthly_Inhand_Salary     Monthly_Inhand_Salary\n",
      "9          Num_Bank_Accounts         Num_Bank_Accounts\n",
      "10           Num_Credit_Card           Num_Credit_Card\n",
      "11             Interest_Rate             Interest_Rate\n",
      "12               Num_of_Loan               Num_of_Loan\n",
      "13              Type_of_Loan              Type_of_Loan\n",
      "14       Delay_from_due_date       Delay_from_due_date\n",
      "15    Num_of_Delayed_Payment    Num_of_Delayed_Payment\n",
      "16      Changed_Credit_Limit      Changed_Credit_Limit\n",
      "17      Num_Credit_Inquiries      Num_Credit_Inquiries\n",
      "18                Credit_Mix                Credit_Mix\n",
      "19          Outstanding_Debt          Outstanding_Debt\n",
      "20  Credit_Utilization_Ratio  Credit_Utilization_Ratio\n",
      "21        Credit_History_Age        Credit_History_Age\n",
      "22     Payment_of_Min_Amount     Payment_of_Min_Amount\n",
      "23       Total_EMI_per_month       Total_EMI_per_month\n",
      "24   Amount_invested_monthly   Amount_invested_monthly\n",
      "25         Payment_Behaviour         Payment_Behaviour\n",
      "26           Monthly_Balance           Monthly_Balance\n",
      "27              Credit_Score              Credit_Score\n"
     ]
    }
   ],
   "source": [
    "# rechecking the general overview of the Train dataframe after it has been previously modified\n",
    "data_types(data_train)"
   ]
  },
  {
   "cell_type": "code",
   "execution_count": 26,
   "id": "9580cfed",
   "metadata": {},
   "outputs": [
    {
     "name": "stdout",
     "output_type": "stream",
     "text": [
      "                     Feature                 Data Type\n",
      "0                         ID                        ID\n",
      "1                Customer_ID               Customer_ID\n",
      "2                      Month                     Month\n",
      "3                       Name                      Name\n",
      "4                        Age                       Age\n",
      "5                        SSN                       SSN\n",
      "6                 Occupation                Occupation\n",
      "7              Annual_Income             Annual_Income\n",
      "8      Monthly_Inhand_Salary     Monthly_Inhand_Salary\n",
      "9          Num_Bank_Accounts         Num_Bank_Accounts\n",
      "10           Num_Credit_Card           Num_Credit_Card\n",
      "11             Interest_Rate             Interest_Rate\n",
      "12               Num_of_Loan               Num_of_Loan\n",
      "13              Type_of_Loan              Type_of_Loan\n",
      "14       Delay_from_due_date       Delay_from_due_date\n",
      "15    Num_of_Delayed_Payment    Num_of_Delayed_Payment\n",
      "16      Changed_Credit_Limit      Changed_Credit_Limit\n",
      "17      Num_Credit_Inquiries      Num_Credit_Inquiries\n",
      "18                Credit_Mix                Credit_Mix\n",
      "19          Outstanding_Debt          Outstanding_Debt\n",
      "20  Credit_Utilization_Ratio  Credit_Utilization_Ratio\n",
      "21        Credit_History_Age        Credit_History_Age\n",
      "22     Payment_of_Min_Amount     Payment_of_Min_Amount\n",
      "23       Total_EMI_per_month       Total_EMI_per_month\n",
      "24   Amount_invested_monthly   Amount_invested_monthly\n",
      "25         Payment_Behaviour         Payment_Behaviour\n",
      "26           Monthly_Balance           Monthly_Balance\n",
      "27              Credit_Score              Credit_Score\n"
     ]
    }
   ],
   "source": [
    "# rechecking the general overview of the Test dataframe after it has been previously modified\n",
    "data_types(data_train)"
   ]
  },
  {
   "cell_type": "code",
   "execution_count": 27,
   "id": "2fd9e9d0",
   "metadata": {},
   "outputs": [],
   "source": [
    "# storing the categorical column name into a list\n",
    "CatFeatures = []\n",
    "for feature in data_train.columns:\n",
    "    if data_train[feature].dtype == 'object':\n",
    "        CatFeatures.append(feature)\n",
    "\n",
    "# storing the numerical column name into a list\n",
    "NumFeatures = []\n",
    "for feature in data_train.columns:\n",
    "    if data_train[feature].dtype == 'float64' or data_train[feature].dtype == 'int64':\n",
    "        NumFeatures.append(feature)"
   ]
  },
  {
   "cell_type": "markdown",
   "id": "d5c0a949",
   "metadata": {},
   "source": [
    "### **IVb. Items Spelling Checking**<a class = \"anchor\" id = \"IVb\"></a>"
   ]
  },
  {
   "cell_type": "code",
   "execution_count": 28,
   "id": "c1f2a40b",
   "metadata": {},
   "outputs": [
    {
     "name": "stdout",
     "output_type": "stream",
     "text": [
      "Feature: \n",
      " ID \n",
      " ['0x1602' '0x1603' '0x1604' ... '0x25feb' '0x25fec' '0x25fed'] \n",
      " Unique values =  100000 \n",
      " -------------------------------------------------------------------------------- \n",
      "\n",
      "Feature: \n",
      " Customer_ID \n",
      " ['CUS_0xd40' 'CUS_0x21b1' 'CUS_0x2dbc' ... 'CUS_0xaf61' 'CUS_0x8600'\n",
      " 'CUS_0x942c'] \n",
      " Unique values =  12500 \n",
      " -------------------------------------------------------------------------------- \n",
      "\n",
      "Feature: \n",
      " Month \n",
      " ['January' 'February' 'March' 'April' 'May' 'June' 'July' 'August'] \n",
      " Unique values =  8 \n",
      " -------------------------------------------------------------------------------- \n",
      "\n",
      "Feature: \n",
      " Name \n",
      " ['Aaron Maashoh' nan 'Rick Rothackerj' ... 'Chris Wickhamm'\n",
      " 'Sarah McBridec' 'Nicks'] \n",
      " Unique values =  10139 \n",
      " -------------------------------------------------------------------------------- \n",
      "\n",
      "Feature: \n",
      " SSN \n",
      " ['821-00-0265' '#F%$D@*&8' '004-07-5839' ... '133-16-7738' '031-35-0942'\n",
      " '078-73-5990'] \n",
      " Unique values =  12501 \n",
      " -------------------------------------------------------------------------------- \n",
      "\n",
      "Feature: \n",
      " Occupation \n",
      " ['Scientist' '_______' 'Teacher' 'Engineer' 'Entrepreneur' 'Developer'\n",
      " 'Lawyer' 'Media_Manager' 'Doctor' 'Journalist' 'Manager' 'Accountant'\n",
      " 'Musician' 'Mechanic' 'Writer' 'Architect'] \n",
      " Unique values =  16 \n",
      " -------------------------------------------------------------------------------- \n",
      "\n",
      "Feature: \n",
      " Type_of_Loan \n",
      " ['Auto Loan, Credit-Builder Loan, Personal Loan, and Home Equity Loan'\n",
      " 'Credit-Builder Loan' 'Auto Loan, Auto Loan, and Not Specified' ...\n",
      " 'Home Equity Loan, Auto Loan, Auto Loan, and Auto Loan'\n",
      " 'Payday Loan, Student Loan, Mortgage Loan, and Not Specified'\n",
      " 'Personal Loan, Auto Loan, Mortgage Loan, Student Loan, and Student Loan'] \n",
      " Unique values =  6260 \n",
      " -------------------------------------------------------------------------------- \n",
      "\n",
      "Feature: \n",
      " Credit_Mix \n",
      " ['_' 'Good' 'Standard' 'Bad'] \n",
      " Unique values =  4 \n",
      " -------------------------------------------------------------------------------- \n",
      "\n",
      "Feature: \n",
      " Payment_of_Min_Amount \n",
      " ['No' 'NM' 'Yes'] \n",
      " Unique values =  3 \n",
      " -------------------------------------------------------------------------------- \n",
      "\n",
      "Feature: \n",
      " Payment_Behaviour \n",
      " ['High_spent_Small_value_payments' 'Low_spent_Large_value_payments'\n",
      " 'Low_spent_Medium_value_payments' 'Low_spent_Small_value_payments'\n",
      " 'High_spent_Medium_value_payments' '!@9#%8'\n",
      " 'High_spent_Large_value_payments'] \n",
      " Unique values =  7 \n",
      " -------------------------------------------------------------------------------- \n",
      "\n",
      "Feature: \n",
      " Credit_Score \n",
      " ['Good' 'Standard' 'Poor'] \n",
      " Unique values =  3 \n",
      " -------------------------------------------------------------------------------- \n",
      "\n"
     ]
    }
   ],
   "source": [
    "# checking the unique values of categorical features in train dataframe\n",
    "for feature in CatFeatures:\n",
    "    uniques = data_train[feature].unique()\n",
    "    print('Feature:', '\\n',\n",
    "          feature, '\\n',\n",
    "          uniques, '\\n',\n",
    "          'Unique values = ', data_train[feature].nunique(), '\\n',\n",
    "          '--'*40, '\\n')"
   ]
  },
  {
   "cell_type": "markdown",
   "id": "3fcffdbb",
   "metadata": {},
   "source": [
    "### **IVc. Data Exploration Findings**<a class = \"anchor\" id = \"IVc\"></a>"
   ]
  },
  {
   "cell_type": "markdown",
   "id": "f03517c2",
   "metadata": {},
   "source": [
    "Findings:\n",
    "\n",
    "*   Each customer data is presented in 8 months for Train dataframe, from January to August. The correlation between the total members of the ID and Customer_ID features match up this information, with ID having 100000 members and Customer_ID having 12500 members. For Test dataframe, each customer data is presented in 4 months, from September to December.\n",
    "*   The Name feature should have 12500 members as well, matching up to the value of the Customer_ID feature. The fact that the Name feature only consists of 10140 members might imply strongly that there are some of customer's names which completely miss from the dataset.\n",
    "*   The SSN feature has 12501 members, with one member having a seemingly weird data validation compared to the other members in the feature, that is: '#F%$D@*&8'.\n",
    "*   There are missing values in the Occupation feature, though not in the 'nan' format.\n",
    "*   The Type_of_Loan feature appears to have list values. Formatting will be needed for this feature.\n",
    "*   The Payment_Behavior also has a weird data validation compared to the other members in the feature, that is: '!@9#%8'\n",
    "*   Including the Occupation and Credit_Mix features, after the data with weird data validation that exists in SSN and Payment_Behavior features has been deleted, these four features will have some missing values that need to be dealt with afterwards."
   ]
  },
  {
   "cell_type": "markdown",
   "id": "8331a794",
   "metadata": {},
   "source": [
    "## **V.  Data Cleaning and Engineering Phase 2: Categorical Features**<a class = \"anchor\" id = \"V\"></a>"
   ]
  },
  {
   "cell_type": "markdown",
   "id": "e5563b57",
   "metadata": {},
   "source": [
    "### **Va. Categorical Feature: Name**<a class = \"anchor\" id = \"Va\"></a>"
   ]
  },
  {
   "cell_type": "markdown",
   "id": "0f685689",
   "metadata": {},
   "source": [
    "The Name feature usually has a purpose as a unique identifier for each entry in the dataset, in this case a unique identifier for each customer. However, since there are missing values in this column and the purpose of the feature overlaps with the Customer_ID feature anyway, the Name feature will be dropped instead."
   ]
  },
  {
   "cell_type": "code",
   "execution_count": 29,
   "id": "8102c4b7",
   "metadata": {},
   "outputs": [],
   "source": [
    "# dropping the Name feature\n",
    "data_train.drop('Name', axis = 1, inplace = True)\n",
    "data_test.drop('Name', axis = 1, inplace = True)"
   ]
  },
  {
   "cell_type": "markdown",
   "id": "1163ea39",
   "metadata": {},
   "source": [
    "### **Vb. Categorical Feature: SSN**<a class = \"anchor\" id = \"Vb\"></a>"
   ]
  },
  {
   "cell_type": "markdown",
   "id": "b09404b2",
   "metadata": {},
   "source": [
    "The '#F%$D@*&8' value will be dropped from the feature, as it contains an abnormal data validation compared to the other members in the feature."
   ]
  },
  {
   "cell_type": "code",
   "execution_count": 30,
   "id": "48883079",
   "metadata": {},
   "outputs": [
    {
     "data": {
      "text/plain": [
       "#F%$D@*&8      5572\n",
       "078-73-5990       8\n",
       "486-78-3816       8\n",
       "750-67-7525       8\n",
       "903-50-0305       8\n",
       "               ... \n",
       "856-06-6147       4\n",
       "753-72-2651       4\n",
       "331-28-1921       4\n",
       "604-62-6133       4\n",
       "286-44-9634       4\n",
       "Name: SSN, Length: 12501, dtype: int64"
      ]
     },
     "execution_count": 30,
     "metadata": {},
     "output_type": "execute_result"
    }
   ],
   "source": [
    "data_train['SSN'].value_counts()"
   ]
  },
  {
   "cell_type": "code",
   "execution_count": 31,
   "id": "76808270",
   "metadata": {},
   "outputs": [
    {
     "name": "stdout",
     "output_type": "stream",
     "text": [
      "5572\n",
      "2828\n"
     ]
    }
   ],
   "source": [
    "# dropping the '#F%$D@*&8' value from the SSN feature\n",
    "data_train['SSN'] = data_train['SSN'].replace('#F%$D@*&8', np.nan)\n",
    "data_test['SSN'] = data_test['SSN'].replace('#F%$D@*&8', np.nan)\n",
    "print(data_train['SSN'].isnull().sum())\n",
    "print(data_test['SSN'].isnull().sum())"
   ]
  },
  {
   "cell_type": "markdown",
   "id": "a068a2bf",
   "metadata": {},
   "source": [
    "The missing values now need to be filled in. SSN stands for Social Security Number, whose values are unique to each customer. Using this condition, we will be filling in the missing SSN values with the most frequently occuring method, with the Customer_ID feature as the reference."
   ]
  },
  {
   "cell_type": "code",
   "execution_count": 32,
   "id": "005ca0f7",
   "metadata": {},
   "outputs": [
    {
     "name": "stdout",
     "output_type": "stream",
     "text": [
      "0\n",
      "0\n"
     ]
    },
    {
     "data": {
      "text/plain": [
       "821-00-0265    8\n",
       "544-05-0223    8\n",
       "381-36-5261    8\n",
       "994-73-1178    8\n",
       "647-44-9598    8\n",
       "              ..\n",
       "936-12-2774    8\n",
       "091-61-1869    8\n",
       "576-38-5212    8\n",
       "281-30-1712    8\n",
       "078-73-5990    8\n",
       "Name: SSN, Length: 12500, dtype: int64"
      ]
     },
     "execution_count": 32,
     "metadata": {},
     "output_type": "execute_result"
    }
   ],
   "source": [
    "# filling in the missing values in SSN feature\n",
    "data_train['SSN'] = data_train['SSN'].fillna(data_train.groupby('Customer_ID')['SSN'].transform(lambda x:x.mode().iat[0]))\n",
    "data_test['SSN'] = data_test['SSN'].fillna(data_test.groupby('Customer_ID')['SSN'].transform(lambda x:x.mode().iat[0]))\n",
    "\n",
    "'''\n",
    "(Notes)\n",
    "_________\n",
    "\n",
    "transform used for modify the datafram\n",
    "iat[] fun is similar to iloc[] used for access data\n",
    "C_ID=12500 MEMBERS after groupby\n",
    "SSN=100000 MEMBERS after mode will be 12500 take the most frequent (If 1 value and 5 nan value take the 1 value most freq)\n",
    "(8 customer id have 8 SNN because there are 8 months==1customer)\n",
    "C_ID(With groupby) | SSN(With mode())\n",
    "1                  | [0000] \n",
    "2                  | [1111]  <== return <== SNN before(mode function)[1111-1111-1111-1111-nan-nan-nan-nan]\n",
    "3                  | [2222]\n",
    "4                  | [3333]  <== return <== SNN before(mode function)[3333-3333-3333-3333-nan-nan-nan-nan]\n",
    "5                  | [4444]\n",
    "\n",
    "\n",
    ".ita[0] ==return first value in the dataframe == 1111\n",
    "\n",
    "'''\n",
    "\n",
    "print(data_train['SSN'].isnull().sum())\n",
    "print(data_test['SSN'].isnull().sum())\n",
    "data_train['SSN'].value_counts()"
   ]
  },
  {
   "cell_type": "markdown",
   "id": "864533ba",
   "metadata": {},
   "source": [
    "### **Vc. Categorical Feature: Occupation**<a class = \"anchor\" id = \"Vc\"></a>"
   ]
  },
  {
   "cell_type": "markdown",
   "id": "7fd16c03",
   "metadata": {},
   "source": [
    "Similar to the SSN feature, each value in the Occupation feature is also unique to each customer, assuming that the customers do not change occupation during the time period contained in the dataset. We cannot immediately fill in the missing values though, since the missing values are written as '_______' and not in 'nan'. We will drop the '_______', then fill in the missing Occupation value with the most frequent value occuring for each customer."
   ]
  },
  {
   "cell_type": "code",
   "execution_count": 33,
   "id": "00a7023e",
   "metadata": {},
   "outputs": [
    {
     "data": {
      "text/plain": [
       "array(['Scientist', 'Teacher', 'Engineer', 'Entrepreneur', 'Developer',\n",
       "       'Lawyer', 'Media_Manager', 'Doctor', 'Journalist', 'Manager',\n",
       "       'Accountant', 'Musician', 'Mechanic', 'Writer', 'Architect'],\n",
       "      dtype=object)"
      ]
     },
     "metadata": {},
     "output_type": "display_data"
    },
    {
     "data": {
      "text/plain": [
       "array(['Scientist', 'Teacher', 'Engineer', 'Entrepreneur', 'Developer',\n",
       "       'Lawyer', 'Media_Manager', 'Doctor', 'Journalist', 'Manager',\n",
       "       'Accountant', 'Musician', 'Mechanic', 'Writer', 'Architect'],\n",
       "      dtype=object)"
      ]
     },
     "metadata": {},
     "output_type": "display_data"
    }
   ],
   "source": [
    "# dropping the '_______' values\n",
    "data_train['Occupation'] = data_train['Occupation'].replace('_______', np.NaN)\n",
    "data_test['Occupation'] = data_test['Occupation'].replace('_______', np.NaN)\n",
    "\n",
    "# filling in the missing values in Occupation feature\n",
    "data_train['Occupation'] = data_train['Occupation'].fillna(data_train.groupby('Customer_ID')['Occupation'].transform(lambda x:x.mode().iat[0]))\n",
    "data_test['Occupation'] = data_test['Occupation'].fillna(data_test.groupby('Customer_ID')['Occupation'].transform(lambda x:x.mode().iat[0]))\n",
    "\n",
    "# checking if there are still missing values\n",
    "display(data_train['Occupation'].unique())\n",
    "display(data_test['Occupation'].unique())"
   ]
  },
  {
   "cell_type": "markdown",
   "id": "2722ea17",
   "metadata": {},
   "source": [
    "### **Categorical Feature: Type_of_Loan**<a class = \"anchor\" id = \"Vc\"></a>"
   ]
  },
  {
   "cell_type": "markdown",
   "id": "403f5851",
   "metadata": {},
   "source": [
    "The type of data contained in the Type_of_Loan feature is actually list, though Python considers it as regular string instead. For this data cleaning process, the Type of Loan will be extended in each separated features, with the value in boolean type, plus a feature that has the value count of the Type_of_Loan of each customer. We will first try to clean the format of the string values of this feature."
   ]
  },
  {
   "cell_type": "code",
   "execution_count": 34,
   "id": "146030b4",
   "metadata": {},
   "outputs": [
    {
     "name": "stdout",
     "output_type": "stream",
     "text": [
      "Auto Loan, Credit-Builder Loan, Personal Loan, and Home Equity Loan\n",
      "<class 'str'>\n",
      "Auto Loan, Credit-Builder Loan, Personal Loan, and Home Equity Loan\n",
      "<class 'str'>\n"
     ]
    }
   ],
   "source": [
    "# checking how the data displays\n",
    "print(data_train['Type_of_Loan'][0])\n",
    "print(type(data_train['Type_of_Loan'][0]))\n",
    "print(data_test['Type_of_Loan'][0])\n",
    "print(type(data_test['Type_of_Loan'][0]))"
   ]
  },
  {
   "cell_type": "code",
   "execution_count": 35,
   "id": "fa9d1d73",
   "metadata": {},
   "outputs": [
    {
     "data": {
      "text/plain": [
       "Not Specified                                                                                                                         1408\n",
       "Credit-Builder Loan                                                                                                                   1280\n",
       "Personal Loan                                                                                                                         1272\n",
       "Debt Consolidation Loan                                                                                                               1264\n",
       "Student Loan                                                                                                                          1240\n",
       "                                                                                                                                      ... \n",
       "Not Specified, Mortgage Loan, Auto Loan, and Payday Loan                                                                                 8\n",
       "Payday Loan, Mortgage Loan, Debt Consolidation Loan, and Student Loan                                                                    8\n",
       "Debt Consolidation Loan, Auto Loan, Personal Loan, Debt Consolidation Loan, Student Loan, and Credit-Builder Loan                        8\n",
       "Student Loan, Auto Loan, Student Loan, Credit-Builder Loan, Home Equity Loan, Debt Consolidation Loan, and Debt Consolidation Loan       8\n",
       "Personal Loan, Auto Loan, Mortgage Loan, Student Loan, and Student Loan                                                                  8\n",
       "Name: Type_of_Loan, Length: 6260, dtype: int64"
      ]
     },
     "execution_count": 35,
     "metadata": {},
     "output_type": "execute_result"
    }
   ],
   "source": [
    "data_train['Type_of_Loan'].value_counts()"
   ]
  },
  {
   "cell_type": "code",
   "execution_count": 36,
   "id": "85e7a7db",
   "metadata": {},
   "outputs": [
    {
     "data": {
      "text/plain": [
       "array(['Auto Loan, Credit-Builder Loan, Personal Loan, and Home Equity Loan',\n",
       "       'Credit-Builder Loan', 'Auto Loan, Auto Loan, and Not Specified',\n",
       "       ..., 'Home Equity Loan, Auto Loan, Auto Loan, and Auto Loan',\n",
       "       'Payday Loan, Student Loan, Mortgage Loan, and Not Specified',\n",
       "       'Personal Loan, Auto Loan, Mortgage Loan, Student Loan, and Student Loan'],\n",
       "      dtype=object)"
      ]
     },
     "execution_count": 36,
     "metadata": {},
     "output_type": "execute_result"
    }
   ],
   "source": [
    "#unique values\n",
    "data_train['Type_of_Loan'].unique()"
   ]
  },
  {
   "cell_type": "code",
   "execution_count": 37,
   "id": "5848297e",
   "metadata": {},
   "outputs": [],
   "source": [
    "#converting to lowercase\n",
    "data_train['Type_of_Loan'] = data_train['Type_of_Loan'].str.lower()\n",
    "data_test['Type_of_Loan'] = data_test['Type_of_Loan'].str.lower()\n",
    "\n",
    "\n",
    "# converting every member of the feature as string (initially, the nan are categorized as float)\n",
    "data_train['Type_of_Loan'] = data_train['Type_of_Loan'].astype('str')\n",
    "data_test['Type_of_Loan'] = data_test['Type_of_Loan'].astype('str')\n",
    "\n",
    "# dropping the 'and ' strings\n",
    "data_train['Type_of_Loan'] = [item.replace('and ', '') for item in data_train['Type_of_Loan']]\n",
    "data_test['Type_of_Loan'] = [item.replace('and ', '') for item in data_test['Type_of_Loan']]"
   ]
  },
  {
   "cell_type": "code",
   "execution_count": 38,
   "id": "06244221",
   "metadata": {},
   "outputs": [
    {
     "name": "stdout",
     "output_type": "stream",
     "text": [
      "auto loan, credit-builder loan, personal loan, home equity loan\n",
      "<class 'str'>\n"
     ]
    }
   ],
   "source": [
    "print(data_train['Type_of_Loan'][0])\n",
    "print(type(data_train['Type_of_Loan'][0]))"
   ]
  },
  {
   "cell_type": "code",
   "execution_count": 39,
   "id": "1a0b5c1c",
   "metadata": {},
   "outputs": [],
   "source": [
    "# dropping unuseful blank space\n",
    "data_train['Type_of_Loan'] = [item.replace(', ', ',') for item in data_train['Type_of_Loan']]\n",
    "data_test['Type_of_Loan'] =  [item.replace(', ', ',') for item in data_test['Type_of_Loan']]\n",
    "\n",
    "# splitting each item in the member of the feature by comma delimiter\n",
    "data_train['Type_of_Loan'] = [item.split(',') for item in data_train['Type_of_Loan']]\n",
    "data_test['Type_of_Loan'] = [item.split(',') for item in data_test['Type_of_Loan']]"
   ]
  },
  {
   "cell_type": "code",
   "execution_count": 40,
   "id": "7082b367",
   "metadata": {},
   "outputs": [
    {
     "name": "stdout",
     "output_type": "stream",
     "text": [
      "['auto loan', 'credit-builder loan', 'personal loan', 'home equity loan']\n",
      "<class 'list'>\n",
      "['auto loan', 'credit-builder loan', 'personal loan', 'home equity loan']\n",
      "<class 'list'>\n"
     ]
    }
   ],
   "source": [
    "# checking if the data has been successfully formatted\n",
    "print(data_train['Type_of_Loan'][0])\n",
    "print(type(data_train['Type_of_Loan'][0]))\n",
    "print(data_test['Type_of_Loan'][0])\n",
    "print(type(data_test['Type_of_Loan'][0]))"
   ]
  },
  {
   "cell_type": "markdown",
   "id": "a72d9662",
   "metadata": {},
   "source": [
    "Now, before we spread each unique value of Type_of_Loan as separate boolean features, we will be filling in the missing values based on the frequency of each unique value. "
   ]
  },
  {
   "cell_type": "markdown",
   "id": "8c6823a3",
   "metadata": {},
   "source": [
    "#### **a. Train Dataframe**<a class = \"anchor\" id = \"Vd_a\"></a>"
   ]
  },
  {
   "cell_type": "code",
   "execution_count": 41,
   "id": "ddbe90e5",
   "metadata": {},
   "outputs": [
    {
     "data": {
      "text/html": [
       "<div>\n",
       "<style scoped>\n",
       "    .dataframe tbody tr th:only-of-type {\n",
       "        vertical-align: middle;\n",
       "    }\n",
       "\n",
       "    .dataframe tbody tr th {\n",
       "        vertical-align: top;\n",
       "    }\n",
       "\n",
       "    .dataframe thead th {\n",
       "        text-align: right;\n",
       "    }\n",
       "</style>\n",
       "<table border=\"1\" class=\"dataframe\">\n",
       "  <thead>\n",
       "    <tr style=\"text-align: right;\">\n",
       "      <th></th>\n",
       "      <th>Type_of_Loan</th>\n",
       "      <th>Count</th>\n",
       "      <th>Portion</th>\n",
       "    </tr>\n",
       "  </thead>\n",
       "  <tbody>\n",
       "    <tr>\n",
       "      <th>0</th>\n",
       "      <td>payday loan</td>\n",
       "      <td>40568</td>\n",
       "      <td>0.114830</td>\n",
       "    </tr>\n",
       "    <tr>\n",
       "      <th>1</th>\n",
       "      <td>credit-builder loan</td>\n",
       "      <td>40440</td>\n",
       "      <td>0.114468</td>\n",
       "    </tr>\n",
       "    <tr>\n",
       "      <th>2</th>\n",
       "      <td>not specified</td>\n",
       "      <td>39616</td>\n",
       "      <td>0.112135</td>\n",
       "    </tr>\n",
       "    <tr>\n",
       "      <th>3</th>\n",
       "      <td>home equity loan</td>\n",
       "      <td>39104</td>\n",
       "      <td>0.110686</td>\n",
       "    </tr>\n",
       "    <tr>\n",
       "      <th>4</th>\n",
       "      <td>student loan</td>\n",
       "      <td>38968</td>\n",
       "      <td>0.110301</td>\n",
       "    </tr>\n",
       "    <tr>\n",
       "      <th>5</th>\n",
       "      <td>mortgage loan</td>\n",
       "      <td>38936</td>\n",
       "      <td>0.110210</td>\n",
       "    </tr>\n",
       "    <tr>\n",
       "      <th>6</th>\n",
       "      <td>personal loan</td>\n",
       "      <td>38888</td>\n",
       "      <td>0.110075</td>\n",
       "    </tr>\n",
       "    <tr>\n",
       "      <th>7</th>\n",
       "      <td>debt consolidation loan</td>\n",
       "      <td>38776</td>\n",
       "      <td>0.109757</td>\n",
       "    </tr>\n",
       "    <tr>\n",
       "      <th>8</th>\n",
       "      <td>auto loan</td>\n",
       "      <td>37992</td>\n",
       "      <td>0.107538</td>\n",
       "    </tr>\n",
       "  </tbody>\n",
       "</table>\n",
       "</div>"
      ],
      "text/plain": [
       "              Type_of_Loan  Count   Portion\n",
       "0              payday loan  40568  0.114830\n",
       "1      credit-builder loan  40440  0.114468\n",
       "2            not specified  39616  0.112135\n",
       "3         home equity loan  39104  0.110686\n",
       "4             student loan  38968  0.110301\n",
       "5            mortgage loan  38936  0.110210\n",
       "6            personal loan  38888  0.110075\n",
       "7  debt consolidation loan  38776  0.109757\n",
       "8                auto loan  37992  0.107538"
      ]
     },
     "execution_count": 41,
     "metadata": {},
     "output_type": "execute_result"
    }
   ],
   "source": [
    "# unique value counts (frequency) of each unique value\n",
    "listUVcount = pd.Series([x for _list in data_train['Type_of_Loan'] for x in _list]).value_counts()\n",
    "listUVcount\n",
    "\n",
    "# Type_of_Loan unique values (excluding nan)\n",
    "listUV = list(listUVcount[:-1].index)\n",
    "listUV\n",
    "\n",
    "# the sum of all unique values (excluding nan)\n",
    "totalcount = sum(listUVcount[:-1])\n",
    "totalcount\n",
    "\n",
    "# calculating the probabilities of each unique value\n",
    "listUVportion = []\n",
    "for UVcount in listUVcount[:-1]:\n",
    "    UVportion = UVcount / totalcount\n",
    "    listUVportion.append(UVportion)\n",
    "listUVportion\n",
    "\n",
    "# creating the report table\n",
    "table = pd.DataFrame(list(zip(listUV, listUVcount[:-1], listUVportion)))\n",
    "table.columns = ['Type_of_Loan', 'Count', 'Portion']\n",
    "\n",
    "# report\n",
    "table"
   ]
  },
  {
   "cell_type": "code",
   "execution_count": 42,
   "id": "0301c034",
   "metadata": {},
   "outputs": [],
   "source": [
    "# filling in the missing Type_of_Loan data\n",
    "data_train['Type_of_Loan'] = data_train['Type_of_Loan'].fillna(pd.Series(np.random.choice(listUV,\n",
    "                                                                                p = listUVportion,\n",
    "                                                                                size = len(data_train['Type_of_Loan']))))"
   ]
  },
  {
   "cell_type": "code",
   "execution_count": 43,
   "id": "4d4b4808",
   "metadata": {},
   "outputs": [
    {
     "data": {
      "text/plain": [
       "0"
      ]
     },
     "execution_count": 43,
     "metadata": {},
     "output_type": "execute_result"
    }
   ],
   "source": [
    "# checking if there are still missing values in the Type_of_Loan feature\n",
    "data_train['Type_of_Loan'].isnull().sum()"
   ]
  },
  {
   "cell_type": "code",
   "execution_count": 44,
   "id": "e9120798",
   "metadata": {},
   "outputs": [
    {
     "data": {
      "text/plain": [
       "[nan]                                                                                                                               11408\n",
       "[not specified]                                                                                                                      1408\n",
       "[credit-builder loan]                                                                                                                1280\n",
       "[personal loan]                                                                                                                      1272\n",
       "[debt consolidation loan]                                                                                                            1264\n",
       "                                                                                                                                    ...  \n",
       "[not specified, mortgage loan, auto loan, payday loan]                                                                                  8\n",
       "[payday loan, mortgage loan, debt consolidation loan, student loan]                                                                     8\n",
       "[debt consolidation loan, auto loan, personal loan, debt consolidation loan, student loan, credit-builder loan]                         8\n",
       "[student loan, auto loan, student loan, credit-builder loan, home equity loan, debt consolidation loan, debt consolidation loan]        8\n",
       "[personal loan, auto loan, mortgage loan, student loan, student loan]                                                                   8\n",
       "Name: Type_of_Loan, Length: 6261, dtype: int64"
      ]
     },
     "execution_count": 44,
     "metadata": {},
     "output_type": "execute_result"
    }
   ],
   "source": [
    "data_train['Type_of_Loan'].value_counts()"
   ]
  },
  {
   "cell_type": "markdown",
   "id": "8559f59c",
   "metadata": {},
   "source": [
    "Now that the missing values are not present anymore, let us separate each Type_of_Loan into separate features"
   ]
  },
  {
   "cell_type": "code",
   "execution_count": 45,
   "id": "f76ae757",
   "metadata": {},
   "outputs": [
    {
     "data": {
      "text/html": [
       "<div>\n",
       "<style scoped>\n",
       "    .dataframe tbody tr th:only-of-type {\n",
       "        vertical-align: middle;\n",
       "    }\n",
       "\n",
       "    .dataframe tbody tr th {\n",
       "        vertical-align: top;\n",
       "    }\n",
       "\n",
       "    .dataframe thead th {\n",
       "        text-align: right;\n",
       "    }\n",
       "</style>\n",
       "<table border=\"1\" class=\"dataframe\">\n",
       "  <thead>\n",
       "    <tr style=\"text-align: right;\">\n",
       "      <th></th>\n",
       "      <th>auto loan</th>\n",
       "      <th>credit-builder loan</th>\n",
       "      <th>debt consolidation loan</th>\n",
       "      <th>home equity loan</th>\n",
       "      <th>mortgage loan</th>\n",
       "      <th>nan</th>\n",
       "      <th>not specified</th>\n",
       "      <th>payday loan</th>\n",
       "      <th>personal loan</th>\n",
       "      <th>student loan</th>\n",
       "    </tr>\n",
       "  </thead>\n",
       "  <tbody>\n",
       "    <tr>\n",
       "      <th>0</th>\n",
       "      <td>1</td>\n",
       "      <td>1</td>\n",
       "      <td>0</td>\n",
       "      <td>1</td>\n",
       "      <td>0</td>\n",
       "      <td>0</td>\n",
       "      <td>0</td>\n",
       "      <td>0</td>\n",
       "      <td>1</td>\n",
       "      <td>0</td>\n",
       "    </tr>\n",
       "    <tr>\n",
       "      <th>1</th>\n",
       "      <td>1</td>\n",
       "      <td>1</td>\n",
       "      <td>0</td>\n",
       "      <td>1</td>\n",
       "      <td>0</td>\n",
       "      <td>0</td>\n",
       "      <td>0</td>\n",
       "      <td>0</td>\n",
       "      <td>1</td>\n",
       "      <td>0</td>\n",
       "    </tr>\n",
       "    <tr>\n",
       "      <th>2</th>\n",
       "      <td>1</td>\n",
       "      <td>1</td>\n",
       "      <td>0</td>\n",
       "      <td>1</td>\n",
       "      <td>0</td>\n",
       "      <td>0</td>\n",
       "      <td>0</td>\n",
       "      <td>0</td>\n",
       "      <td>1</td>\n",
       "      <td>0</td>\n",
       "    </tr>\n",
       "    <tr>\n",
       "      <th>3</th>\n",
       "      <td>1</td>\n",
       "      <td>1</td>\n",
       "      <td>0</td>\n",
       "      <td>1</td>\n",
       "      <td>0</td>\n",
       "      <td>0</td>\n",
       "      <td>0</td>\n",
       "      <td>0</td>\n",
       "      <td>1</td>\n",
       "      <td>0</td>\n",
       "    </tr>\n",
       "    <tr>\n",
       "      <th>4</th>\n",
       "      <td>1</td>\n",
       "      <td>1</td>\n",
       "      <td>0</td>\n",
       "      <td>1</td>\n",
       "      <td>0</td>\n",
       "      <td>0</td>\n",
       "      <td>0</td>\n",
       "      <td>0</td>\n",
       "      <td>1</td>\n",
       "      <td>0</td>\n",
       "    </tr>\n",
       "    <tr>\n",
       "      <th>...</th>\n",
       "      <td>...</td>\n",
       "      <td>...</td>\n",
       "      <td>...</td>\n",
       "      <td>...</td>\n",
       "      <td>...</td>\n",
       "      <td>...</td>\n",
       "      <td>...</td>\n",
       "      <td>...</td>\n",
       "      <td>...</td>\n",
       "      <td>...</td>\n",
       "    </tr>\n",
       "    <tr>\n",
       "      <th>99995</th>\n",
       "      <td>1</td>\n",
       "      <td>0</td>\n",
       "      <td>0</td>\n",
       "      <td>0</td>\n",
       "      <td>0</td>\n",
       "      <td>0</td>\n",
       "      <td>0</td>\n",
       "      <td>0</td>\n",
       "      <td>0</td>\n",
       "      <td>1</td>\n",
       "    </tr>\n",
       "    <tr>\n",
       "      <th>99996</th>\n",
       "      <td>1</td>\n",
       "      <td>0</td>\n",
       "      <td>0</td>\n",
       "      <td>0</td>\n",
       "      <td>0</td>\n",
       "      <td>0</td>\n",
       "      <td>0</td>\n",
       "      <td>0</td>\n",
       "      <td>0</td>\n",
       "      <td>1</td>\n",
       "    </tr>\n",
       "    <tr>\n",
       "      <th>99997</th>\n",
       "      <td>1</td>\n",
       "      <td>0</td>\n",
       "      <td>0</td>\n",
       "      <td>0</td>\n",
       "      <td>0</td>\n",
       "      <td>0</td>\n",
       "      <td>0</td>\n",
       "      <td>0</td>\n",
       "      <td>0</td>\n",
       "      <td>1</td>\n",
       "    </tr>\n",
       "    <tr>\n",
       "      <th>99998</th>\n",
       "      <td>1</td>\n",
       "      <td>0</td>\n",
       "      <td>0</td>\n",
       "      <td>0</td>\n",
       "      <td>0</td>\n",
       "      <td>0</td>\n",
       "      <td>0</td>\n",
       "      <td>0</td>\n",
       "      <td>0</td>\n",
       "      <td>1</td>\n",
       "    </tr>\n",
       "    <tr>\n",
       "      <th>99999</th>\n",
       "      <td>1</td>\n",
       "      <td>0</td>\n",
       "      <td>0</td>\n",
       "      <td>0</td>\n",
       "      <td>0</td>\n",
       "      <td>0</td>\n",
       "      <td>0</td>\n",
       "      <td>0</td>\n",
       "      <td>0</td>\n",
       "      <td>1</td>\n",
       "    </tr>\n",
       "  </tbody>\n",
       "</table>\n",
       "<p>100000 rows × 10 columns</p>\n",
       "</div>"
      ],
      "text/plain": [
       "       auto loan  credit-builder loan  debt consolidation loan  \\\n",
       "0              1                    1                        0   \n",
       "1              1                    1                        0   \n",
       "2              1                    1                        0   \n",
       "3              1                    1                        0   \n",
       "4              1                    1                        0   \n",
       "...          ...                  ...                      ...   \n",
       "99995          1                    0                        0   \n",
       "99996          1                    0                        0   \n",
       "99997          1                    0                        0   \n",
       "99998          1                    0                        0   \n",
       "99999          1                    0                        0   \n",
       "\n",
       "       home equity loan  mortgage loan  nan  not specified  payday loan  \\\n",
       "0                     1              0    0              0            0   \n",
       "1                     1              0    0              0            0   \n",
       "2                     1              0    0              0            0   \n",
       "3                     1              0    0              0            0   \n",
       "4                     1              0    0              0            0   \n",
       "...                 ...            ...  ...            ...          ...   \n",
       "99995                 0              0    0              0            0   \n",
       "99996                 0              0    0              0            0   \n",
       "99997                 0              0    0              0            0   \n",
       "99998                 0              0    0              0            0   \n",
       "99999                 0              0    0              0            0   \n",
       "\n",
       "       personal loan  student loan  \n",
       "0                  1             0  \n",
       "1                  1             0  \n",
       "2                  1             0  \n",
       "3                  1             0  \n",
       "4                  1             0  \n",
       "...              ...           ...  \n",
       "99995              0             1  \n",
       "99996              0             1  \n",
       "99997              0             1  \n",
       "99998              0             1  \n",
       "99999              0             1  \n",
       "\n",
       "[100000 rows x 10 columns]"
      ]
     },
     "execution_count": 45,
     "metadata": {},
     "output_type": "execute_result"
    }
   ],
   "source": [
    "# converting the list of list into a dataframe(one hot encoding)\n",
    "mlb = MultiLabelBinarizer()\n",
    "transformed_data=mlb.fit_transform(data_train['Type_of_Loan'])\n",
    "#transformed_data is an array to show it converting to datafram\n",
    "df_Type_of_Loan = pd.DataFrame(transformed_data,columns=mlb.classes_)\n",
    "#mlb.classes_ get names of columns from data_train['Type_of_Loan']\n",
    "df_Type_of_Loan"
   ]
  },
  {
   "cell_type": "code",
   "execution_count": 46,
   "id": "c0aed829",
   "metadata": {},
   "outputs": [],
   "source": [
    "# dropping the nan feature\n",
    "df_Type_of_Loan.drop('nan', axis = 1, inplace = True)"
   ]
  },
  {
   "cell_type": "code",
   "execution_count": 47,
   "id": "94455ed3",
   "metadata": {},
   "outputs": [],
   "source": [
    "# saving a checkpoint\n",
    "train_ver1 = data_train.copy()\n",
    "\n",
    "# combining the original dataset and the Type_of_Loan dataset\n",
    "data_train = pd.concat([data_train, df_Type_of_Loan],\n",
    "                  axis = 1,\n",
    "                  ignore_index = False)\n",
    "\n",
    "# moving the Credit_Score feature to the end of the dataframe\n",
    "temp1 = data_train['Credit_Score'] # temporarily storing the Credit_Score feature\n",
    "data_train.drop('Credit_Score', axis = 1, inplace = True) # Dropping the feature\n",
    "data_train['Credit_Score'] = temp1 # Reinserting the Credit_Score feature"
   ]
  },
  {
   "cell_type": "code",
   "execution_count": 48,
   "id": "1e798572",
   "metadata": {},
   "outputs": [
    {
     "data": {
      "text/html": [
       "<div>\n",
       "<style scoped>\n",
       "    .dataframe tbody tr th:only-of-type {\n",
       "        vertical-align: middle;\n",
       "    }\n",
       "\n",
       "    .dataframe tbody tr th {\n",
       "        vertical-align: top;\n",
       "    }\n",
       "\n",
       "    .dataframe thead th {\n",
       "        text-align: right;\n",
       "    }\n",
       "</style>\n",
       "<table border=\"1\" class=\"dataframe\">\n",
       "  <thead>\n",
       "    <tr style=\"text-align: right;\">\n",
       "      <th></th>\n",
       "      <th>ID</th>\n",
       "      <th>Customer_ID</th>\n",
       "      <th>Month</th>\n",
       "      <th>Age</th>\n",
       "      <th>SSN</th>\n",
       "      <th>Occupation</th>\n",
       "      <th>Annual_Income</th>\n",
       "      <th>Monthly_Inhand_Salary</th>\n",
       "      <th>Num_Bank_Accounts</th>\n",
       "      <th>Num_Credit_Card</th>\n",
       "      <th>...</th>\n",
       "      <th>auto loan</th>\n",
       "      <th>credit-builder loan</th>\n",
       "      <th>debt consolidation loan</th>\n",
       "      <th>home equity loan</th>\n",
       "      <th>mortgage loan</th>\n",
       "      <th>not specified</th>\n",
       "      <th>payday loan</th>\n",
       "      <th>personal loan</th>\n",
       "      <th>student loan</th>\n",
       "      <th>Credit_Score</th>\n",
       "    </tr>\n",
       "  </thead>\n",
       "  <tbody>\n",
       "    <tr>\n",
       "      <th>0</th>\n",
       "      <td>0x1602</td>\n",
       "      <td>CUS_0xd40</td>\n",
       "      <td>January</td>\n",
       "      <td>23.0</td>\n",
       "      <td>821-00-0265</td>\n",
       "      <td>Scientist</td>\n",
       "      <td>19114.12</td>\n",
       "      <td>1824.843333</td>\n",
       "      <td>3</td>\n",
       "      <td>4</td>\n",
       "      <td>...</td>\n",
       "      <td>1</td>\n",
       "      <td>1</td>\n",
       "      <td>0</td>\n",
       "      <td>1</td>\n",
       "      <td>0</td>\n",
       "      <td>0</td>\n",
       "      <td>0</td>\n",
       "      <td>1</td>\n",
       "      <td>0</td>\n",
       "      <td>Good</td>\n",
       "    </tr>\n",
       "    <tr>\n",
       "      <th>1</th>\n",
       "      <td>0x1603</td>\n",
       "      <td>CUS_0xd40</td>\n",
       "      <td>February</td>\n",
       "      <td>23.0</td>\n",
       "      <td>821-00-0265</td>\n",
       "      <td>Scientist</td>\n",
       "      <td>19114.12</td>\n",
       "      <td>NaN</td>\n",
       "      <td>3</td>\n",
       "      <td>4</td>\n",
       "      <td>...</td>\n",
       "      <td>1</td>\n",
       "      <td>1</td>\n",
       "      <td>0</td>\n",
       "      <td>1</td>\n",
       "      <td>0</td>\n",
       "      <td>0</td>\n",
       "      <td>0</td>\n",
       "      <td>1</td>\n",
       "      <td>0</td>\n",
       "      <td>Good</td>\n",
       "    </tr>\n",
       "    <tr>\n",
       "      <th>2</th>\n",
       "      <td>0x1604</td>\n",
       "      <td>CUS_0xd40</td>\n",
       "      <td>March</td>\n",
       "      <td>500.0</td>\n",
       "      <td>821-00-0265</td>\n",
       "      <td>Scientist</td>\n",
       "      <td>19114.12</td>\n",
       "      <td>NaN</td>\n",
       "      <td>3</td>\n",
       "      <td>4</td>\n",
       "      <td>...</td>\n",
       "      <td>1</td>\n",
       "      <td>1</td>\n",
       "      <td>0</td>\n",
       "      <td>1</td>\n",
       "      <td>0</td>\n",
       "      <td>0</td>\n",
       "      <td>0</td>\n",
       "      <td>1</td>\n",
       "      <td>0</td>\n",
       "      <td>Good</td>\n",
       "    </tr>\n",
       "    <tr>\n",
       "      <th>3</th>\n",
       "      <td>0x1605</td>\n",
       "      <td>CUS_0xd40</td>\n",
       "      <td>April</td>\n",
       "      <td>23.0</td>\n",
       "      <td>821-00-0265</td>\n",
       "      <td>Scientist</td>\n",
       "      <td>19114.12</td>\n",
       "      <td>NaN</td>\n",
       "      <td>3</td>\n",
       "      <td>4</td>\n",
       "      <td>...</td>\n",
       "      <td>1</td>\n",
       "      <td>1</td>\n",
       "      <td>0</td>\n",
       "      <td>1</td>\n",
       "      <td>0</td>\n",
       "      <td>0</td>\n",
       "      <td>0</td>\n",
       "      <td>1</td>\n",
       "      <td>0</td>\n",
       "      <td>Good</td>\n",
       "    </tr>\n",
       "    <tr>\n",
       "      <th>4</th>\n",
       "      <td>0x1606</td>\n",
       "      <td>CUS_0xd40</td>\n",
       "      <td>May</td>\n",
       "      <td>23.0</td>\n",
       "      <td>821-00-0265</td>\n",
       "      <td>Scientist</td>\n",
       "      <td>19114.12</td>\n",
       "      <td>1824.843333</td>\n",
       "      <td>3</td>\n",
       "      <td>4</td>\n",
       "      <td>...</td>\n",
       "      <td>1</td>\n",
       "      <td>1</td>\n",
       "      <td>0</td>\n",
       "      <td>1</td>\n",
       "      <td>0</td>\n",
       "      <td>0</td>\n",
       "      <td>0</td>\n",
       "      <td>1</td>\n",
       "      <td>0</td>\n",
       "      <td>Good</td>\n",
       "    </tr>\n",
       "    <tr>\n",
       "      <th>...</th>\n",
       "      <td>...</td>\n",
       "      <td>...</td>\n",
       "      <td>...</td>\n",
       "      <td>...</td>\n",
       "      <td>...</td>\n",
       "      <td>...</td>\n",
       "      <td>...</td>\n",
       "      <td>...</td>\n",
       "      <td>...</td>\n",
       "      <td>...</td>\n",
       "      <td>...</td>\n",
       "      <td>...</td>\n",
       "      <td>...</td>\n",
       "      <td>...</td>\n",
       "      <td>...</td>\n",
       "      <td>...</td>\n",
       "      <td>...</td>\n",
       "      <td>...</td>\n",
       "      <td>...</td>\n",
       "      <td>...</td>\n",
       "      <td>...</td>\n",
       "    </tr>\n",
       "    <tr>\n",
       "      <th>99995</th>\n",
       "      <td>0x25fe9</td>\n",
       "      <td>CUS_0x942c</td>\n",
       "      <td>April</td>\n",
       "      <td>25.0</td>\n",
       "      <td>078-73-5990</td>\n",
       "      <td>Mechanic</td>\n",
       "      <td>39628.99</td>\n",
       "      <td>3359.415833</td>\n",
       "      <td>4</td>\n",
       "      <td>6</td>\n",
       "      <td>...</td>\n",
       "      <td>1</td>\n",
       "      <td>0</td>\n",
       "      <td>0</td>\n",
       "      <td>0</td>\n",
       "      <td>0</td>\n",
       "      <td>0</td>\n",
       "      <td>0</td>\n",
       "      <td>0</td>\n",
       "      <td>1</td>\n",
       "      <td>Poor</td>\n",
       "    </tr>\n",
       "    <tr>\n",
       "      <th>99996</th>\n",
       "      <td>0x25fea</td>\n",
       "      <td>CUS_0x942c</td>\n",
       "      <td>May</td>\n",
       "      <td>25.0</td>\n",
       "      <td>078-73-5990</td>\n",
       "      <td>Mechanic</td>\n",
       "      <td>39628.99</td>\n",
       "      <td>3359.415833</td>\n",
       "      <td>4</td>\n",
       "      <td>6</td>\n",
       "      <td>...</td>\n",
       "      <td>1</td>\n",
       "      <td>0</td>\n",
       "      <td>0</td>\n",
       "      <td>0</td>\n",
       "      <td>0</td>\n",
       "      <td>0</td>\n",
       "      <td>0</td>\n",
       "      <td>0</td>\n",
       "      <td>1</td>\n",
       "      <td>Poor</td>\n",
       "    </tr>\n",
       "    <tr>\n",
       "      <th>99997</th>\n",
       "      <td>0x25feb</td>\n",
       "      <td>CUS_0x942c</td>\n",
       "      <td>June</td>\n",
       "      <td>25.0</td>\n",
       "      <td>078-73-5990</td>\n",
       "      <td>Mechanic</td>\n",
       "      <td>39628.99</td>\n",
       "      <td>3359.415833</td>\n",
       "      <td>4</td>\n",
       "      <td>6</td>\n",
       "      <td>...</td>\n",
       "      <td>1</td>\n",
       "      <td>0</td>\n",
       "      <td>0</td>\n",
       "      <td>0</td>\n",
       "      <td>0</td>\n",
       "      <td>0</td>\n",
       "      <td>0</td>\n",
       "      <td>0</td>\n",
       "      <td>1</td>\n",
       "      <td>Poor</td>\n",
       "    </tr>\n",
       "    <tr>\n",
       "      <th>99998</th>\n",
       "      <td>0x25fec</td>\n",
       "      <td>CUS_0x942c</td>\n",
       "      <td>July</td>\n",
       "      <td>25.0</td>\n",
       "      <td>078-73-5990</td>\n",
       "      <td>Mechanic</td>\n",
       "      <td>39628.99</td>\n",
       "      <td>3359.415833</td>\n",
       "      <td>4</td>\n",
       "      <td>6</td>\n",
       "      <td>...</td>\n",
       "      <td>1</td>\n",
       "      <td>0</td>\n",
       "      <td>0</td>\n",
       "      <td>0</td>\n",
       "      <td>0</td>\n",
       "      <td>0</td>\n",
       "      <td>0</td>\n",
       "      <td>0</td>\n",
       "      <td>1</td>\n",
       "      <td>Standard</td>\n",
       "    </tr>\n",
       "    <tr>\n",
       "      <th>99999</th>\n",
       "      <td>0x25fed</td>\n",
       "      <td>CUS_0x942c</td>\n",
       "      <td>August</td>\n",
       "      <td>25.0</td>\n",
       "      <td>078-73-5990</td>\n",
       "      <td>Mechanic</td>\n",
       "      <td>39628.99</td>\n",
       "      <td>3359.415833</td>\n",
       "      <td>4</td>\n",
       "      <td>6</td>\n",
       "      <td>...</td>\n",
       "      <td>1</td>\n",
       "      <td>0</td>\n",
       "      <td>0</td>\n",
       "      <td>0</td>\n",
       "      <td>0</td>\n",
       "      <td>0</td>\n",
       "      <td>0</td>\n",
       "      <td>0</td>\n",
       "      <td>1</td>\n",
       "      <td>Poor</td>\n",
       "    </tr>\n",
       "  </tbody>\n",
       "</table>\n",
       "<p>100000 rows × 36 columns</p>\n",
       "</div>"
      ],
      "text/plain": [
       "            ID Customer_ID     Month    Age          SSN Occupation  \\\n",
       "0       0x1602   CUS_0xd40   January   23.0  821-00-0265  Scientist   \n",
       "1       0x1603   CUS_0xd40  February   23.0  821-00-0265  Scientist   \n",
       "2       0x1604   CUS_0xd40     March  500.0  821-00-0265  Scientist   \n",
       "3       0x1605   CUS_0xd40     April   23.0  821-00-0265  Scientist   \n",
       "4       0x1606   CUS_0xd40       May   23.0  821-00-0265  Scientist   \n",
       "...        ...         ...       ...    ...          ...        ...   \n",
       "99995  0x25fe9  CUS_0x942c     April   25.0  078-73-5990   Mechanic   \n",
       "99996  0x25fea  CUS_0x942c       May   25.0  078-73-5990   Mechanic   \n",
       "99997  0x25feb  CUS_0x942c      June   25.0  078-73-5990   Mechanic   \n",
       "99998  0x25fec  CUS_0x942c      July   25.0  078-73-5990   Mechanic   \n",
       "99999  0x25fed  CUS_0x942c    August   25.0  078-73-5990   Mechanic   \n",
       "\n",
       "       Annual_Income  Monthly_Inhand_Salary  Num_Bank_Accounts  \\\n",
       "0           19114.12            1824.843333                  3   \n",
       "1           19114.12                    NaN                  3   \n",
       "2           19114.12                    NaN                  3   \n",
       "3           19114.12                    NaN                  3   \n",
       "4           19114.12            1824.843333                  3   \n",
       "...              ...                    ...                ...   \n",
       "99995       39628.99            3359.415833                  4   \n",
       "99996       39628.99            3359.415833                  4   \n",
       "99997       39628.99            3359.415833                  4   \n",
       "99998       39628.99            3359.415833                  4   \n",
       "99999       39628.99            3359.415833                  4   \n",
       "\n",
       "       Num_Credit_Card  ...  auto loan  credit-builder loan  \\\n",
       "0                    4  ...          1                    1   \n",
       "1                    4  ...          1                    1   \n",
       "2                    4  ...          1                    1   \n",
       "3                    4  ...          1                    1   \n",
       "4                    4  ...          1                    1   \n",
       "...                ...  ...        ...                  ...   \n",
       "99995                6  ...          1                    0   \n",
       "99996                6  ...          1                    0   \n",
       "99997                6  ...          1                    0   \n",
       "99998                6  ...          1                    0   \n",
       "99999                6  ...          1                    0   \n",
       "\n",
       "      debt consolidation loan  home equity loan  mortgage loan  not specified  \\\n",
       "0                           0                 1              0              0   \n",
       "1                           0                 1              0              0   \n",
       "2                           0                 1              0              0   \n",
       "3                           0                 1              0              0   \n",
       "4                           0                 1              0              0   \n",
       "...                       ...               ...            ...            ...   \n",
       "99995                       0                 0              0              0   \n",
       "99996                       0                 0              0              0   \n",
       "99997                       0                 0              0              0   \n",
       "99998                       0                 0              0              0   \n",
       "99999                       0                 0              0              0   \n",
       "\n",
       "       payday loan personal loan  student loan  Credit_Score  \n",
       "0                0             1             0          Good  \n",
       "1                0             1             0          Good  \n",
       "2                0             1             0          Good  \n",
       "3                0             1             0          Good  \n",
       "4                0             1             0          Good  \n",
       "...            ...           ...           ...           ...  \n",
       "99995            0             0             1          Poor  \n",
       "99996            0             0             1          Poor  \n",
       "99997            0             0             1          Poor  \n",
       "99998            0             0             1      Standard  \n",
       "99999            0             0             1          Poor  \n",
       "\n",
       "[100000 rows x 36 columns]"
      ]
     },
     "execution_count": 48,
     "metadata": {},
     "output_type": "execute_result"
    }
   ],
   "source": [
    "data_train"
   ]
  },
  {
   "cell_type": "markdown",
   "id": "b249cae9",
   "metadata": {},
   "source": [
    "#### **b. Test Dataframe**<a class = \"anchor\" id = \"Vd_b\"></a>"
   ]
  },
  {
   "cell_type": "code",
   "execution_count": 49,
   "id": "415ed0e2",
   "metadata": {},
   "outputs": [
    {
     "data": {
      "text/html": [
       "<div>\n",
       "<style scoped>\n",
       "    .dataframe tbody tr th:only-of-type {\n",
       "        vertical-align: middle;\n",
       "    }\n",
       "\n",
       "    .dataframe tbody tr th {\n",
       "        vertical-align: top;\n",
       "    }\n",
       "\n",
       "    .dataframe thead th {\n",
       "        text-align: right;\n",
       "    }\n",
       "</style>\n",
       "<table border=\"1\" class=\"dataframe\">\n",
       "  <thead>\n",
       "    <tr style=\"text-align: right;\">\n",
       "      <th></th>\n",
       "      <th>Type_of_Loan</th>\n",
       "      <th>Count</th>\n",
       "      <th>Portion</th>\n",
       "    </tr>\n",
       "  </thead>\n",
       "  <tbody>\n",
       "    <tr>\n",
       "      <th>0</th>\n",
       "      <td>payday loan</td>\n",
       "      <td>20284</td>\n",
       "      <td>0.114830</td>\n",
       "    </tr>\n",
       "    <tr>\n",
       "      <th>1</th>\n",
       "      <td>credit-builder loan</td>\n",
       "      <td>20220</td>\n",
       "      <td>0.114468</td>\n",
       "    </tr>\n",
       "    <tr>\n",
       "      <th>2</th>\n",
       "      <td>not specified</td>\n",
       "      <td>19808</td>\n",
       "      <td>0.112135</td>\n",
       "    </tr>\n",
       "    <tr>\n",
       "      <th>3</th>\n",
       "      <td>home equity loan</td>\n",
       "      <td>19552</td>\n",
       "      <td>0.110686</td>\n",
       "    </tr>\n",
       "    <tr>\n",
       "      <th>4</th>\n",
       "      <td>student loan</td>\n",
       "      <td>19484</td>\n",
       "      <td>0.110301</td>\n",
       "    </tr>\n",
       "    <tr>\n",
       "      <th>5</th>\n",
       "      <td>mortgage loan</td>\n",
       "      <td>19468</td>\n",
       "      <td>0.110210</td>\n",
       "    </tr>\n",
       "    <tr>\n",
       "      <th>6</th>\n",
       "      <td>personal loan</td>\n",
       "      <td>19444</td>\n",
       "      <td>0.110075</td>\n",
       "    </tr>\n",
       "    <tr>\n",
       "      <th>7</th>\n",
       "      <td>debt consolidation loan</td>\n",
       "      <td>19388</td>\n",
       "      <td>0.109757</td>\n",
       "    </tr>\n",
       "    <tr>\n",
       "      <th>8</th>\n",
       "      <td>auto loan</td>\n",
       "      <td>18996</td>\n",
       "      <td>0.107538</td>\n",
       "    </tr>\n",
       "  </tbody>\n",
       "</table>\n",
       "</div>"
      ],
      "text/plain": [
       "              Type_of_Loan  Count   Portion\n",
       "0              payday loan  20284  0.114830\n",
       "1      credit-builder loan  20220  0.114468\n",
       "2            not specified  19808  0.112135\n",
       "3         home equity loan  19552  0.110686\n",
       "4             student loan  19484  0.110301\n",
       "5            mortgage loan  19468  0.110210\n",
       "6            personal loan  19444  0.110075\n",
       "7  debt consolidation loan  19388  0.109757\n",
       "8                auto loan  18996  0.107538"
      ]
     },
     "execution_count": 49,
     "metadata": {},
     "output_type": "execute_result"
    }
   ],
   "source": [
    "# unique value counts (frequency) of each unique value\n",
    "listUVcount = pd.Series([x for _list in data_test['Type_of_Loan'] for x in _list]).value_counts()\n",
    "listUVcount\n",
    "\n",
    "# Type_of_Loan unique values (excluding nan)\n",
    "listUV = list(listUVcount[:-1].index)\n",
    "listUV\n",
    "\n",
    "# the sum of all unique values (excluding nan)\n",
    "totalcount = sum(listUVcount[:-1])\n",
    "totalcount\n",
    "\n",
    "# calculating the probabilities of each unique value\n",
    "listUVportion = []\n",
    "for UVcount in listUVcount[:-1]:\n",
    "    UVportion = UVcount / totalcount\n",
    "    listUVportion.append(UVportion)\n",
    "listUVportion\n",
    "\n",
    "# creating the report table\n",
    "table = pd.DataFrame(list(zip(listUV, listUVcount[:-1], listUVportion)))\n",
    "table.columns = ['Type_of_Loan', 'Count', 'Portion']\n",
    "\n",
    "# report\n",
    "table"
   ]
  },
  {
   "cell_type": "code",
   "execution_count": 50,
   "id": "744578d0",
   "metadata": {},
   "outputs": [],
   "source": [
    "# filling in the missing Type_of_Loan data\n",
    "data_test['Type_of_Loan'] = data_test['Type_of_Loan'].fillna(pd.Series(np.random.choice(listUV,\n",
    "                                                                                p = listUVportion,\n",
    "                                                                                size = len(data_test['Type_of_Loan']))))"
   ]
  },
  {
   "cell_type": "code",
   "execution_count": 51,
   "id": "d88b9203",
   "metadata": {},
   "outputs": [
    {
     "data": {
      "text/plain": [
       "0"
      ]
     },
     "execution_count": 51,
     "metadata": {},
     "output_type": "execute_result"
    }
   ],
   "source": [
    "# checking if there are still missing values in the Type_of_Loan feature\n",
    "data_test['Type_of_Loan'].isnull().sum()"
   ]
  },
  {
   "cell_type": "code",
   "execution_count": 52,
   "id": "f54ff128",
   "metadata": {},
   "outputs": [
    {
     "data": {
      "text/plain": [
       "[nan]                                                                                                                               5704\n",
       "[not specified]                                                                                                                      704\n",
       "[credit-builder loan]                                                                                                                640\n",
       "[personal loan]                                                                                                                      636\n",
       "[debt consolidation loan]                                                                                                            632\n",
       "                                                                                                                                    ... \n",
       "[not specified, mortgage loan, auto loan, payday loan]                                                                                 4\n",
       "[payday loan, mortgage loan, debt consolidation loan, student loan]                                                                    4\n",
       "[debt consolidation loan, auto loan, personal loan, debt consolidation loan, student loan, credit-builder loan]                        4\n",
       "[student loan, auto loan, student loan, credit-builder loan, home equity loan, debt consolidation loan, debt consolidation loan]       4\n",
       "[personal loan, auto loan, mortgage loan, student loan, student loan]                                                                  4\n",
       "Name: Type_of_Loan, Length: 6261, dtype: int64"
      ]
     },
     "execution_count": 52,
     "metadata": {},
     "output_type": "execute_result"
    }
   ],
   "source": [
    "data_test['Type_of_Loan'].value_counts()"
   ]
  },
  {
   "cell_type": "markdown",
   "id": "4a5c8148",
   "metadata": {},
   "source": [
    "Now that the missing values are not present anymore, let us separate each Type_of_Loan into separate features"
   ]
  },
  {
   "cell_type": "code",
   "execution_count": 53,
   "id": "9c89bc2b",
   "metadata": {},
   "outputs": [
    {
     "data": {
      "text/html": [
       "<div>\n",
       "<style scoped>\n",
       "    .dataframe tbody tr th:only-of-type {\n",
       "        vertical-align: middle;\n",
       "    }\n",
       "\n",
       "    .dataframe tbody tr th {\n",
       "        vertical-align: top;\n",
       "    }\n",
       "\n",
       "    .dataframe thead th {\n",
       "        text-align: right;\n",
       "    }\n",
       "</style>\n",
       "<table border=\"1\" class=\"dataframe\">\n",
       "  <thead>\n",
       "    <tr style=\"text-align: right;\">\n",
       "      <th></th>\n",
       "      <th>auto loan</th>\n",
       "      <th>credit-builder loan</th>\n",
       "      <th>debt consolidation loan</th>\n",
       "      <th>home equity loan</th>\n",
       "      <th>mortgage loan</th>\n",
       "      <th>nan</th>\n",
       "      <th>not specified</th>\n",
       "      <th>payday loan</th>\n",
       "      <th>personal loan</th>\n",
       "      <th>student loan</th>\n",
       "    </tr>\n",
       "  </thead>\n",
       "  <tbody>\n",
       "    <tr>\n",
       "      <th>0</th>\n",
       "      <td>1</td>\n",
       "      <td>1</td>\n",
       "      <td>0</td>\n",
       "      <td>1</td>\n",
       "      <td>0</td>\n",
       "      <td>0</td>\n",
       "      <td>0</td>\n",
       "      <td>0</td>\n",
       "      <td>1</td>\n",
       "      <td>0</td>\n",
       "    </tr>\n",
       "    <tr>\n",
       "      <th>1</th>\n",
       "      <td>1</td>\n",
       "      <td>1</td>\n",
       "      <td>0</td>\n",
       "      <td>1</td>\n",
       "      <td>0</td>\n",
       "      <td>0</td>\n",
       "      <td>0</td>\n",
       "      <td>0</td>\n",
       "      <td>1</td>\n",
       "      <td>0</td>\n",
       "    </tr>\n",
       "    <tr>\n",
       "      <th>2</th>\n",
       "      <td>1</td>\n",
       "      <td>1</td>\n",
       "      <td>0</td>\n",
       "      <td>1</td>\n",
       "      <td>0</td>\n",
       "      <td>0</td>\n",
       "      <td>0</td>\n",
       "      <td>0</td>\n",
       "      <td>1</td>\n",
       "      <td>0</td>\n",
       "    </tr>\n",
       "    <tr>\n",
       "      <th>3</th>\n",
       "      <td>1</td>\n",
       "      <td>1</td>\n",
       "      <td>0</td>\n",
       "      <td>1</td>\n",
       "      <td>0</td>\n",
       "      <td>0</td>\n",
       "      <td>0</td>\n",
       "      <td>0</td>\n",
       "      <td>1</td>\n",
       "      <td>0</td>\n",
       "    </tr>\n",
       "    <tr>\n",
       "      <th>4</th>\n",
       "      <td>0</td>\n",
       "      <td>1</td>\n",
       "      <td>0</td>\n",
       "      <td>0</td>\n",
       "      <td>0</td>\n",
       "      <td>0</td>\n",
       "      <td>0</td>\n",
       "      <td>0</td>\n",
       "      <td>0</td>\n",
       "      <td>0</td>\n",
       "    </tr>\n",
       "    <tr>\n",
       "      <th>...</th>\n",
       "      <td>...</td>\n",
       "      <td>...</td>\n",
       "      <td>...</td>\n",
       "      <td>...</td>\n",
       "      <td>...</td>\n",
       "      <td>...</td>\n",
       "      <td>...</td>\n",
       "      <td>...</td>\n",
       "      <td>...</td>\n",
       "      <td>...</td>\n",
       "    </tr>\n",
       "    <tr>\n",
       "      <th>49995</th>\n",
       "      <td>1</td>\n",
       "      <td>0</td>\n",
       "      <td>0</td>\n",
       "      <td>0</td>\n",
       "      <td>1</td>\n",
       "      <td>0</td>\n",
       "      <td>0</td>\n",
       "      <td>0</td>\n",
       "      <td>1</td>\n",
       "      <td>1</td>\n",
       "    </tr>\n",
       "    <tr>\n",
       "      <th>49996</th>\n",
       "      <td>1</td>\n",
       "      <td>0</td>\n",
       "      <td>0</td>\n",
       "      <td>0</td>\n",
       "      <td>0</td>\n",
       "      <td>0</td>\n",
       "      <td>0</td>\n",
       "      <td>0</td>\n",
       "      <td>0</td>\n",
       "      <td>1</td>\n",
       "    </tr>\n",
       "    <tr>\n",
       "      <th>49997</th>\n",
       "      <td>1</td>\n",
       "      <td>0</td>\n",
       "      <td>0</td>\n",
       "      <td>0</td>\n",
       "      <td>0</td>\n",
       "      <td>0</td>\n",
       "      <td>0</td>\n",
       "      <td>0</td>\n",
       "      <td>0</td>\n",
       "      <td>1</td>\n",
       "    </tr>\n",
       "    <tr>\n",
       "      <th>49998</th>\n",
       "      <td>1</td>\n",
       "      <td>0</td>\n",
       "      <td>0</td>\n",
       "      <td>0</td>\n",
       "      <td>0</td>\n",
       "      <td>0</td>\n",
       "      <td>0</td>\n",
       "      <td>0</td>\n",
       "      <td>0</td>\n",
       "      <td>1</td>\n",
       "    </tr>\n",
       "    <tr>\n",
       "      <th>49999</th>\n",
       "      <td>1</td>\n",
       "      <td>0</td>\n",
       "      <td>0</td>\n",
       "      <td>0</td>\n",
       "      <td>0</td>\n",
       "      <td>0</td>\n",
       "      <td>0</td>\n",
       "      <td>0</td>\n",
       "      <td>0</td>\n",
       "      <td>1</td>\n",
       "    </tr>\n",
       "  </tbody>\n",
       "</table>\n",
       "<p>50000 rows × 10 columns</p>\n",
       "</div>"
      ],
      "text/plain": [
       "       auto loan  credit-builder loan  debt consolidation loan  \\\n",
       "0              1                    1                        0   \n",
       "1              1                    1                        0   \n",
       "2              1                    1                        0   \n",
       "3              1                    1                        0   \n",
       "4              0                    1                        0   \n",
       "...          ...                  ...                      ...   \n",
       "49995          1                    0                        0   \n",
       "49996          1                    0                        0   \n",
       "49997          1                    0                        0   \n",
       "49998          1                    0                        0   \n",
       "49999          1                    0                        0   \n",
       "\n",
       "       home equity loan  mortgage loan  nan  not specified  payday loan  \\\n",
       "0                     1              0    0              0            0   \n",
       "1                     1              0    0              0            0   \n",
       "2                     1              0    0              0            0   \n",
       "3                     1              0    0              0            0   \n",
       "4                     0              0    0              0            0   \n",
       "...                 ...            ...  ...            ...          ...   \n",
       "49995                 0              1    0              0            0   \n",
       "49996                 0              0    0              0            0   \n",
       "49997                 0              0    0              0            0   \n",
       "49998                 0              0    0              0            0   \n",
       "49999                 0              0    0              0            0   \n",
       "\n",
       "       personal loan  student loan  \n",
       "0                  1             0  \n",
       "1                  1             0  \n",
       "2                  1             0  \n",
       "3                  1             0  \n",
       "4                  0             0  \n",
       "...              ...           ...  \n",
       "49995              1             1  \n",
       "49996              0             1  \n",
       "49997              0             1  \n",
       "49998              0             1  \n",
       "49999              0             1  \n",
       "\n",
       "[50000 rows x 10 columns]"
      ]
     },
     "execution_count": 53,
     "metadata": {},
     "output_type": "execute_result"
    }
   ],
   "source": [
    "# converting the list of list into a dataframe(one hot encoding)\n",
    "mlb = MultiLabelBinarizer()\n",
    "transformed_data=mlb.fit_transform(data_test['Type_of_Loan'])\n",
    "#transformed_data is an array to show it converting to datafram\n",
    "df_Type_of_Loan = pd.DataFrame(transformed_data,columns=mlb.classes_)\n",
    "#mlb.classes_ get names of columns from data_train['Type_of_Loan']\n",
    "df_Type_of_Loan"
   ]
  },
  {
   "cell_type": "code",
   "execution_count": 54,
   "id": "554f3e1d",
   "metadata": {},
   "outputs": [],
   "source": [
    "# dropping the nan feature\n",
    "df_Type_of_Loan.drop('nan', axis = 1, inplace = True)"
   ]
  },
  {
   "cell_type": "code",
   "execution_count": 55,
   "id": "e74b58a1",
   "metadata": {},
   "outputs": [],
   "source": [
    "# saving a checkpoint\n",
    "test_ver1 = data_test.copy()\n",
    "\n",
    "# combining the original dataset and the Type_of_Loan dataset\n",
    "data_test = pd.concat([data_test, df_Type_of_Loan],\n",
    "                  axis = 1,\n",
    "                  ignore_index = False)\n"
   ]
  },
  {
   "cell_type": "code",
   "execution_count": 56,
   "id": "ee70b3a0",
   "metadata": {},
   "outputs": [
    {
     "data": {
      "text/html": [
       "<div>\n",
       "<style scoped>\n",
       "    .dataframe tbody tr th:only-of-type {\n",
       "        vertical-align: middle;\n",
       "    }\n",
       "\n",
       "    .dataframe tbody tr th {\n",
       "        vertical-align: top;\n",
       "    }\n",
       "\n",
       "    .dataframe thead th {\n",
       "        text-align: right;\n",
       "    }\n",
       "</style>\n",
       "<table border=\"1\" class=\"dataframe\">\n",
       "  <thead>\n",
       "    <tr style=\"text-align: right;\">\n",
       "      <th></th>\n",
       "      <th>ID</th>\n",
       "      <th>Customer_ID</th>\n",
       "      <th>Month</th>\n",
       "      <th>Age</th>\n",
       "      <th>SSN</th>\n",
       "      <th>Occupation</th>\n",
       "      <th>Annual_Income</th>\n",
       "      <th>Monthly_Inhand_Salary</th>\n",
       "      <th>Num_Bank_Accounts</th>\n",
       "      <th>Num_Credit_Card</th>\n",
       "      <th>...</th>\n",
       "      <th>Monthly_Balance</th>\n",
       "      <th>auto loan</th>\n",
       "      <th>credit-builder loan</th>\n",
       "      <th>debt consolidation loan</th>\n",
       "      <th>home equity loan</th>\n",
       "      <th>mortgage loan</th>\n",
       "      <th>not specified</th>\n",
       "      <th>payday loan</th>\n",
       "      <th>personal loan</th>\n",
       "      <th>student loan</th>\n",
       "    </tr>\n",
       "  </thead>\n",
       "  <tbody>\n",
       "    <tr>\n",
       "      <th>0</th>\n",
       "      <td>0x160a</td>\n",
       "      <td>CUS_0xd40</td>\n",
       "      <td>September</td>\n",
       "      <td>23.0</td>\n",
       "      <td>821-00-0265</td>\n",
       "      <td>Scientist</td>\n",
       "      <td>19114.12</td>\n",
       "      <td>1824.843333</td>\n",
       "      <td>3</td>\n",
       "      <td>4</td>\n",
       "      <td>...</td>\n",
       "      <td>186.266702</td>\n",
       "      <td>1</td>\n",
       "      <td>1</td>\n",
       "      <td>0</td>\n",
       "      <td>1</td>\n",
       "      <td>0</td>\n",
       "      <td>0</td>\n",
       "      <td>0</td>\n",
       "      <td>1</td>\n",
       "      <td>0</td>\n",
       "    </tr>\n",
       "    <tr>\n",
       "      <th>1</th>\n",
       "      <td>0x160b</td>\n",
       "      <td>CUS_0xd40</td>\n",
       "      <td>October</td>\n",
       "      <td>24.0</td>\n",
       "      <td>821-00-0265</td>\n",
       "      <td>Scientist</td>\n",
       "      <td>19114.12</td>\n",
       "      <td>1824.843333</td>\n",
       "      <td>3</td>\n",
       "      <td>4</td>\n",
       "      <td>...</td>\n",
       "      <td>361.444004</td>\n",
       "      <td>1</td>\n",
       "      <td>1</td>\n",
       "      <td>0</td>\n",
       "      <td>1</td>\n",
       "      <td>0</td>\n",
       "      <td>0</td>\n",
       "      <td>0</td>\n",
       "      <td>1</td>\n",
       "      <td>0</td>\n",
       "    </tr>\n",
       "    <tr>\n",
       "      <th>2</th>\n",
       "      <td>0x160c</td>\n",
       "      <td>CUS_0xd40</td>\n",
       "      <td>November</td>\n",
       "      <td>24.0</td>\n",
       "      <td>821-00-0265</td>\n",
       "      <td>Scientist</td>\n",
       "      <td>19114.12</td>\n",
       "      <td>1824.843333</td>\n",
       "      <td>3</td>\n",
       "      <td>4</td>\n",
       "      <td>...</td>\n",
       "      <td>264.675446</td>\n",
       "      <td>1</td>\n",
       "      <td>1</td>\n",
       "      <td>0</td>\n",
       "      <td>1</td>\n",
       "      <td>0</td>\n",
       "      <td>0</td>\n",
       "      <td>0</td>\n",
       "      <td>1</td>\n",
       "      <td>0</td>\n",
       "    </tr>\n",
       "    <tr>\n",
       "      <th>3</th>\n",
       "      <td>0x160d</td>\n",
       "      <td>CUS_0xd40</td>\n",
       "      <td>December</td>\n",
       "      <td>24.0</td>\n",
       "      <td>821-00-0265</td>\n",
       "      <td>Scientist</td>\n",
       "      <td>19114.12</td>\n",
       "      <td>NaN</td>\n",
       "      <td>3</td>\n",
       "      <td>4</td>\n",
       "      <td>...</td>\n",
       "      <td>343.826873</td>\n",
       "      <td>1</td>\n",
       "      <td>1</td>\n",
       "      <td>0</td>\n",
       "      <td>1</td>\n",
       "      <td>0</td>\n",
       "      <td>0</td>\n",
       "      <td>0</td>\n",
       "      <td>1</td>\n",
       "      <td>0</td>\n",
       "    </tr>\n",
       "    <tr>\n",
       "      <th>4</th>\n",
       "      <td>0x1616</td>\n",
       "      <td>CUS_0x21b1</td>\n",
       "      <td>September</td>\n",
       "      <td>28.0</td>\n",
       "      <td>004-07-5839</td>\n",
       "      <td>Teacher</td>\n",
       "      <td>34847.84</td>\n",
       "      <td>3037.986667</td>\n",
       "      <td>2</td>\n",
       "      <td>4</td>\n",
       "      <td>...</td>\n",
       "      <td>485.298434</td>\n",
       "      <td>0</td>\n",
       "      <td>1</td>\n",
       "      <td>0</td>\n",
       "      <td>0</td>\n",
       "      <td>0</td>\n",
       "      <td>0</td>\n",
       "      <td>0</td>\n",
       "      <td>0</td>\n",
       "      <td>0</td>\n",
       "    </tr>\n",
       "    <tr>\n",
       "      <th>...</th>\n",
       "      <td>...</td>\n",
       "      <td>...</td>\n",
       "      <td>...</td>\n",
       "      <td>...</td>\n",
       "      <td>...</td>\n",
       "      <td>...</td>\n",
       "      <td>...</td>\n",
       "      <td>...</td>\n",
       "      <td>...</td>\n",
       "      <td>...</td>\n",
       "      <td>...</td>\n",
       "      <td>...</td>\n",
       "      <td>...</td>\n",
       "      <td>...</td>\n",
       "      <td>...</td>\n",
       "      <td>...</td>\n",
       "      <td>...</td>\n",
       "      <td>...</td>\n",
       "      <td>...</td>\n",
       "      <td>...</td>\n",
       "      <td>...</td>\n",
       "    </tr>\n",
       "    <tr>\n",
       "      <th>49995</th>\n",
       "      <td>0x25fe5</td>\n",
       "      <td>CUS_0x8600</td>\n",
       "      <td>December</td>\n",
       "      <td>4975.0</td>\n",
       "      <td>031-35-0942</td>\n",
       "      <td>Architect</td>\n",
       "      <td>20002.88</td>\n",
       "      <td>1929.906667</td>\n",
       "      <td>10</td>\n",
       "      <td>8</td>\n",
       "      <td>...</td>\n",
       "      <td>275.539570</td>\n",
       "      <td>1</td>\n",
       "      <td>0</td>\n",
       "      <td>0</td>\n",
       "      <td>0</td>\n",
       "      <td>1</td>\n",
       "      <td>0</td>\n",
       "      <td>0</td>\n",
       "      <td>1</td>\n",
       "      <td>1</td>\n",
       "    </tr>\n",
       "    <tr>\n",
       "      <th>49996</th>\n",
       "      <td>0x25fee</td>\n",
       "      <td>CUS_0x942c</td>\n",
       "      <td>September</td>\n",
       "      <td>25.0</td>\n",
       "      <td>078-73-5990</td>\n",
       "      <td>Mechanic</td>\n",
       "      <td>39628.99</td>\n",
       "      <td>NaN</td>\n",
       "      <td>4</td>\n",
       "      <td>6</td>\n",
       "      <td>...</td>\n",
       "      <td>409.394562</td>\n",
       "      <td>1</td>\n",
       "      <td>0</td>\n",
       "      <td>0</td>\n",
       "      <td>0</td>\n",
       "      <td>0</td>\n",
       "      <td>0</td>\n",
       "      <td>0</td>\n",
       "      <td>0</td>\n",
       "      <td>1</td>\n",
       "    </tr>\n",
       "    <tr>\n",
       "      <th>49997</th>\n",
       "      <td>0x25fef</td>\n",
       "      <td>CUS_0x942c</td>\n",
       "      <td>October</td>\n",
       "      <td>25.0</td>\n",
       "      <td>078-73-5990</td>\n",
       "      <td>Mechanic</td>\n",
       "      <td>39628.99</td>\n",
       "      <td>3359.415833</td>\n",
       "      <td>4</td>\n",
       "      <td>6</td>\n",
       "      <td>...</td>\n",
       "      <td>349.726332</td>\n",
       "      <td>1</td>\n",
       "      <td>0</td>\n",
       "      <td>0</td>\n",
       "      <td>0</td>\n",
       "      <td>0</td>\n",
       "      <td>0</td>\n",
       "      <td>0</td>\n",
       "      <td>0</td>\n",
       "      <td>1</td>\n",
       "    </tr>\n",
       "    <tr>\n",
       "      <th>49998</th>\n",
       "      <td>0x25ff0</td>\n",
       "      <td>CUS_0x942c</td>\n",
       "      <td>November</td>\n",
       "      <td>25.0</td>\n",
       "      <td>078-73-5990</td>\n",
       "      <td>Mechanic</td>\n",
       "      <td>39628.99</td>\n",
       "      <td>NaN</td>\n",
       "      <td>4</td>\n",
       "      <td>6</td>\n",
       "      <td>...</td>\n",
       "      <td>463.238981</td>\n",
       "      <td>1</td>\n",
       "      <td>0</td>\n",
       "      <td>0</td>\n",
       "      <td>0</td>\n",
       "      <td>0</td>\n",
       "      <td>0</td>\n",
       "      <td>0</td>\n",
       "      <td>0</td>\n",
       "      <td>1</td>\n",
       "    </tr>\n",
       "    <tr>\n",
       "      <th>49999</th>\n",
       "      <td>0x25ff1</td>\n",
       "      <td>CUS_0x942c</td>\n",
       "      <td>December</td>\n",
       "      <td>25.0</td>\n",
       "      <td>078-73-5990</td>\n",
       "      <td>Mechanic</td>\n",
       "      <td>39628.99</td>\n",
       "      <td>3359.415833</td>\n",
       "      <td>4</td>\n",
       "      <td>6</td>\n",
       "      <td>...</td>\n",
       "      <td>360.379683</td>\n",
       "      <td>1</td>\n",
       "      <td>0</td>\n",
       "      <td>0</td>\n",
       "      <td>0</td>\n",
       "      <td>0</td>\n",
       "      <td>0</td>\n",
       "      <td>0</td>\n",
       "      <td>0</td>\n",
       "      <td>1</td>\n",
       "    </tr>\n",
       "  </tbody>\n",
       "</table>\n",
       "<p>50000 rows × 35 columns</p>\n",
       "</div>"
      ],
      "text/plain": [
       "            ID Customer_ID      Month     Age          SSN Occupation  \\\n",
       "0       0x160a   CUS_0xd40  September    23.0  821-00-0265  Scientist   \n",
       "1       0x160b   CUS_0xd40    October    24.0  821-00-0265  Scientist   \n",
       "2       0x160c   CUS_0xd40   November    24.0  821-00-0265  Scientist   \n",
       "3       0x160d   CUS_0xd40   December    24.0  821-00-0265  Scientist   \n",
       "4       0x1616  CUS_0x21b1  September    28.0  004-07-5839    Teacher   \n",
       "...        ...         ...        ...     ...          ...        ...   \n",
       "49995  0x25fe5  CUS_0x8600   December  4975.0  031-35-0942  Architect   \n",
       "49996  0x25fee  CUS_0x942c  September    25.0  078-73-5990   Mechanic   \n",
       "49997  0x25fef  CUS_0x942c    October    25.0  078-73-5990   Mechanic   \n",
       "49998  0x25ff0  CUS_0x942c   November    25.0  078-73-5990   Mechanic   \n",
       "49999  0x25ff1  CUS_0x942c   December    25.0  078-73-5990   Mechanic   \n",
       "\n",
       "       Annual_Income  Monthly_Inhand_Salary  Num_Bank_Accounts  \\\n",
       "0           19114.12            1824.843333                  3   \n",
       "1           19114.12            1824.843333                  3   \n",
       "2           19114.12            1824.843333                  3   \n",
       "3           19114.12                    NaN                  3   \n",
       "4           34847.84            3037.986667                  2   \n",
       "...              ...                    ...                ...   \n",
       "49995       20002.88            1929.906667                 10   \n",
       "49996       39628.99                    NaN                  4   \n",
       "49997       39628.99            3359.415833                  4   \n",
       "49998       39628.99                    NaN                  4   \n",
       "49999       39628.99            3359.415833                  4   \n",
       "\n",
       "       Num_Credit_Card  ...  Monthly_Balance  auto loan credit-builder loan  \\\n",
       "0                    4  ...       186.266702          1                   1   \n",
       "1                    4  ...       361.444004          1                   1   \n",
       "2                    4  ...       264.675446          1                   1   \n",
       "3                    4  ...       343.826873          1                   1   \n",
       "4                    4  ...       485.298434          0                   1   \n",
       "...                ...  ...              ...        ...                 ...   \n",
       "49995                8  ...       275.539570          1                   0   \n",
       "49996                6  ...       409.394562          1                   0   \n",
       "49997                6  ...       349.726332          1                   0   \n",
       "49998                6  ...       463.238981          1                   0   \n",
       "49999                6  ...       360.379683          1                   0   \n",
       "\n",
       "       debt consolidation loan  home equity loan  mortgage loan  \\\n",
       "0                            0                 1              0   \n",
       "1                            0                 1              0   \n",
       "2                            0                 1              0   \n",
       "3                            0                 1              0   \n",
       "4                            0                 0              0   \n",
       "...                        ...               ...            ...   \n",
       "49995                        0                 0              1   \n",
       "49996                        0                 0              0   \n",
       "49997                        0                 0              0   \n",
       "49998                        0                 0              0   \n",
       "49999                        0                 0              0   \n",
       "\n",
       "       not specified payday loan  personal loan  student loan  \n",
       "0                  0           0              1             0  \n",
       "1                  0           0              1             0  \n",
       "2                  0           0              1             0  \n",
       "3                  0           0              1             0  \n",
       "4                  0           0              0             0  \n",
       "...              ...         ...            ...           ...  \n",
       "49995              0           0              1             1  \n",
       "49996              0           0              0             1  \n",
       "49997              0           0              0             1  \n",
       "49998              0           0              0             1  \n",
       "49999              0           0              0             1  \n",
       "\n",
       "[50000 rows x 35 columns]"
      ]
     },
     "execution_count": 56,
     "metadata": {},
     "output_type": "execute_result"
    }
   ],
   "source": [
    "data_test"
   ]
  },
  {
   "cell_type": "markdown",
   "id": "3b4f32d4",
   "metadata": {},
   "source": [
    "The Type_of_Loan feature itself for now will not be dropped. This feature will still be useful when we are going to engineer the Num_of_Loan feature in the numerical feature section. Num_of_Loan basically counts the Type_of_Loan each entry has and it will be easier to count directly from the Type_of_Loan feature."
   ]
  },
  {
   "cell_type": "markdown",
   "id": "ea71c176",
   "metadata": {},
   "source": [
    "### **Ve. Categorical Feature: Payment_Behavior**<a class = \"anchor\" id = \"Ve\"></a>"
   ]
  },
  {
   "cell_type": "markdown",
   "id": "61f04f5a",
   "metadata": {},
   "source": [
    "The '!@9#%8' value will be dropped from the feature, as it contains an abnormal data validation compared to the other members in the feature."
   ]
  },
  {
   "cell_type": "code",
   "execution_count": 57,
   "id": "a1682f0a",
   "metadata": {},
   "outputs": [
    {
     "data": {
      "text/plain": [
       "0         High_spent_Small_value_payments\n",
       "1          Low_spent_Large_value_payments\n",
       "2         Low_spent_Medium_value_payments\n",
       "3          Low_spent_Small_value_payments\n",
       "4        High_spent_Medium_value_payments\n",
       "                       ...               \n",
       "99995     High_spent_Large_value_payments\n",
       "99996    High_spent_Medium_value_payments\n",
       "99997     High_spent_Large_value_payments\n",
       "99998      Low_spent_Large_value_payments\n",
       "99999                              !@9#%8\n",
       "Name: Payment_Behaviour, Length: 100000, dtype: object"
      ]
     },
     "metadata": {},
     "output_type": "display_data"
    },
    {
     "name": "stdout",
     "output_type": "stream",
     "text": [
      "********************\n"
     ]
    },
    {
     "data": {
      "text/plain": [
       "0          Low_spent_Small_value_payments\n",
       "1        High_spent_Medium_value_payments\n",
       "2         Low_spent_Medium_value_payments\n",
       "3        High_spent_Medium_value_payments\n",
       "4         High_spent_Large_value_payments\n",
       "                       ...               \n",
       "49995      Low_spent_Small_value_payments\n",
       "49996      Low_spent_Small_value_payments\n",
       "49997      Low_spent_Large_value_payments\n",
       "49998     High_spent_Small_value_payments\n",
       "49999     Low_spent_Medium_value_payments\n",
       "Name: Payment_Behaviour, Length: 50000, dtype: object"
      ]
     },
     "metadata": {},
     "output_type": "display_data"
    }
   ],
   "source": [
    "display(data_train['Payment_Behaviour'])\n",
    "print('*'*20)\n",
    "display(data_test['Payment_Behaviour'])"
   ]
  },
  {
   "cell_type": "code",
   "execution_count": 58,
   "id": "2ba26c5a",
   "metadata": {},
   "outputs": [
    {
     "data": {
      "text/plain": [
       "7600"
      ]
     },
     "metadata": {},
     "output_type": "display_data"
    },
    {
     "data": {
      "text/plain": [
       "3800"
      ]
     },
     "metadata": {},
     "output_type": "display_data"
    }
   ],
   "source": [
    "# checking how many '!@9#%8' Payment_Behaviour values there are\n",
    "display(len(data_train[data_train['Payment_Behaviour'] == '!@9#%8']))\n",
    "display(len(data_test[data_test['Payment_Behaviour'] == '!@9#%8']))"
   ]
  },
  {
   "cell_type": "code",
   "execution_count": 59,
   "id": "1c35cc08",
   "metadata": {},
   "outputs": [],
   "source": [
    "#converting to lowercase\n",
    "data_train['Payment_Behaviour'] = data_train['Payment_Behaviour'].str.lower()\n",
    "data_test['Payment_Behaviour'] = data_test['Payment_Behaviour'].str.lower()\n",
    "\n",
    "\n",
    "# dropping the '!@9#%8' value from the Payment_Behaviour feature\n",
    "data_train['Payment_Behaviour'] = data_train['Payment_Behaviour'].replace('!@9#%8', np.nan)\n",
    "data_test['Payment_Behaviour'] = data_test['Payment_Behaviour'].replace('!@9#%8', np.nan)"
   ]
  },
  {
   "cell_type": "code",
   "execution_count": 60,
   "id": "101735e3",
   "metadata": {},
   "outputs": [],
   "source": [
    "# converting every member of the feature as string (initially, the nan are categorized as float)\n",
    "data_train['Payment_Behaviour'] = data_train['Payment_Behaviour'].astype('str')\n",
    "data_test['Payment_Behaviour'] = data_test['Payment_Behaviour'].astype('str')\n",
    "\n",
    "\n",
    "# dropping unuseful _\n",
    "data_train['Payment_Behaviour'] = [item.replace('_', ',') for item in data_train['Payment_Behaviour']]\n",
    "data_test['Payment_Behaviour'] =  [item.replace('_', ',') for item in data_test['Payment_Behaviour']]\n",
    "\n",
    "\n",
    "# splitting each item in the member of the feature by comma delimiter\n",
    "data_train['Payment_Behaviour'] = [item.split(',') for item in data_train['Payment_Behaviour']]\n",
    "data_test['Payment_Behaviour'] = [item.split(',') for item in data_test['Payment_Behaviour']]"
   ]
  },
  {
   "cell_type": "code",
   "execution_count": 61,
   "id": "6e8fac94",
   "metadata": {},
   "outputs": [
    {
     "name": "stdout",
     "output_type": "stream",
     "text": [
      "['high', 'spent', 'small', 'value', 'payments']\n",
      "<class 'list'>\n",
      "['low', 'spent', 'small', 'value', 'payments']\n",
      "<class 'list'>\n"
     ]
    }
   ],
   "source": [
    "# checking if the data has been successfully formatted\n",
    "print(data_train['Payment_Behaviour'][0])\n",
    "print(type(data_train['Payment_Behaviour'][0]))\n",
    "print(data_test['Payment_Behaviour'][0])\n",
    "print(type(data_test['Payment_Behaviour'][0]))"
   ]
  },
  {
   "cell_type": "markdown",
   "id": "beb37e97",
   "metadata": {},
   "source": [
    "#### **a. Train Dataframe**<a class = \"anchor\" id = \"Vd_a\"></a>"
   ]
  },
  {
   "cell_type": "code",
   "execution_count": 62,
   "id": "0c4fae21",
   "metadata": {},
   "outputs": [
    {
     "data": {
      "text/plain": [
       "spent       92400\n",
       "value       92400\n",
       "payments    92400\n",
       "low         49799\n",
       "high        42601\n",
       "small       36853\n",
       "medium      31401\n",
       "large       24146\n",
       "nan          7600\n",
       "dtype: int64"
      ]
     },
     "execution_count": 62,
     "metadata": {},
     "output_type": "execute_result"
    }
   ],
   "source": [
    "dataUVCount=pd.Series([x for _list in data_train['Payment_Behaviour'] for x in _list]).value_counts()\n",
    "dataUVCount"
   ]
  },
  {
   "cell_type": "code",
   "execution_count": 63,
   "id": "b1755b8b",
   "metadata": {},
   "outputs": [
    {
     "data": {
      "text/html": [
       "<div>\n",
       "<style scoped>\n",
       "    .dataframe tbody tr th:only-of-type {\n",
       "        vertical-align: middle;\n",
       "    }\n",
       "\n",
       "    .dataframe tbody tr th {\n",
       "        vertical-align: top;\n",
       "    }\n",
       "\n",
       "    .dataframe thead th {\n",
       "        text-align: right;\n",
       "    }\n",
       "</style>\n",
       "<table border=\"1\" class=\"dataframe\">\n",
       "  <thead>\n",
       "    <tr style=\"text-align: right;\">\n",
       "      <th></th>\n",
       "      <th>high</th>\n",
       "      <th>large</th>\n",
       "      <th>low</th>\n",
       "      <th>medium</th>\n",
       "      <th>nan</th>\n",
       "      <th>payments</th>\n",
       "      <th>small</th>\n",
       "      <th>spent</th>\n",
       "      <th>value</th>\n",
       "    </tr>\n",
       "  </thead>\n",
       "  <tbody>\n",
       "    <tr>\n",
       "      <th>0</th>\n",
       "      <td>1</td>\n",
       "      <td>0</td>\n",
       "      <td>0</td>\n",
       "      <td>0</td>\n",
       "      <td>0</td>\n",
       "      <td>1</td>\n",
       "      <td>1</td>\n",
       "      <td>1</td>\n",
       "      <td>1</td>\n",
       "    </tr>\n",
       "    <tr>\n",
       "      <th>1</th>\n",
       "      <td>0</td>\n",
       "      <td>1</td>\n",
       "      <td>1</td>\n",
       "      <td>0</td>\n",
       "      <td>0</td>\n",
       "      <td>1</td>\n",
       "      <td>0</td>\n",
       "      <td>1</td>\n",
       "      <td>1</td>\n",
       "    </tr>\n",
       "    <tr>\n",
       "      <th>2</th>\n",
       "      <td>0</td>\n",
       "      <td>0</td>\n",
       "      <td>1</td>\n",
       "      <td>1</td>\n",
       "      <td>0</td>\n",
       "      <td>1</td>\n",
       "      <td>0</td>\n",
       "      <td>1</td>\n",
       "      <td>1</td>\n",
       "    </tr>\n",
       "    <tr>\n",
       "      <th>3</th>\n",
       "      <td>0</td>\n",
       "      <td>0</td>\n",
       "      <td>1</td>\n",
       "      <td>0</td>\n",
       "      <td>0</td>\n",
       "      <td>1</td>\n",
       "      <td>1</td>\n",
       "      <td>1</td>\n",
       "      <td>1</td>\n",
       "    </tr>\n",
       "    <tr>\n",
       "      <th>4</th>\n",
       "      <td>1</td>\n",
       "      <td>0</td>\n",
       "      <td>0</td>\n",
       "      <td>1</td>\n",
       "      <td>0</td>\n",
       "      <td>1</td>\n",
       "      <td>0</td>\n",
       "      <td>1</td>\n",
       "      <td>1</td>\n",
       "    </tr>\n",
       "    <tr>\n",
       "      <th>...</th>\n",
       "      <td>...</td>\n",
       "      <td>...</td>\n",
       "      <td>...</td>\n",
       "      <td>...</td>\n",
       "      <td>...</td>\n",
       "      <td>...</td>\n",
       "      <td>...</td>\n",
       "      <td>...</td>\n",
       "      <td>...</td>\n",
       "    </tr>\n",
       "    <tr>\n",
       "      <th>99995</th>\n",
       "      <td>1</td>\n",
       "      <td>1</td>\n",
       "      <td>0</td>\n",
       "      <td>0</td>\n",
       "      <td>0</td>\n",
       "      <td>1</td>\n",
       "      <td>0</td>\n",
       "      <td>1</td>\n",
       "      <td>1</td>\n",
       "    </tr>\n",
       "    <tr>\n",
       "      <th>99996</th>\n",
       "      <td>1</td>\n",
       "      <td>0</td>\n",
       "      <td>0</td>\n",
       "      <td>1</td>\n",
       "      <td>0</td>\n",
       "      <td>1</td>\n",
       "      <td>0</td>\n",
       "      <td>1</td>\n",
       "      <td>1</td>\n",
       "    </tr>\n",
       "    <tr>\n",
       "      <th>99997</th>\n",
       "      <td>1</td>\n",
       "      <td>1</td>\n",
       "      <td>0</td>\n",
       "      <td>0</td>\n",
       "      <td>0</td>\n",
       "      <td>1</td>\n",
       "      <td>0</td>\n",
       "      <td>1</td>\n",
       "      <td>1</td>\n",
       "    </tr>\n",
       "    <tr>\n",
       "      <th>99998</th>\n",
       "      <td>0</td>\n",
       "      <td>1</td>\n",
       "      <td>1</td>\n",
       "      <td>0</td>\n",
       "      <td>0</td>\n",
       "      <td>1</td>\n",
       "      <td>0</td>\n",
       "      <td>1</td>\n",
       "      <td>1</td>\n",
       "    </tr>\n",
       "    <tr>\n",
       "      <th>99999</th>\n",
       "      <td>0</td>\n",
       "      <td>0</td>\n",
       "      <td>0</td>\n",
       "      <td>0</td>\n",
       "      <td>1</td>\n",
       "      <td>0</td>\n",
       "      <td>0</td>\n",
       "      <td>0</td>\n",
       "      <td>0</td>\n",
       "    </tr>\n",
       "  </tbody>\n",
       "</table>\n",
       "<p>100000 rows × 9 columns</p>\n",
       "</div>"
      ],
      "text/plain": [
       "       high  large  low  medium  nan  payments  small  spent  value\n",
       "0         1      0    0       0    0         1      1      1      1\n",
       "1         0      1    1       0    0         1      0      1      1\n",
       "2         0      0    1       1    0         1      0      1      1\n",
       "3         0      0    1       0    0         1      1      1      1\n",
       "4         1      0    0       1    0         1      0      1      1\n",
       "...     ...    ...  ...     ...  ...       ...    ...    ...    ...\n",
       "99995     1      1    0       0    0         1      0      1      1\n",
       "99996     1      0    0       1    0         1      0      1      1\n",
       "99997     1      1    0       0    0         1      0      1      1\n",
       "99998     0      1    1       0    0         1      0      1      1\n",
       "99999     0      0    0       0    1         0      0      0      0\n",
       "\n",
       "[100000 rows x 9 columns]"
      ]
     },
     "execution_count": 63,
     "metadata": {},
     "output_type": "execute_result"
    }
   ],
   "source": [
    "# converting the list of list into a dataframe(one hot encoding)\n",
    "mlb = MultiLabelBinarizer()\n",
    "transformed_data=mlb.fit_transform(data_train['Payment_Behaviour'])\n",
    "#transformed_data is an array to show it converting to datafram\n",
    "df_payment_behaviour = pd.DataFrame(transformed_data,columns=mlb.classes_)\n",
    "#mlb.classes_ get names of columns from data_train['Type_of_Loan']\n",
    "df_payment_behaviour"
   ]
  },
  {
   "cell_type": "code",
   "execution_count": 64,
   "id": "9577c91a",
   "metadata": {},
   "outputs": [],
   "source": [
    "# dropping the nan feature\n",
    "df_payment_behaviour.drop('nan', axis = 1, inplace = True)\n"
   ]
  },
  {
   "cell_type": "code",
   "execution_count": 65,
   "id": "1320cc97",
   "metadata": {},
   "outputs": [
    {
     "data": {
      "text/html": [
       "<div>\n",
       "<style scoped>\n",
       "    .dataframe tbody tr th:only-of-type {\n",
       "        vertical-align: middle;\n",
       "    }\n",
       "\n",
       "    .dataframe tbody tr th {\n",
       "        vertical-align: top;\n",
       "    }\n",
       "\n",
       "    .dataframe thead th {\n",
       "        text-align: right;\n",
       "    }\n",
       "</style>\n",
       "<table border=\"1\" class=\"dataframe\">\n",
       "  <thead>\n",
       "    <tr style=\"text-align: right;\">\n",
       "      <th></th>\n",
       "      <th>high</th>\n",
       "      <th>large</th>\n",
       "      <th>low</th>\n",
       "      <th>medium</th>\n",
       "      <th>payments</th>\n",
       "      <th>small</th>\n",
       "      <th>spent</th>\n",
       "      <th>value</th>\n",
       "    </tr>\n",
       "  </thead>\n",
       "  <tbody>\n",
       "    <tr>\n",
       "      <th>0</th>\n",
       "      <td>1</td>\n",
       "      <td>0</td>\n",
       "      <td>0</td>\n",
       "      <td>0</td>\n",
       "      <td>1</td>\n",
       "      <td>1</td>\n",
       "      <td>1</td>\n",
       "      <td>1</td>\n",
       "    </tr>\n",
       "    <tr>\n",
       "      <th>1</th>\n",
       "      <td>0</td>\n",
       "      <td>1</td>\n",
       "      <td>1</td>\n",
       "      <td>0</td>\n",
       "      <td>1</td>\n",
       "      <td>0</td>\n",
       "      <td>1</td>\n",
       "      <td>1</td>\n",
       "    </tr>\n",
       "    <tr>\n",
       "      <th>2</th>\n",
       "      <td>0</td>\n",
       "      <td>0</td>\n",
       "      <td>1</td>\n",
       "      <td>1</td>\n",
       "      <td>1</td>\n",
       "      <td>0</td>\n",
       "      <td>1</td>\n",
       "      <td>1</td>\n",
       "    </tr>\n",
       "    <tr>\n",
       "      <th>3</th>\n",
       "      <td>0</td>\n",
       "      <td>0</td>\n",
       "      <td>1</td>\n",
       "      <td>0</td>\n",
       "      <td>1</td>\n",
       "      <td>1</td>\n",
       "      <td>1</td>\n",
       "      <td>1</td>\n",
       "    </tr>\n",
       "    <tr>\n",
       "      <th>4</th>\n",
       "      <td>1</td>\n",
       "      <td>0</td>\n",
       "      <td>0</td>\n",
       "      <td>1</td>\n",
       "      <td>1</td>\n",
       "      <td>0</td>\n",
       "      <td>1</td>\n",
       "      <td>1</td>\n",
       "    </tr>\n",
       "    <tr>\n",
       "      <th>...</th>\n",
       "      <td>...</td>\n",
       "      <td>...</td>\n",
       "      <td>...</td>\n",
       "      <td>...</td>\n",
       "      <td>...</td>\n",
       "      <td>...</td>\n",
       "      <td>...</td>\n",
       "      <td>...</td>\n",
       "    </tr>\n",
       "    <tr>\n",
       "      <th>99995</th>\n",
       "      <td>1</td>\n",
       "      <td>1</td>\n",
       "      <td>0</td>\n",
       "      <td>0</td>\n",
       "      <td>1</td>\n",
       "      <td>0</td>\n",
       "      <td>1</td>\n",
       "      <td>1</td>\n",
       "    </tr>\n",
       "    <tr>\n",
       "      <th>99996</th>\n",
       "      <td>1</td>\n",
       "      <td>0</td>\n",
       "      <td>0</td>\n",
       "      <td>1</td>\n",
       "      <td>1</td>\n",
       "      <td>0</td>\n",
       "      <td>1</td>\n",
       "      <td>1</td>\n",
       "    </tr>\n",
       "    <tr>\n",
       "      <th>99997</th>\n",
       "      <td>1</td>\n",
       "      <td>1</td>\n",
       "      <td>0</td>\n",
       "      <td>0</td>\n",
       "      <td>1</td>\n",
       "      <td>0</td>\n",
       "      <td>1</td>\n",
       "      <td>1</td>\n",
       "    </tr>\n",
       "    <tr>\n",
       "      <th>99998</th>\n",
       "      <td>0</td>\n",
       "      <td>1</td>\n",
       "      <td>1</td>\n",
       "      <td>0</td>\n",
       "      <td>1</td>\n",
       "      <td>0</td>\n",
       "      <td>1</td>\n",
       "      <td>1</td>\n",
       "    </tr>\n",
       "    <tr>\n",
       "      <th>99999</th>\n",
       "      <td>0</td>\n",
       "      <td>0</td>\n",
       "      <td>0</td>\n",
       "      <td>0</td>\n",
       "      <td>0</td>\n",
       "      <td>0</td>\n",
       "      <td>0</td>\n",
       "      <td>0</td>\n",
       "    </tr>\n",
       "  </tbody>\n",
       "</table>\n",
       "<p>100000 rows × 8 columns</p>\n",
       "</div>"
      ],
      "text/plain": [
       "       high  large  low  medium  payments  small  spent  value\n",
       "0         1      0    0       0         1      1      1      1\n",
       "1         0      1    1       0         1      0      1      1\n",
       "2         0      0    1       1         1      0      1      1\n",
       "3         0      0    1       0         1      1      1      1\n",
       "4         1      0    0       1         1      0      1      1\n",
       "...     ...    ...  ...     ...       ...    ...    ...    ...\n",
       "99995     1      1    0       0         1      0      1      1\n",
       "99996     1      0    0       1         1      0      1      1\n",
       "99997     1      1    0       0         1      0      1      1\n",
       "99998     0      1    1       0         1      0      1      1\n",
       "99999     0      0    0       0         0      0      0      0\n",
       "\n",
       "[100000 rows x 8 columns]"
      ]
     },
     "execution_count": 65,
     "metadata": {},
     "output_type": "execute_result"
    }
   ],
   "source": [
    "df_payment_behaviour"
   ]
  },
  {
   "cell_type": "code",
   "execution_count": 66,
   "id": "39422bbe",
   "metadata": {},
   "outputs": [],
   "source": [
    "# combining the original dataset and the Type_of_Loan dataset\n",
    "data_train = pd.concat([data_train, df_payment_behaviour],\n",
    "                  axis = 1,\n",
    "                  ignore_index = False)\n",
    "\n",
    "# moving the Credit_Score feature to the end of the dataframe\n",
    "temp1 = data_train['Credit_Score'] # temporarily storing the Credit_Score feature\n",
    "data_train.drop('Credit_Score', axis = 1, inplace = True) # Dropping the feature\n",
    "data_train['Credit_Score'] = temp1 # Reinserting the Credit_Score feature"
   ]
  },
  {
   "cell_type": "code",
   "execution_count": 67,
   "id": "ad5d86b6",
   "metadata": {},
   "outputs": [
    {
     "data": {
      "text/html": [
       "<div>\n",
       "<style scoped>\n",
       "    .dataframe tbody tr th:only-of-type {\n",
       "        vertical-align: middle;\n",
       "    }\n",
       "\n",
       "    .dataframe tbody tr th {\n",
       "        vertical-align: top;\n",
       "    }\n",
       "\n",
       "    .dataframe thead th {\n",
       "        text-align: right;\n",
       "    }\n",
       "</style>\n",
       "<table border=\"1\" class=\"dataframe\">\n",
       "  <thead>\n",
       "    <tr style=\"text-align: right;\">\n",
       "      <th></th>\n",
       "      <th>ID</th>\n",
       "      <th>Customer_ID</th>\n",
       "      <th>Month</th>\n",
       "      <th>Age</th>\n",
       "      <th>SSN</th>\n",
       "      <th>Occupation</th>\n",
       "      <th>Annual_Income</th>\n",
       "      <th>Monthly_Inhand_Salary</th>\n",
       "      <th>Num_Bank_Accounts</th>\n",
       "      <th>Num_Credit_Card</th>\n",
       "      <th>...</th>\n",
       "      <th>student loan</th>\n",
       "      <th>high</th>\n",
       "      <th>large</th>\n",
       "      <th>low</th>\n",
       "      <th>medium</th>\n",
       "      <th>payments</th>\n",
       "      <th>small</th>\n",
       "      <th>spent</th>\n",
       "      <th>value</th>\n",
       "      <th>Credit_Score</th>\n",
       "    </tr>\n",
       "  </thead>\n",
       "  <tbody>\n",
       "    <tr>\n",
       "      <th>0</th>\n",
       "      <td>0x1602</td>\n",
       "      <td>CUS_0xd40</td>\n",
       "      <td>January</td>\n",
       "      <td>23.0</td>\n",
       "      <td>821-00-0265</td>\n",
       "      <td>Scientist</td>\n",
       "      <td>19114.12</td>\n",
       "      <td>1824.843333</td>\n",
       "      <td>3</td>\n",
       "      <td>4</td>\n",
       "      <td>...</td>\n",
       "      <td>0</td>\n",
       "      <td>1</td>\n",
       "      <td>0</td>\n",
       "      <td>0</td>\n",
       "      <td>0</td>\n",
       "      <td>1</td>\n",
       "      <td>1</td>\n",
       "      <td>1</td>\n",
       "      <td>1</td>\n",
       "      <td>Good</td>\n",
       "    </tr>\n",
       "    <tr>\n",
       "      <th>1</th>\n",
       "      <td>0x1603</td>\n",
       "      <td>CUS_0xd40</td>\n",
       "      <td>February</td>\n",
       "      <td>23.0</td>\n",
       "      <td>821-00-0265</td>\n",
       "      <td>Scientist</td>\n",
       "      <td>19114.12</td>\n",
       "      <td>NaN</td>\n",
       "      <td>3</td>\n",
       "      <td>4</td>\n",
       "      <td>...</td>\n",
       "      <td>0</td>\n",
       "      <td>0</td>\n",
       "      <td>1</td>\n",
       "      <td>1</td>\n",
       "      <td>0</td>\n",
       "      <td>1</td>\n",
       "      <td>0</td>\n",
       "      <td>1</td>\n",
       "      <td>1</td>\n",
       "      <td>Good</td>\n",
       "    </tr>\n",
       "    <tr>\n",
       "      <th>2</th>\n",
       "      <td>0x1604</td>\n",
       "      <td>CUS_0xd40</td>\n",
       "      <td>March</td>\n",
       "      <td>500.0</td>\n",
       "      <td>821-00-0265</td>\n",
       "      <td>Scientist</td>\n",
       "      <td>19114.12</td>\n",
       "      <td>NaN</td>\n",
       "      <td>3</td>\n",
       "      <td>4</td>\n",
       "      <td>...</td>\n",
       "      <td>0</td>\n",
       "      <td>0</td>\n",
       "      <td>0</td>\n",
       "      <td>1</td>\n",
       "      <td>1</td>\n",
       "      <td>1</td>\n",
       "      <td>0</td>\n",
       "      <td>1</td>\n",
       "      <td>1</td>\n",
       "      <td>Good</td>\n",
       "    </tr>\n",
       "    <tr>\n",
       "      <th>3</th>\n",
       "      <td>0x1605</td>\n",
       "      <td>CUS_0xd40</td>\n",
       "      <td>April</td>\n",
       "      <td>23.0</td>\n",
       "      <td>821-00-0265</td>\n",
       "      <td>Scientist</td>\n",
       "      <td>19114.12</td>\n",
       "      <td>NaN</td>\n",
       "      <td>3</td>\n",
       "      <td>4</td>\n",
       "      <td>...</td>\n",
       "      <td>0</td>\n",
       "      <td>0</td>\n",
       "      <td>0</td>\n",
       "      <td>1</td>\n",
       "      <td>0</td>\n",
       "      <td>1</td>\n",
       "      <td>1</td>\n",
       "      <td>1</td>\n",
       "      <td>1</td>\n",
       "      <td>Good</td>\n",
       "    </tr>\n",
       "    <tr>\n",
       "      <th>4</th>\n",
       "      <td>0x1606</td>\n",
       "      <td>CUS_0xd40</td>\n",
       "      <td>May</td>\n",
       "      <td>23.0</td>\n",
       "      <td>821-00-0265</td>\n",
       "      <td>Scientist</td>\n",
       "      <td>19114.12</td>\n",
       "      <td>1824.843333</td>\n",
       "      <td>3</td>\n",
       "      <td>4</td>\n",
       "      <td>...</td>\n",
       "      <td>0</td>\n",
       "      <td>1</td>\n",
       "      <td>0</td>\n",
       "      <td>0</td>\n",
       "      <td>1</td>\n",
       "      <td>1</td>\n",
       "      <td>0</td>\n",
       "      <td>1</td>\n",
       "      <td>1</td>\n",
       "      <td>Good</td>\n",
       "    </tr>\n",
       "    <tr>\n",
       "      <th>...</th>\n",
       "      <td>...</td>\n",
       "      <td>...</td>\n",
       "      <td>...</td>\n",
       "      <td>...</td>\n",
       "      <td>...</td>\n",
       "      <td>...</td>\n",
       "      <td>...</td>\n",
       "      <td>...</td>\n",
       "      <td>...</td>\n",
       "      <td>...</td>\n",
       "      <td>...</td>\n",
       "      <td>...</td>\n",
       "      <td>...</td>\n",
       "      <td>...</td>\n",
       "      <td>...</td>\n",
       "      <td>...</td>\n",
       "      <td>...</td>\n",
       "      <td>...</td>\n",
       "      <td>...</td>\n",
       "      <td>...</td>\n",
       "      <td>...</td>\n",
       "    </tr>\n",
       "    <tr>\n",
       "      <th>99995</th>\n",
       "      <td>0x25fe9</td>\n",
       "      <td>CUS_0x942c</td>\n",
       "      <td>April</td>\n",
       "      <td>25.0</td>\n",
       "      <td>078-73-5990</td>\n",
       "      <td>Mechanic</td>\n",
       "      <td>39628.99</td>\n",
       "      <td>3359.415833</td>\n",
       "      <td>4</td>\n",
       "      <td>6</td>\n",
       "      <td>...</td>\n",
       "      <td>1</td>\n",
       "      <td>1</td>\n",
       "      <td>1</td>\n",
       "      <td>0</td>\n",
       "      <td>0</td>\n",
       "      <td>1</td>\n",
       "      <td>0</td>\n",
       "      <td>1</td>\n",
       "      <td>1</td>\n",
       "      <td>Poor</td>\n",
       "    </tr>\n",
       "    <tr>\n",
       "      <th>99996</th>\n",
       "      <td>0x25fea</td>\n",
       "      <td>CUS_0x942c</td>\n",
       "      <td>May</td>\n",
       "      <td>25.0</td>\n",
       "      <td>078-73-5990</td>\n",
       "      <td>Mechanic</td>\n",
       "      <td>39628.99</td>\n",
       "      <td>3359.415833</td>\n",
       "      <td>4</td>\n",
       "      <td>6</td>\n",
       "      <td>...</td>\n",
       "      <td>1</td>\n",
       "      <td>1</td>\n",
       "      <td>0</td>\n",
       "      <td>0</td>\n",
       "      <td>1</td>\n",
       "      <td>1</td>\n",
       "      <td>0</td>\n",
       "      <td>1</td>\n",
       "      <td>1</td>\n",
       "      <td>Poor</td>\n",
       "    </tr>\n",
       "    <tr>\n",
       "      <th>99997</th>\n",
       "      <td>0x25feb</td>\n",
       "      <td>CUS_0x942c</td>\n",
       "      <td>June</td>\n",
       "      <td>25.0</td>\n",
       "      <td>078-73-5990</td>\n",
       "      <td>Mechanic</td>\n",
       "      <td>39628.99</td>\n",
       "      <td>3359.415833</td>\n",
       "      <td>4</td>\n",
       "      <td>6</td>\n",
       "      <td>...</td>\n",
       "      <td>1</td>\n",
       "      <td>1</td>\n",
       "      <td>1</td>\n",
       "      <td>0</td>\n",
       "      <td>0</td>\n",
       "      <td>1</td>\n",
       "      <td>0</td>\n",
       "      <td>1</td>\n",
       "      <td>1</td>\n",
       "      <td>Poor</td>\n",
       "    </tr>\n",
       "    <tr>\n",
       "      <th>99998</th>\n",
       "      <td>0x25fec</td>\n",
       "      <td>CUS_0x942c</td>\n",
       "      <td>July</td>\n",
       "      <td>25.0</td>\n",
       "      <td>078-73-5990</td>\n",
       "      <td>Mechanic</td>\n",
       "      <td>39628.99</td>\n",
       "      <td>3359.415833</td>\n",
       "      <td>4</td>\n",
       "      <td>6</td>\n",
       "      <td>...</td>\n",
       "      <td>1</td>\n",
       "      <td>0</td>\n",
       "      <td>1</td>\n",
       "      <td>1</td>\n",
       "      <td>0</td>\n",
       "      <td>1</td>\n",
       "      <td>0</td>\n",
       "      <td>1</td>\n",
       "      <td>1</td>\n",
       "      <td>Standard</td>\n",
       "    </tr>\n",
       "    <tr>\n",
       "      <th>99999</th>\n",
       "      <td>0x25fed</td>\n",
       "      <td>CUS_0x942c</td>\n",
       "      <td>August</td>\n",
       "      <td>25.0</td>\n",
       "      <td>078-73-5990</td>\n",
       "      <td>Mechanic</td>\n",
       "      <td>39628.99</td>\n",
       "      <td>3359.415833</td>\n",
       "      <td>4</td>\n",
       "      <td>6</td>\n",
       "      <td>...</td>\n",
       "      <td>1</td>\n",
       "      <td>0</td>\n",
       "      <td>0</td>\n",
       "      <td>0</td>\n",
       "      <td>0</td>\n",
       "      <td>0</td>\n",
       "      <td>0</td>\n",
       "      <td>0</td>\n",
       "      <td>0</td>\n",
       "      <td>Poor</td>\n",
       "    </tr>\n",
       "  </tbody>\n",
       "</table>\n",
       "<p>100000 rows × 44 columns</p>\n",
       "</div>"
      ],
      "text/plain": [
       "            ID Customer_ID     Month    Age          SSN Occupation  \\\n",
       "0       0x1602   CUS_0xd40   January   23.0  821-00-0265  Scientist   \n",
       "1       0x1603   CUS_0xd40  February   23.0  821-00-0265  Scientist   \n",
       "2       0x1604   CUS_0xd40     March  500.0  821-00-0265  Scientist   \n",
       "3       0x1605   CUS_0xd40     April   23.0  821-00-0265  Scientist   \n",
       "4       0x1606   CUS_0xd40       May   23.0  821-00-0265  Scientist   \n",
       "...        ...         ...       ...    ...          ...        ...   \n",
       "99995  0x25fe9  CUS_0x942c     April   25.0  078-73-5990   Mechanic   \n",
       "99996  0x25fea  CUS_0x942c       May   25.0  078-73-5990   Mechanic   \n",
       "99997  0x25feb  CUS_0x942c      June   25.0  078-73-5990   Mechanic   \n",
       "99998  0x25fec  CUS_0x942c      July   25.0  078-73-5990   Mechanic   \n",
       "99999  0x25fed  CUS_0x942c    August   25.0  078-73-5990   Mechanic   \n",
       "\n",
       "       Annual_Income  Monthly_Inhand_Salary  Num_Bank_Accounts  \\\n",
       "0           19114.12            1824.843333                  3   \n",
       "1           19114.12                    NaN                  3   \n",
       "2           19114.12                    NaN                  3   \n",
       "3           19114.12                    NaN                  3   \n",
       "4           19114.12            1824.843333                  3   \n",
       "...              ...                    ...                ...   \n",
       "99995       39628.99            3359.415833                  4   \n",
       "99996       39628.99            3359.415833                  4   \n",
       "99997       39628.99            3359.415833                  4   \n",
       "99998       39628.99            3359.415833                  4   \n",
       "99999       39628.99            3359.415833                  4   \n",
       "\n",
       "       Num_Credit_Card  ...  student loan  high large  low  medium  payments  \\\n",
       "0                    4  ...             0     1     0    0       0         1   \n",
       "1                    4  ...             0     0     1    1       0         1   \n",
       "2                    4  ...             0     0     0    1       1         1   \n",
       "3                    4  ...             0     0     0    1       0         1   \n",
       "4                    4  ...             0     1     0    0       1         1   \n",
       "...                ...  ...           ...   ...   ...  ...     ...       ...   \n",
       "99995                6  ...             1     1     1    0       0         1   \n",
       "99996                6  ...             1     1     0    0       1         1   \n",
       "99997                6  ...             1     1     1    0       0         1   \n",
       "99998                6  ...             1     0     1    1       0         1   \n",
       "99999                6  ...             1     0     0    0       0         0   \n",
       "\n",
       "       small spent  value  Credit_Score  \n",
       "0          1     1      1          Good  \n",
       "1          0     1      1          Good  \n",
       "2          0     1      1          Good  \n",
       "3          1     1      1          Good  \n",
       "4          0     1      1          Good  \n",
       "...      ...   ...    ...           ...  \n",
       "99995      0     1      1          Poor  \n",
       "99996      0     1      1          Poor  \n",
       "99997      0     1      1          Poor  \n",
       "99998      0     1      1      Standard  \n",
       "99999      0     0      0          Poor  \n",
       "\n",
       "[100000 rows x 44 columns]"
      ]
     },
     "execution_count": 67,
     "metadata": {},
     "output_type": "execute_result"
    }
   ],
   "source": [
    "data_train"
   ]
  },
  {
   "cell_type": "markdown",
   "id": "a05a48f2",
   "metadata": {},
   "source": [
    "#### **b. Test Dataframe**<a class = \"anchor\" id = \"Vd_a\"></a>"
   ]
  },
  {
   "cell_type": "code",
   "execution_count": 68,
   "id": "183464f3",
   "metadata": {},
   "outputs": [
    {
     "data": {
      "text/plain": [
       "spent       46200\n",
       "value       46200\n",
       "payments    46200\n",
       "low         24783\n",
       "high        21417\n",
       "small       18345\n",
       "medium      15759\n",
       "large       12096\n",
       "nan          3800\n",
       "dtype: int64"
      ]
     },
     "execution_count": 68,
     "metadata": {},
     "output_type": "execute_result"
    }
   ],
   "source": [
    "dataUVCount=pd.Series([x for _list in data_test['Payment_Behaviour'] for x in _list]).value_counts()\n",
    "dataUVCount"
   ]
  },
  {
   "cell_type": "code",
   "execution_count": 69,
   "id": "633705ad",
   "metadata": {},
   "outputs": [
    {
     "data": {
      "text/html": [
       "<div>\n",
       "<style scoped>\n",
       "    .dataframe tbody tr th:only-of-type {\n",
       "        vertical-align: middle;\n",
       "    }\n",
       "\n",
       "    .dataframe tbody tr th {\n",
       "        vertical-align: top;\n",
       "    }\n",
       "\n",
       "    .dataframe thead th {\n",
       "        text-align: right;\n",
       "    }\n",
       "</style>\n",
       "<table border=\"1\" class=\"dataframe\">\n",
       "  <thead>\n",
       "    <tr style=\"text-align: right;\">\n",
       "      <th></th>\n",
       "      <th>high</th>\n",
       "      <th>large</th>\n",
       "      <th>low</th>\n",
       "      <th>medium</th>\n",
       "      <th>nan</th>\n",
       "      <th>payments</th>\n",
       "      <th>small</th>\n",
       "      <th>spent</th>\n",
       "      <th>value</th>\n",
       "    </tr>\n",
       "  </thead>\n",
       "  <tbody>\n",
       "    <tr>\n",
       "      <th>0</th>\n",
       "      <td>0</td>\n",
       "      <td>0</td>\n",
       "      <td>1</td>\n",
       "      <td>0</td>\n",
       "      <td>0</td>\n",
       "      <td>1</td>\n",
       "      <td>1</td>\n",
       "      <td>1</td>\n",
       "      <td>1</td>\n",
       "    </tr>\n",
       "    <tr>\n",
       "      <th>1</th>\n",
       "      <td>1</td>\n",
       "      <td>0</td>\n",
       "      <td>0</td>\n",
       "      <td>1</td>\n",
       "      <td>0</td>\n",
       "      <td>1</td>\n",
       "      <td>0</td>\n",
       "      <td>1</td>\n",
       "      <td>1</td>\n",
       "    </tr>\n",
       "    <tr>\n",
       "      <th>2</th>\n",
       "      <td>0</td>\n",
       "      <td>0</td>\n",
       "      <td>1</td>\n",
       "      <td>1</td>\n",
       "      <td>0</td>\n",
       "      <td>1</td>\n",
       "      <td>0</td>\n",
       "      <td>1</td>\n",
       "      <td>1</td>\n",
       "    </tr>\n",
       "    <tr>\n",
       "      <th>3</th>\n",
       "      <td>1</td>\n",
       "      <td>0</td>\n",
       "      <td>0</td>\n",
       "      <td>1</td>\n",
       "      <td>0</td>\n",
       "      <td>1</td>\n",
       "      <td>0</td>\n",
       "      <td>1</td>\n",
       "      <td>1</td>\n",
       "    </tr>\n",
       "    <tr>\n",
       "      <th>4</th>\n",
       "      <td>1</td>\n",
       "      <td>1</td>\n",
       "      <td>0</td>\n",
       "      <td>0</td>\n",
       "      <td>0</td>\n",
       "      <td>1</td>\n",
       "      <td>0</td>\n",
       "      <td>1</td>\n",
       "      <td>1</td>\n",
       "    </tr>\n",
       "    <tr>\n",
       "      <th>...</th>\n",
       "      <td>...</td>\n",
       "      <td>...</td>\n",
       "      <td>...</td>\n",
       "      <td>...</td>\n",
       "      <td>...</td>\n",
       "      <td>...</td>\n",
       "      <td>...</td>\n",
       "      <td>...</td>\n",
       "      <td>...</td>\n",
       "    </tr>\n",
       "    <tr>\n",
       "      <th>49995</th>\n",
       "      <td>0</td>\n",
       "      <td>0</td>\n",
       "      <td>1</td>\n",
       "      <td>0</td>\n",
       "      <td>0</td>\n",
       "      <td>1</td>\n",
       "      <td>1</td>\n",
       "      <td>1</td>\n",
       "      <td>1</td>\n",
       "    </tr>\n",
       "    <tr>\n",
       "      <th>49996</th>\n",
       "      <td>0</td>\n",
       "      <td>0</td>\n",
       "      <td>1</td>\n",
       "      <td>0</td>\n",
       "      <td>0</td>\n",
       "      <td>1</td>\n",
       "      <td>1</td>\n",
       "      <td>1</td>\n",
       "      <td>1</td>\n",
       "    </tr>\n",
       "    <tr>\n",
       "      <th>49997</th>\n",
       "      <td>0</td>\n",
       "      <td>1</td>\n",
       "      <td>1</td>\n",
       "      <td>0</td>\n",
       "      <td>0</td>\n",
       "      <td>1</td>\n",
       "      <td>0</td>\n",
       "      <td>1</td>\n",
       "      <td>1</td>\n",
       "    </tr>\n",
       "    <tr>\n",
       "      <th>49998</th>\n",
       "      <td>1</td>\n",
       "      <td>0</td>\n",
       "      <td>0</td>\n",
       "      <td>0</td>\n",
       "      <td>0</td>\n",
       "      <td>1</td>\n",
       "      <td>1</td>\n",
       "      <td>1</td>\n",
       "      <td>1</td>\n",
       "    </tr>\n",
       "    <tr>\n",
       "      <th>49999</th>\n",
       "      <td>0</td>\n",
       "      <td>0</td>\n",
       "      <td>1</td>\n",
       "      <td>1</td>\n",
       "      <td>0</td>\n",
       "      <td>1</td>\n",
       "      <td>0</td>\n",
       "      <td>1</td>\n",
       "      <td>1</td>\n",
       "    </tr>\n",
       "  </tbody>\n",
       "</table>\n",
       "<p>50000 rows × 9 columns</p>\n",
       "</div>"
      ],
      "text/plain": [
       "       high  large  low  medium  nan  payments  small  spent  value\n",
       "0         0      0    1       0    0         1      1      1      1\n",
       "1         1      0    0       1    0         1      0      1      1\n",
       "2         0      0    1       1    0         1      0      1      1\n",
       "3         1      0    0       1    0         1      0      1      1\n",
       "4         1      1    0       0    0         1      0      1      1\n",
       "...     ...    ...  ...     ...  ...       ...    ...    ...    ...\n",
       "49995     0      0    1       0    0         1      1      1      1\n",
       "49996     0      0    1       0    0         1      1      1      1\n",
       "49997     0      1    1       0    0         1      0      1      1\n",
       "49998     1      0    0       0    0         1      1      1      1\n",
       "49999     0      0    1       1    0         1      0      1      1\n",
       "\n",
       "[50000 rows x 9 columns]"
      ]
     },
     "execution_count": 69,
     "metadata": {},
     "output_type": "execute_result"
    }
   ],
   "source": [
    "# converting the list of list into a dataframe(one hot encoding)\n",
    "mlb = MultiLabelBinarizer()\n",
    "transformed_data=mlb.fit_transform(data_test['Payment_Behaviour'])\n",
    "#transformed_data is an array to show it converting to datafram\n",
    "df_payment_behaviour = pd.DataFrame(transformed_data,columns=mlb.classes_)\n",
    "#mlb.classes_ get names of columns from data_train['Type_of_Loan']\n",
    "df_payment_behaviour"
   ]
  },
  {
   "cell_type": "code",
   "execution_count": 70,
   "id": "47239177",
   "metadata": {},
   "outputs": [],
   "source": [
    "# dropping the nan feature\n",
    "df_payment_behaviour.drop('nan', axis = 1, inplace = True)"
   ]
  },
  {
   "cell_type": "code",
   "execution_count": 71,
   "id": "dbcaf749",
   "metadata": {},
   "outputs": [
    {
     "data": {
      "text/html": [
       "<div>\n",
       "<style scoped>\n",
       "    .dataframe tbody tr th:only-of-type {\n",
       "        vertical-align: middle;\n",
       "    }\n",
       "\n",
       "    .dataframe tbody tr th {\n",
       "        vertical-align: top;\n",
       "    }\n",
       "\n",
       "    .dataframe thead th {\n",
       "        text-align: right;\n",
       "    }\n",
       "</style>\n",
       "<table border=\"1\" class=\"dataframe\">\n",
       "  <thead>\n",
       "    <tr style=\"text-align: right;\">\n",
       "      <th></th>\n",
       "      <th>ID</th>\n",
       "      <th>Customer_ID</th>\n",
       "      <th>Month</th>\n",
       "      <th>Age</th>\n",
       "      <th>SSN</th>\n",
       "      <th>Occupation</th>\n",
       "      <th>Annual_Income</th>\n",
       "      <th>Monthly_Inhand_Salary</th>\n",
       "      <th>Num_Bank_Accounts</th>\n",
       "      <th>Num_Credit_Card</th>\n",
       "      <th>...</th>\n",
       "      <th>personal loan</th>\n",
       "      <th>student loan</th>\n",
       "      <th>high</th>\n",
       "      <th>large</th>\n",
       "      <th>low</th>\n",
       "      <th>medium</th>\n",
       "      <th>payments</th>\n",
       "      <th>small</th>\n",
       "      <th>spent</th>\n",
       "      <th>value</th>\n",
       "    </tr>\n",
       "  </thead>\n",
       "  <tbody>\n",
       "    <tr>\n",
       "      <th>0</th>\n",
       "      <td>0x160a</td>\n",
       "      <td>CUS_0xd40</td>\n",
       "      <td>September</td>\n",
       "      <td>23.0</td>\n",
       "      <td>821-00-0265</td>\n",
       "      <td>Scientist</td>\n",
       "      <td>19114.12</td>\n",
       "      <td>1824.843333</td>\n",
       "      <td>3</td>\n",
       "      <td>4</td>\n",
       "      <td>...</td>\n",
       "      <td>1</td>\n",
       "      <td>0</td>\n",
       "      <td>0</td>\n",
       "      <td>0</td>\n",
       "      <td>1</td>\n",
       "      <td>0</td>\n",
       "      <td>1</td>\n",
       "      <td>1</td>\n",
       "      <td>1</td>\n",
       "      <td>1</td>\n",
       "    </tr>\n",
       "    <tr>\n",
       "      <th>1</th>\n",
       "      <td>0x160b</td>\n",
       "      <td>CUS_0xd40</td>\n",
       "      <td>October</td>\n",
       "      <td>24.0</td>\n",
       "      <td>821-00-0265</td>\n",
       "      <td>Scientist</td>\n",
       "      <td>19114.12</td>\n",
       "      <td>1824.843333</td>\n",
       "      <td>3</td>\n",
       "      <td>4</td>\n",
       "      <td>...</td>\n",
       "      <td>1</td>\n",
       "      <td>0</td>\n",
       "      <td>1</td>\n",
       "      <td>0</td>\n",
       "      <td>0</td>\n",
       "      <td>1</td>\n",
       "      <td>1</td>\n",
       "      <td>0</td>\n",
       "      <td>1</td>\n",
       "      <td>1</td>\n",
       "    </tr>\n",
       "    <tr>\n",
       "      <th>2</th>\n",
       "      <td>0x160c</td>\n",
       "      <td>CUS_0xd40</td>\n",
       "      <td>November</td>\n",
       "      <td>24.0</td>\n",
       "      <td>821-00-0265</td>\n",
       "      <td>Scientist</td>\n",
       "      <td>19114.12</td>\n",
       "      <td>1824.843333</td>\n",
       "      <td>3</td>\n",
       "      <td>4</td>\n",
       "      <td>...</td>\n",
       "      <td>1</td>\n",
       "      <td>0</td>\n",
       "      <td>0</td>\n",
       "      <td>0</td>\n",
       "      <td>1</td>\n",
       "      <td>1</td>\n",
       "      <td>1</td>\n",
       "      <td>0</td>\n",
       "      <td>1</td>\n",
       "      <td>1</td>\n",
       "    </tr>\n",
       "    <tr>\n",
       "      <th>3</th>\n",
       "      <td>0x160d</td>\n",
       "      <td>CUS_0xd40</td>\n",
       "      <td>December</td>\n",
       "      <td>24.0</td>\n",
       "      <td>821-00-0265</td>\n",
       "      <td>Scientist</td>\n",
       "      <td>19114.12</td>\n",
       "      <td>NaN</td>\n",
       "      <td>3</td>\n",
       "      <td>4</td>\n",
       "      <td>...</td>\n",
       "      <td>1</td>\n",
       "      <td>0</td>\n",
       "      <td>1</td>\n",
       "      <td>0</td>\n",
       "      <td>0</td>\n",
       "      <td>1</td>\n",
       "      <td>1</td>\n",
       "      <td>0</td>\n",
       "      <td>1</td>\n",
       "      <td>1</td>\n",
       "    </tr>\n",
       "    <tr>\n",
       "      <th>4</th>\n",
       "      <td>0x1616</td>\n",
       "      <td>CUS_0x21b1</td>\n",
       "      <td>September</td>\n",
       "      <td>28.0</td>\n",
       "      <td>004-07-5839</td>\n",
       "      <td>Teacher</td>\n",
       "      <td>34847.84</td>\n",
       "      <td>3037.986667</td>\n",
       "      <td>2</td>\n",
       "      <td>4</td>\n",
       "      <td>...</td>\n",
       "      <td>0</td>\n",
       "      <td>0</td>\n",
       "      <td>1</td>\n",
       "      <td>1</td>\n",
       "      <td>0</td>\n",
       "      <td>0</td>\n",
       "      <td>1</td>\n",
       "      <td>0</td>\n",
       "      <td>1</td>\n",
       "      <td>1</td>\n",
       "    </tr>\n",
       "    <tr>\n",
       "      <th>...</th>\n",
       "      <td>...</td>\n",
       "      <td>...</td>\n",
       "      <td>...</td>\n",
       "      <td>...</td>\n",
       "      <td>...</td>\n",
       "      <td>...</td>\n",
       "      <td>...</td>\n",
       "      <td>...</td>\n",
       "      <td>...</td>\n",
       "      <td>...</td>\n",
       "      <td>...</td>\n",
       "      <td>...</td>\n",
       "      <td>...</td>\n",
       "      <td>...</td>\n",
       "      <td>...</td>\n",
       "      <td>...</td>\n",
       "      <td>...</td>\n",
       "      <td>...</td>\n",
       "      <td>...</td>\n",
       "      <td>...</td>\n",
       "      <td>...</td>\n",
       "    </tr>\n",
       "    <tr>\n",
       "      <th>49995</th>\n",
       "      <td>0x25fe5</td>\n",
       "      <td>CUS_0x8600</td>\n",
       "      <td>December</td>\n",
       "      <td>4975.0</td>\n",
       "      <td>031-35-0942</td>\n",
       "      <td>Architect</td>\n",
       "      <td>20002.88</td>\n",
       "      <td>1929.906667</td>\n",
       "      <td>10</td>\n",
       "      <td>8</td>\n",
       "      <td>...</td>\n",
       "      <td>1</td>\n",
       "      <td>1</td>\n",
       "      <td>0</td>\n",
       "      <td>0</td>\n",
       "      <td>1</td>\n",
       "      <td>0</td>\n",
       "      <td>1</td>\n",
       "      <td>1</td>\n",
       "      <td>1</td>\n",
       "      <td>1</td>\n",
       "    </tr>\n",
       "    <tr>\n",
       "      <th>49996</th>\n",
       "      <td>0x25fee</td>\n",
       "      <td>CUS_0x942c</td>\n",
       "      <td>September</td>\n",
       "      <td>25.0</td>\n",
       "      <td>078-73-5990</td>\n",
       "      <td>Mechanic</td>\n",
       "      <td>39628.99</td>\n",
       "      <td>NaN</td>\n",
       "      <td>4</td>\n",
       "      <td>6</td>\n",
       "      <td>...</td>\n",
       "      <td>0</td>\n",
       "      <td>1</td>\n",
       "      <td>0</td>\n",
       "      <td>0</td>\n",
       "      <td>1</td>\n",
       "      <td>0</td>\n",
       "      <td>1</td>\n",
       "      <td>1</td>\n",
       "      <td>1</td>\n",
       "      <td>1</td>\n",
       "    </tr>\n",
       "    <tr>\n",
       "      <th>49997</th>\n",
       "      <td>0x25fef</td>\n",
       "      <td>CUS_0x942c</td>\n",
       "      <td>October</td>\n",
       "      <td>25.0</td>\n",
       "      <td>078-73-5990</td>\n",
       "      <td>Mechanic</td>\n",
       "      <td>39628.99</td>\n",
       "      <td>3359.415833</td>\n",
       "      <td>4</td>\n",
       "      <td>6</td>\n",
       "      <td>...</td>\n",
       "      <td>0</td>\n",
       "      <td>1</td>\n",
       "      <td>0</td>\n",
       "      <td>1</td>\n",
       "      <td>1</td>\n",
       "      <td>0</td>\n",
       "      <td>1</td>\n",
       "      <td>0</td>\n",
       "      <td>1</td>\n",
       "      <td>1</td>\n",
       "    </tr>\n",
       "    <tr>\n",
       "      <th>49998</th>\n",
       "      <td>0x25ff0</td>\n",
       "      <td>CUS_0x942c</td>\n",
       "      <td>November</td>\n",
       "      <td>25.0</td>\n",
       "      <td>078-73-5990</td>\n",
       "      <td>Mechanic</td>\n",
       "      <td>39628.99</td>\n",
       "      <td>NaN</td>\n",
       "      <td>4</td>\n",
       "      <td>6</td>\n",
       "      <td>...</td>\n",
       "      <td>0</td>\n",
       "      <td>1</td>\n",
       "      <td>1</td>\n",
       "      <td>0</td>\n",
       "      <td>0</td>\n",
       "      <td>0</td>\n",
       "      <td>1</td>\n",
       "      <td>1</td>\n",
       "      <td>1</td>\n",
       "      <td>1</td>\n",
       "    </tr>\n",
       "    <tr>\n",
       "      <th>49999</th>\n",
       "      <td>0x25ff1</td>\n",
       "      <td>CUS_0x942c</td>\n",
       "      <td>December</td>\n",
       "      <td>25.0</td>\n",
       "      <td>078-73-5990</td>\n",
       "      <td>Mechanic</td>\n",
       "      <td>39628.99</td>\n",
       "      <td>3359.415833</td>\n",
       "      <td>4</td>\n",
       "      <td>6</td>\n",
       "      <td>...</td>\n",
       "      <td>0</td>\n",
       "      <td>1</td>\n",
       "      <td>0</td>\n",
       "      <td>0</td>\n",
       "      <td>1</td>\n",
       "      <td>1</td>\n",
       "      <td>1</td>\n",
       "      <td>0</td>\n",
       "      <td>1</td>\n",
       "      <td>1</td>\n",
       "    </tr>\n",
       "  </tbody>\n",
       "</table>\n",
       "<p>50000 rows × 43 columns</p>\n",
       "</div>"
      ],
      "text/plain": [
       "            ID Customer_ID      Month     Age          SSN Occupation  \\\n",
       "0       0x160a   CUS_0xd40  September    23.0  821-00-0265  Scientist   \n",
       "1       0x160b   CUS_0xd40    October    24.0  821-00-0265  Scientist   \n",
       "2       0x160c   CUS_0xd40   November    24.0  821-00-0265  Scientist   \n",
       "3       0x160d   CUS_0xd40   December    24.0  821-00-0265  Scientist   \n",
       "4       0x1616  CUS_0x21b1  September    28.0  004-07-5839    Teacher   \n",
       "...        ...         ...        ...     ...          ...        ...   \n",
       "49995  0x25fe5  CUS_0x8600   December  4975.0  031-35-0942  Architect   \n",
       "49996  0x25fee  CUS_0x942c  September    25.0  078-73-5990   Mechanic   \n",
       "49997  0x25fef  CUS_0x942c    October    25.0  078-73-5990   Mechanic   \n",
       "49998  0x25ff0  CUS_0x942c   November    25.0  078-73-5990   Mechanic   \n",
       "49999  0x25ff1  CUS_0x942c   December    25.0  078-73-5990   Mechanic   \n",
       "\n",
       "       Annual_Income  Monthly_Inhand_Salary  Num_Bank_Accounts  \\\n",
       "0           19114.12            1824.843333                  3   \n",
       "1           19114.12            1824.843333                  3   \n",
       "2           19114.12            1824.843333                  3   \n",
       "3           19114.12                    NaN                  3   \n",
       "4           34847.84            3037.986667                  2   \n",
       "...              ...                    ...                ...   \n",
       "49995       20002.88            1929.906667                 10   \n",
       "49996       39628.99                    NaN                  4   \n",
       "49997       39628.99            3359.415833                  4   \n",
       "49998       39628.99                    NaN                  4   \n",
       "49999       39628.99            3359.415833                  4   \n",
       "\n",
       "       Num_Credit_Card  ...  personal loan  student loan high  large  low  \\\n",
       "0                    4  ...              1             0    0      0    1   \n",
       "1                    4  ...              1             0    1      0    0   \n",
       "2                    4  ...              1             0    0      0    1   \n",
       "3                    4  ...              1             0    1      0    0   \n",
       "4                    4  ...              0             0    1      1    0   \n",
       "...                ...  ...            ...           ...  ...    ...  ...   \n",
       "49995                8  ...              1             1    0      0    1   \n",
       "49996                6  ...              0             1    0      0    1   \n",
       "49997                6  ...              0             1    0      1    1   \n",
       "49998                6  ...              0             1    1      0    0   \n",
       "49999                6  ...              0             1    0      0    1   \n",
       "\n",
       "       medium  payments small  spent  value  \n",
       "0           0         1     1      1      1  \n",
       "1           1         1     0      1      1  \n",
       "2           1         1     0      1      1  \n",
       "3           1         1     0      1      1  \n",
       "4           0         1     0      1      1  \n",
       "...       ...       ...   ...    ...    ...  \n",
       "49995       0         1     1      1      1  \n",
       "49996       0         1     1      1      1  \n",
       "49997       0         1     0      1      1  \n",
       "49998       0         1     1      1      1  \n",
       "49999       1         1     0      1      1  \n",
       "\n",
       "[50000 rows x 43 columns]"
      ]
     },
     "execution_count": 71,
     "metadata": {},
     "output_type": "execute_result"
    }
   ],
   "source": [
    "# combining the original dataset and the Type_of_Loan dataset\n",
    "data_test = pd.concat([data_test, df_payment_behaviour],\n",
    "                  axis = 1,\n",
    "                  ignore_index = False)\n",
    "data_test"
   ]
  },
  {
   "cell_type": "markdown",
   "id": "ab40493f",
   "metadata": {},
   "source": [
    "### **Vf. Categorical Feature: Credit_Mix**<a class = \"anchor\" id = \"Vf\"></a>"
   ]
  },
  {
   "cell_type": "markdown",
   "id": "fe1c1fee",
   "metadata": {},
   "source": [
    "The 'Credit_Mix' feature also has missing values in the form of string, '_'. Like before, we are going to omit these '_' values first before filling in the missing values."
   ]
  },
  {
   "cell_type": "code",
   "execution_count": 72,
   "id": "b3fcc83f",
   "metadata": {
    "scrolled": true
   },
   "outputs": [
    {
     "name": "stdout",
     "output_type": "stream",
     "text": [
      "Standard    36479\n",
      "Good        24337\n",
      "_           20195\n",
      "Bad         18989\n",
      "Name: Credit_Mix, dtype: int64\n",
      "********************\n",
      "Standard    18379\n",
      "Good        12260\n",
      "_            9805\n",
      "Bad          9556\n",
      "Name: Credit_Mix, dtype: int64\n"
     ]
    }
   ],
   "source": [
    "print(data_train['Credit_Mix'].value_counts())\n",
    "print('*'*20)\n",
    "print(data_test['Credit_Mix'].value_counts())"
   ]
  },
  {
   "cell_type": "code",
   "execution_count": 73,
   "id": "d86e7109",
   "metadata": {},
   "outputs": [],
   "source": [
    "#drop _ in train \n",
    "data_train['Credit_Mix']=data_train['Credit_Mix'].replace('_',np.nan)\n",
    "#drop _ in test\n",
    "data_test['Credit_Mix']=data_test['Credit_Mix'].replace('_',np.nan)\n"
   ]
  },
  {
   "cell_type": "code",
   "execution_count": 74,
   "id": "17ce5a4f",
   "metadata": {},
   "outputs": [
    {
     "name": "stdout",
     "output_type": "stream",
     "text": [
      "Standard    36479\n",
      "Good        24337\n",
      "Bad         18989\n",
      "Name: Credit_Mix, dtype: int64\n",
      "********************\n",
      "Standard    18379\n",
      "Good        12260\n",
      "Bad          9556\n",
      "Name: Credit_Mix, dtype: int64\n"
     ]
    }
   ],
   "source": [
    "print(data_train['Credit_Mix'].value_counts())\n",
    "print('*'*20)\n",
    "print(data_test['Credit_Mix'].value_counts())"
   ]
  },
  {
   "cell_type": "code",
   "execution_count": 75,
   "id": "5611fdb8",
   "metadata": {},
   "outputs": [],
   "source": [
    "#fill nan values in train\n",
    "data_train['Credit_Mix'] = data_train['Credit_Mix'].fillna(data_train.groupby('Customer_ID')['Credit_Mix'].transform(lambda x:x.mode().iat[0]))"
   ]
  },
  {
   "cell_type": "code",
   "execution_count": 76,
   "id": "45fe1295",
   "metadata": {},
   "outputs": [
    {
     "data": {
      "text/plain": [
       "0"
      ]
     },
     "execution_count": 76,
     "metadata": {},
     "output_type": "execute_result"
    }
   ],
   "source": [
    "#Check null entries\n",
    "data_train['Credit_Mix'].isnull().sum()"
   ]
  },
  {
   "cell_type": "code",
   "execution_count": 77,
   "id": "5ec94ff7",
   "metadata": {},
   "outputs": [
    {
     "name": "stdout",
     "output_type": "stream",
     "text": [
      "Standard    45848\n",
      "Good        30384\n",
      "Bad         23768\n",
      "Name: Credit_Mix, dtype: int64\n",
      "**************************************************\n",
      "100000\n"
     ]
    }
   ],
   "source": [
    "#Check null filling\n",
    "print(data_train['Credit_Mix'].value_counts())\n",
    "print('*'*50)\n",
    "print(data_train['Credit_Mix'].value_counts().sum())"
   ]
  },
  {
   "cell_type": "code",
   "execution_count": 78,
   "id": "f65d0a92",
   "metadata": {},
   "outputs": [
    {
     "data": {
      "text/html": [
       "<div>\n",
       "<style scoped>\n",
       "    .dataframe tbody tr th:only-of-type {\n",
       "        vertical-align: middle;\n",
       "    }\n",
       "\n",
       "    .dataframe tbody tr th {\n",
       "        vertical-align: top;\n",
       "    }\n",
       "\n",
       "    .dataframe thead th {\n",
       "        text-align: right;\n",
       "    }\n",
       "</style>\n",
       "<table border=\"1\" class=\"dataframe\">\n",
       "  <thead>\n",
       "    <tr style=\"text-align: right;\">\n",
       "      <th></th>\n",
       "      <th>Credit_Mix</th>\n",
       "      <th>Count</th>\n",
       "      <th>Probability</th>\n",
       "    </tr>\n",
       "  </thead>\n",
       "  <tbody>\n",
       "    <tr>\n",
       "      <th>0</th>\n",
       "      <td>Standard</td>\n",
       "      <td>18379</td>\n",
       "      <td>0.457246</td>\n",
       "    </tr>\n",
       "    <tr>\n",
       "      <th>1</th>\n",
       "      <td>Good</td>\n",
       "      <td>12260</td>\n",
       "      <td>0.305013</td>\n",
       "    </tr>\n",
       "    <tr>\n",
       "      <th>2</th>\n",
       "      <td>Bad</td>\n",
       "      <td>9556</td>\n",
       "      <td>0.237741</td>\n",
       "    </tr>\n",
       "  </tbody>\n",
       "</table>\n",
       "</div>"
      ],
      "text/plain": [
       "  Credit_Mix  Count  Probability\n",
       "0   Standard  18379     0.457246\n",
       "1       Good  12260     0.305013\n",
       "2        Bad   9556     0.237741"
      ]
     },
     "execution_count": 78,
     "metadata": {},
     "output_type": "execute_result"
    }
   ],
   "source": [
    "#Another Way to fill nan values for test data\n",
    "VC=data_test['Credit_Mix'].value_counts()\n",
    "UVlist=list(VC.index)\n",
    "UVlist\n",
    "totalCount=sum(VC)\n",
    "totalCount\n",
    "listUVportion = []\n",
    "for UVcount in VC:\n",
    "    UVportion = UVcount / totalCount\n",
    "    listUVportion.append(UVportion)\n",
    "listUVportion\n",
    "table=pd.DataFrame(list(zip(UVlist,VC,listUVportion)))\n",
    "table.columns=['Credit_Mix','Count','Probability']\n",
    "table"
   ]
  },
  {
   "cell_type": "code",
   "execution_count": 79,
   "id": "9829150b",
   "metadata": {},
   "outputs": [],
   "source": [
    "data_test['Credit_Mix']=data_test['Credit_Mix'].fillna(pd.Series(np.random.choice(UVlist,p=listUVportion,size=len(data_test))))"
   ]
  },
  {
   "cell_type": "code",
   "execution_count": 80,
   "id": "0531e3c4",
   "metadata": {},
   "outputs": [
    {
     "data": {
      "text/plain": [
       "0"
      ]
     },
     "execution_count": 80,
     "metadata": {},
     "output_type": "execute_result"
    }
   ],
   "source": [
    "#check null entries\n",
    "data_test['Credit_Mix'].isnull().sum()"
   ]
  },
  {
   "cell_type": "code",
   "execution_count": 81,
   "id": "17f147ce",
   "metadata": {},
   "outputs": [
    {
     "name": "stdout",
     "output_type": "stream",
     "text": [
      "Standard    22858\n",
      "Good        15236\n",
      "Bad         11906\n",
      "Name: Credit_Mix, dtype: int64\n",
      "**************************************************\n",
      "50000\n"
     ]
    }
   ],
   "source": [
    "#Check null filling\n",
    "print(data_test['Credit_Mix'].value_counts())\n",
    "print('*'*50)\n",
    "print(data_test['Credit_Mix'].value_counts().sum())"
   ]
  },
  {
   "cell_type": "markdown",
   "id": "74a30b12",
   "metadata": {},
   "source": [
    "### **Vg. Data Cleaning and Engineering Log**<a class = \"anchor\" id = \"Vg\"></a>"
   ]
  },
  {
   "cell_type": "markdown",
   "id": "a2a09d45",
   "metadata": {},
   "source": [
    "**Data Cleaning and Engineering Phase 2**\n",
    "\n",
    "**1. Name**\n",
    "* Dropped the Name feature\n",
    "\n",
    "**2. SSN**\n",
    "* Replaced the '#F%$D@*&8' values with np.nan.\n",
    "* Filled in the np.nan values with the corresponding customer's SSN mode value.\n",
    "\n",
    "**3. Occupation**\n",
    "* Replaced the '-------' values with np.nan.\n",
    "* Filled in the np.nan values with the corresponding customer's Occupation mode value.\n",
    "\n",
    "**4. Type_of_Loan**\n",
    "* Converted the feature data type into string.\n",
    "* Replaced 'and ' characters with '' instead, so that the type of loan items can later be separated from each other.\n",
    "* Replaced ', ' characters with '' instead, so that the type of loan items can later be separated from each other.\n",
    "* Separated each item in the feature with the delimiter ', '.\n",
    "* Filled in the missing values randomly based on the proportion of each unique item in the feature.\n",
    "* Transformed the feature into a wide format\n",
    "* Concatenated the wide-transformed feature into the main dataframes.\n",
    "\n",
    "**5. Payment_Behaviour**\n",
    "* Replaced the '!@9#%8' values with np.nan.\n",
    "* Filled in the np.nan values with the corresponding customer's Payment_Behaviour mode value.\n",
    "* Replaced the '!@9#%8' values with np.nan again. These values reappeared because of the previous cleaning step.\n",
    "* Filled in the np.nan values randomly based on the proportion of each unique item in the feature.\n",
    "\n",
    "**6. Credit_Mix**\n",
    "* Replaced the '_' character with np.nan.\n",
    "* Filled in the np.nan values randomly based on the proportion of each unique item in the test data.\n",
    "* Filled in the np.nan values based on the mode of each unique item in the train data."
   ]
  },
  {
   "cell_type": "markdown",
   "id": "359fe49f",
   "metadata": {},
   "source": [
    "## **VI. Data Exploration Phase 3: Numerical Features**<a class = \"anchor\" id = \"VI\"></a>"
   ]
  },
  {
   "cell_type": "markdown",
   "id": "57b134c4",
   "metadata": {},
   "source": [
    "Now that we are done with the categorical features, let us move on to the numerical ones. A slightly different approcah is needed as we are dealing with both continuous and discrete numbers."
   ]
  },
  {
   "cell_type": "markdown",
   "id": "e8a85193",
   "metadata": {},
   "source": [
    "### **VIa. Data Distribution**<a class = \"anchor\" id = \"VIa\"></a>"
   ]
  },
  {
   "cell_type": "markdown",
   "id": "0d256248",
   "metadata": {},
   "source": [
    "##### **Data Distribution Table**"
   ]
  },
  {
   "cell_type": "code",
   "execution_count": 82,
   "id": "5b74dcb6",
   "metadata": {},
   "outputs": [
    {
     "data": {
      "text/html": [
       "<div>\n",
       "<style scoped>\n",
       "    .dataframe tbody tr th:only-of-type {\n",
       "        vertical-align: middle;\n",
       "    }\n",
       "\n",
       "    .dataframe tbody tr th {\n",
       "        vertical-align: top;\n",
       "    }\n",
       "\n",
       "    .dataframe thead th {\n",
       "        text-align: right;\n",
       "    }\n",
       "</style>\n",
       "<table border=\"1\" class=\"dataframe\">\n",
       "  <thead>\n",
       "    <tr style=\"text-align: right;\">\n",
       "      <th></th>\n",
       "      <th>Age</th>\n",
       "      <th>Annual_Income</th>\n",
       "      <th>Monthly_Inhand_Salary</th>\n",
       "      <th>Num_Bank_Accounts</th>\n",
       "      <th>Num_Credit_Card</th>\n",
       "      <th>Interest_Rate</th>\n",
       "      <th>Num_of_Loan</th>\n",
       "      <th>Delay_from_due_date</th>\n",
       "      <th>Num_of_Delayed_Payment</th>\n",
       "      <th>Changed_Credit_Limit</th>\n",
       "      <th>Num_Credit_Inquiries</th>\n",
       "      <th>Outstanding_Debt</th>\n",
       "      <th>Credit_Utilization_Ratio</th>\n",
       "      <th>Credit_History_Age</th>\n",
       "      <th>Total_EMI_per_month</th>\n",
       "      <th>Amount_invested_monthly</th>\n",
       "      <th>Monthly_Balance</th>\n",
       "    </tr>\n",
       "  </thead>\n",
       "  <tbody>\n",
       "    <tr>\n",
       "      <th>count</th>\n",
       "      <td>100000.000000</td>\n",
       "      <td>1.000000e+05</td>\n",
       "      <td>84998.000000</td>\n",
       "      <td>100000.000000</td>\n",
       "      <td>100000.00000</td>\n",
       "      <td>100000.000000</td>\n",
       "      <td>100000.000000</td>\n",
       "      <td>100000.000000</td>\n",
       "      <td>92998.000000</td>\n",
       "      <td>97909.000000</td>\n",
       "      <td>98035.000000</td>\n",
       "      <td>100000.000000</td>\n",
       "      <td>100000.000000</td>\n",
       "      <td>90970.000000</td>\n",
       "      <td>100000.000000</td>\n",
       "      <td>95521.000000</td>\n",
       "      <td>9.713200e+04</td>\n",
       "    </tr>\n",
       "    <tr>\n",
       "      <th>mean</th>\n",
       "      <td>119.509700</td>\n",
       "      <td>1.764157e+05</td>\n",
       "      <td>4194.170850</td>\n",
       "      <td>17.091280</td>\n",
       "      <td>22.47443</td>\n",
       "      <td>72.466040</td>\n",
       "      <td>10.761960</td>\n",
       "      <td>21.068780</td>\n",
       "      <td>30.946268</td>\n",
       "      <td>10.465678</td>\n",
       "      <td>27.754251</td>\n",
       "      <td>1426.220376</td>\n",
       "      <td>32.285173</td>\n",
       "      <td>221.195405</td>\n",
       "      <td>1403.118217</td>\n",
       "      <td>637.412998</td>\n",
       "      <td>3.088580e+22</td>\n",
       "    </tr>\n",
       "    <tr>\n",
       "      <th>std</th>\n",
       "      <td>684.757313</td>\n",
       "      <td>1.429618e+06</td>\n",
       "      <td>3183.686167</td>\n",
       "      <td>117.404834</td>\n",
       "      <td>129.05741</td>\n",
       "      <td>466.422621</td>\n",
       "      <td>61.789933</td>\n",
       "      <td>14.860104</td>\n",
       "      <td>226.028754</td>\n",
       "      <td>6.670732</td>\n",
       "      <td>193.177339</td>\n",
       "      <td>1155.129026</td>\n",
       "      <td>5.116875</td>\n",
       "      <td>99.741364</td>\n",
       "      <td>8306.041270</td>\n",
       "      <td>2043.319327</td>\n",
       "      <td>3.208492e+24</td>\n",
       "    </tr>\n",
       "    <tr>\n",
       "      <th>min</th>\n",
       "      <td>14.000000</td>\n",
       "      <td>7.005930e+03</td>\n",
       "      <td>303.645417</td>\n",
       "      <td>-1.000000</td>\n",
       "      <td>0.00000</td>\n",
       "      <td>1.000000</td>\n",
       "      <td>0.000000</td>\n",
       "      <td>-5.000000</td>\n",
       "      <td>0.000000</td>\n",
       "      <td>0.000000</td>\n",
       "      <td>0.000000</td>\n",
       "      <td>0.230000</td>\n",
       "      <td>20.000000</td>\n",
       "      <td>1.000000</td>\n",
       "      <td>0.000000</td>\n",
       "      <td>0.000000</td>\n",
       "      <td>7.759665e-03</td>\n",
       "    </tr>\n",
       "    <tr>\n",
       "      <th>25%</th>\n",
       "      <td>25.000000</td>\n",
       "      <td>1.945750e+04</td>\n",
       "      <td>1625.568229</td>\n",
       "      <td>3.000000</td>\n",
       "      <td>4.00000</td>\n",
       "      <td>8.000000</td>\n",
       "      <td>2.000000</td>\n",
       "      <td>10.000000</td>\n",
       "      <td>9.000000</td>\n",
       "      <td>5.350000</td>\n",
       "      <td>3.000000</td>\n",
       "      <td>566.072500</td>\n",
       "      <td>28.052567</td>\n",
       "      <td>144.000000</td>\n",
       "      <td>30.306660</td>\n",
       "      <td>74.534002</td>\n",
       "      <td>2.700037e+02</td>\n",
       "    </tr>\n",
       "    <tr>\n",
       "      <th>50%</th>\n",
       "      <td>34.000000</td>\n",
       "      <td>3.757861e+04</td>\n",
       "      <td>3093.745000</td>\n",
       "      <td>6.000000</td>\n",
       "      <td>5.00000</td>\n",
       "      <td>13.000000</td>\n",
       "      <td>3.000000</td>\n",
       "      <td>18.000000</td>\n",
       "      <td>14.000000</td>\n",
       "      <td>9.400000</td>\n",
       "      <td>6.000000</td>\n",
       "      <td>1166.155000</td>\n",
       "      <td>32.305784</td>\n",
       "      <td>219.000000</td>\n",
       "      <td>69.249473</td>\n",
       "      <td>135.925682</td>\n",
       "      <td>3.364770e+02</td>\n",
       "    </tr>\n",
       "    <tr>\n",
       "      <th>75%</th>\n",
       "      <td>42.000000</td>\n",
       "      <td>7.279092e+04</td>\n",
       "      <td>5957.448333</td>\n",
       "      <td>7.000000</td>\n",
       "      <td>7.00000</td>\n",
       "      <td>20.000000</td>\n",
       "      <td>6.000000</td>\n",
       "      <td>28.000000</td>\n",
       "      <td>18.000000</td>\n",
       "      <td>14.870000</td>\n",
       "      <td>9.000000</td>\n",
       "      <td>1945.962500</td>\n",
       "      <td>36.496663</td>\n",
       "      <td>302.000000</td>\n",
       "      <td>161.224249</td>\n",
       "      <td>265.731733</td>\n",
       "      <td>4.696852e+02</td>\n",
       "    </tr>\n",
       "    <tr>\n",
       "      <th>max</th>\n",
       "      <td>8698.000000</td>\n",
       "      <td>2.419806e+07</td>\n",
       "      <td>15204.633333</td>\n",
       "      <td>1798.000000</td>\n",
       "      <td>1499.00000</td>\n",
       "      <td>5797.000000</td>\n",
       "      <td>1496.000000</td>\n",
       "      <td>67.000000</td>\n",
       "      <td>4397.000000</td>\n",
       "      <td>36.970000</td>\n",
       "      <td>2597.000000</td>\n",
       "      <td>4998.070000</td>\n",
       "      <td>50.000000</td>\n",
       "      <td>404.000000</td>\n",
       "      <td>82331.000000</td>\n",
       "      <td>10000.000000</td>\n",
       "      <td>3.333333e+26</td>\n",
       "    </tr>\n",
       "  </tbody>\n",
       "</table>\n",
       "</div>"
      ],
      "text/plain": [
       "                 Age  Annual_Income  Monthly_Inhand_Salary  Num_Bank_Accounts  \\\n",
       "count  100000.000000   1.000000e+05           84998.000000      100000.000000   \n",
       "mean      119.509700   1.764157e+05            4194.170850          17.091280   \n",
       "std       684.757313   1.429618e+06            3183.686167         117.404834   \n",
       "min        14.000000   7.005930e+03             303.645417          -1.000000   \n",
       "25%        25.000000   1.945750e+04            1625.568229           3.000000   \n",
       "50%        34.000000   3.757861e+04            3093.745000           6.000000   \n",
       "75%        42.000000   7.279092e+04            5957.448333           7.000000   \n",
       "max      8698.000000   2.419806e+07           15204.633333        1798.000000   \n",
       "\n",
       "       Num_Credit_Card  Interest_Rate    Num_of_Loan  Delay_from_due_date  \\\n",
       "count     100000.00000  100000.000000  100000.000000        100000.000000   \n",
       "mean          22.47443      72.466040      10.761960            21.068780   \n",
       "std          129.05741     466.422621      61.789933            14.860104   \n",
       "min            0.00000       1.000000       0.000000            -5.000000   \n",
       "25%            4.00000       8.000000       2.000000            10.000000   \n",
       "50%            5.00000      13.000000       3.000000            18.000000   \n",
       "75%            7.00000      20.000000       6.000000            28.000000   \n",
       "max         1499.00000    5797.000000    1496.000000            67.000000   \n",
       "\n",
       "       Num_of_Delayed_Payment  Changed_Credit_Limit  Num_Credit_Inquiries  \\\n",
       "count            92998.000000          97909.000000          98035.000000   \n",
       "mean                30.946268             10.465678             27.754251   \n",
       "std                226.028754              6.670732            193.177339   \n",
       "min                  0.000000              0.000000              0.000000   \n",
       "25%                  9.000000              5.350000              3.000000   \n",
       "50%                 14.000000              9.400000              6.000000   \n",
       "75%                 18.000000             14.870000              9.000000   \n",
       "max               4397.000000             36.970000           2597.000000   \n",
       "\n",
       "       Outstanding_Debt  Credit_Utilization_Ratio  Credit_History_Age  \\\n",
       "count     100000.000000             100000.000000        90970.000000   \n",
       "mean        1426.220376                 32.285173          221.195405   \n",
       "std         1155.129026                  5.116875           99.741364   \n",
       "min            0.230000                 20.000000            1.000000   \n",
       "25%          566.072500                 28.052567          144.000000   \n",
       "50%         1166.155000                 32.305784          219.000000   \n",
       "75%         1945.962500                 36.496663          302.000000   \n",
       "max         4998.070000                 50.000000          404.000000   \n",
       "\n",
       "       Total_EMI_per_month  Amount_invested_monthly  Monthly_Balance  \n",
       "count        100000.000000             95521.000000     9.713200e+04  \n",
       "mean           1403.118217               637.412998     3.088580e+22  \n",
       "std            8306.041270              2043.319327     3.208492e+24  \n",
       "min               0.000000                 0.000000     7.759665e-03  \n",
       "25%              30.306660                74.534002     2.700037e+02  \n",
       "50%              69.249473               135.925682     3.364770e+02  \n",
       "75%             161.224249               265.731733     4.696852e+02  \n",
       "max           82331.000000             10000.000000     3.333333e+26  "
      ]
     },
     "execution_count": 82,
     "metadata": {},
     "output_type": "execute_result"
    }
   ],
   "source": [
    "# taking a look at Train's numerical data's variation dispersion\n",
    "data_train[NumFeatures].describe()"
   ]
  },
  {
   "cell_type": "code",
   "execution_count": 83,
   "id": "9f387a05",
   "metadata": {},
   "outputs": [
    {
     "data": {
      "text/html": [
       "<div>\n",
       "<style scoped>\n",
       "    .dataframe tbody tr th:only-of-type {\n",
       "        vertical-align: middle;\n",
       "    }\n",
       "\n",
       "    .dataframe tbody tr th {\n",
       "        vertical-align: top;\n",
       "    }\n",
       "\n",
       "    .dataframe thead th {\n",
       "        text-align: right;\n",
       "    }\n",
       "</style>\n",
       "<table border=\"1\" class=\"dataframe\">\n",
       "  <thead>\n",
       "    <tr style=\"text-align: right;\">\n",
       "      <th></th>\n",
       "      <th>Age</th>\n",
       "      <th>Annual_Income</th>\n",
       "      <th>Monthly_Inhand_Salary</th>\n",
       "      <th>Num_Bank_Accounts</th>\n",
       "      <th>Num_Credit_Card</th>\n",
       "      <th>Interest_Rate</th>\n",
       "      <th>Num_of_Loan</th>\n",
       "      <th>Delay_from_due_date</th>\n",
       "      <th>Num_of_Delayed_Payment</th>\n",
       "      <th>Changed_Credit_Limit</th>\n",
       "      <th>Num_Credit_Inquiries</th>\n",
       "      <th>Outstanding_Debt</th>\n",
       "      <th>Credit_Utilization_Ratio</th>\n",
       "      <th>Credit_History_Age</th>\n",
       "      <th>Total_EMI_per_month</th>\n",
       "      <th>Amount_invested_monthly</th>\n",
       "      <th>Monthly_Balance</th>\n",
       "    </tr>\n",
       "  </thead>\n",
       "  <tbody>\n",
       "    <tr>\n",
       "      <th>count</th>\n",
       "      <td>50000.000000</td>\n",
       "      <td>5.000000e+04</td>\n",
       "      <td>42502.000000</td>\n",
       "      <td>50000.000000</td>\n",
       "      <td>50000.000000</td>\n",
       "      <td>50000.000000</td>\n",
       "      <td>50000.000000</td>\n",
       "      <td>50000.000000</td>\n",
       "      <td>46502.000000</td>\n",
       "      <td>48941.000000</td>\n",
       "      <td>48965.000000</td>\n",
       "      <td>50000.000000</td>\n",
       "      <td>50000.000000</td>\n",
       "      <td>45530.000000</td>\n",
       "      <td>50000.000000</td>\n",
       "      <td>47729.000000</td>\n",
       "      <td>4.943800e+04</td>\n",
       "    </tr>\n",
       "    <tr>\n",
       "      <th>mean</th>\n",
       "      <td>118.994420</td>\n",
       "      <td>1.663342e+05</td>\n",
       "      <td>4182.004291</td>\n",
       "      <td>16.838260</td>\n",
       "      <td>22.921480</td>\n",
       "      <td>68.772640</td>\n",
       "      <td>11.299360</td>\n",
       "      <td>21.052640</td>\n",
       "      <td>30.910369</td>\n",
       "      <td>10.458053</td>\n",
       "      <td>30.080200</td>\n",
       "      <td>1426.220376</td>\n",
       "      <td>32.279581</td>\n",
       "      <td>227.251175</td>\n",
       "      <td>1491.304305</td>\n",
       "      <td>641.654795</td>\n",
       "      <td>4.045471e+22</td>\n",
       "    </tr>\n",
       "    <tr>\n",
       "      <th>std</th>\n",
       "      <td>678.133254</td>\n",
       "      <td>1.351965e+06</td>\n",
       "      <td>3174.109304</td>\n",
       "      <td>116.396848</td>\n",
       "      <td>129.314804</td>\n",
       "      <td>451.602363</td>\n",
       "      <td>65.483498</td>\n",
       "      <td>14.860397</td>\n",
       "      <td>221.507473</td>\n",
       "      <td>6.651572</td>\n",
       "      <td>196.984121</td>\n",
       "      <td>1155.134801</td>\n",
       "      <td>5.106238</td>\n",
       "      <td>99.554366</td>\n",
       "      <td>8595.647887</td>\n",
       "      <td>2053.895420</td>\n",
       "      <td>3.671994e+24</td>\n",
       "    </tr>\n",
       "    <tr>\n",
       "      <th>min</th>\n",
       "      <td>14.000000</td>\n",
       "      <td>7.005930e+03</td>\n",
       "      <td>303.645417</td>\n",
       "      <td>-1.000000</td>\n",
       "      <td>0.000000</td>\n",
       "      <td>1.000000</td>\n",
       "      <td>0.000000</td>\n",
       "      <td>-5.000000</td>\n",
       "      <td>0.000000</td>\n",
       "      <td>0.000000</td>\n",
       "      <td>0.000000</td>\n",
       "      <td>0.230000</td>\n",
       "      <td>20.509652</td>\n",
       "      <td>10.000000</td>\n",
       "      <td>0.000000</td>\n",
       "      <td>0.000000</td>\n",
       "      <td>1.034022e-01</td>\n",
       "    </tr>\n",
       "    <tr>\n",
       "      <th>25%</th>\n",
       "      <td>25.000000</td>\n",
       "      <td>1.945333e+04</td>\n",
       "      <td>1625.188333</td>\n",
       "      <td>3.000000</td>\n",
       "      <td>4.000000</td>\n",
       "      <td>8.000000</td>\n",
       "      <td>2.000000</td>\n",
       "      <td>10.000000</td>\n",
       "      <td>9.000000</td>\n",
       "      <td>5.360000</td>\n",
       "      <td>4.000000</td>\n",
       "      <td>566.072500</td>\n",
       "      <td>28.061040</td>\n",
       "      <td>151.000000</td>\n",
       "      <td>32.222388</td>\n",
       "      <td>74.529270</td>\n",
       "      <td>2.705032e+02</td>\n",
       "    </tr>\n",
       "    <tr>\n",
       "      <th>50%</th>\n",
       "      <td>34.000000</td>\n",
       "      <td>3.757782e+04</td>\n",
       "      <td>3086.305000</td>\n",
       "      <td>6.000000</td>\n",
       "      <td>5.000000</td>\n",
       "      <td>13.000000</td>\n",
       "      <td>3.000000</td>\n",
       "      <td>18.000000</td>\n",
       "      <td>14.000000</td>\n",
       "      <td>9.410000</td>\n",
       "      <td>7.000000</td>\n",
       "      <td>1166.155000</td>\n",
       "      <td>32.280390</td>\n",
       "      <td>225.000000</td>\n",
       "      <td>74.733349</td>\n",
       "      <td>135.590430</td>\n",
       "      <td>3.370127e+02</td>\n",
       "    </tr>\n",
       "    <tr>\n",
       "      <th>75%</th>\n",
       "      <td>43.000000</td>\n",
       "      <td>7.281702e+04</td>\n",
       "      <td>5934.189094</td>\n",
       "      <td>7.000000</td>\n",
       "      <td>7.000000</td>\n",
       "      <td>20.000000</td>\n",
       "      <td>6.000000</td>\n",
       "      <td>28.000000</td>\n",
       "      <td>18.000000</td>\n",
       "      <td>14.800000</td>\n",
       "      <td>10.000000</td>\n",
       "      <td>1945.962500</td>\n",
       "      <td>36.468591</td>\n",
       "      <td>307.000000</td>\n",
       "      <td>176.157491</td>\n",
       "      <td>266.892228</td>\n",
       "      <td>4.709267e+02</td>\n",
       "    </tr>\n",
       "    <tr>\n",
       "      <th>max</th>\n",
       "      <td>8688.000000</td>\n",
       "      <td>2.413726e+07</td>\n",
       "      <td>15204.633333</td>\n",
       "      <td>1798.000000</td>\n",
       "      <td>1499.000000</td>\n",
       "      <td>5799.000000</td>\n",
       "      <td>1496.000000</td>\n",
       "      <td>67.000000</td>\n",
       "      <td>4399.000000</td>\n",
       "      <td>36.650000</td>\n",
       "      <td>2593.000000</td>\n",
       "      <td>4998.070000</td>\n",
       "      <td>48.540663</td>\n",
       "      <td>408.000000</td>\n",
       "      <td>82398.000000</td>\n",
       "      <td>10000.000000</td>\n",
       "      <td>3.333333e+26</td>\n",
       "    </tr>\n",
       "  </tbody>\n",
       "</table>\n",
       "</div>"
      ],
      "text/plain": [
       "                Age  Annual_Income  Monthly_Inhand_Salary  Num_Bank_Accounts  \\\n",
       "count  50000.000000   5.000000e+04           42502.000000       50000.000000   \n",
       "mean     118.994420   1.663342e+05            4182.004291          16.838260   \n",
       "std      678.133254   1.351965e+06            3174.109304         116.396848   \n",
       "min       14.000000   7.005930e+03             303.645417          -1.000000   \n",
       "25%       25.000000   1.945333e+04            1625.188333           3.000000   \n",
       "50%       34.000000   3.757782e+04            3086.305000           6.000000   \n",
       "75%       43.000000   7.281702e+04            5934.189094           7.000000   \n",
       "max     8688.000000   2.413726e+07           15204.633333        1798.000000   \n",
       "\n",
       "       Num_Credit_Card  Interest_Rate   Num_of_Loan  Delay_from_due_date  \\\n",
       "count     50000.000000   50000.000000  50000.000000         50000.000000   \n",
       "mean         22.921480      68.772640     11.299360            21.052640   \n",
       "std         129.314804     451.602363     65.483498            14.860397   \n",
       "min           0.000000       1.000000      0.000000            -5.000000   \n",
       "25%           4.000000       8.000000      2.000000            10.000000   \n",
       "50%           5.000000      13.000000      3.000000            18.000000   \n",
       "75%           7.000000      20.000000      6.000000            28.000000   \n",
       "max        1499.000000    5799.000000   1496.000000            67.000000   \n",
       "\n",
       "       Num_of_Delayed_Payment  Changed_Credit_Limit  Num_Credit_Inquiries  \\\n",
       "count            46502.000000          48941.000000          48965.000000   \n",
       "mean                30.910369             10.458053             30.080200   \n",
       "std                221.507473              6.651572            196.984121   \n",
       "min                  0.000000              0.000000              0.000000   \n",
       "25%                  9.000000              5.360000              4.000000   \n",
       "50%                 14.000000              9.410000              7.000000   \n",
       "75%                 18.000000             14.800000             10.000000   \n",
       "max               4399.000000             36.650000           2593.000000   \n",
       "\n",
       "       Outstanding_Debt  Credit_Utilization_Ratio  Credit_History_Age  \\\n",
       "count      50000.000000              50000.000000        45530.000000   \n",
       "mean        1426.220376                 32.279581          227.251175   \n",
       "std         1155.134801                  5.106238           99.554366   \n",
       "min            0.230000                 20.509652           10.000000   \n",
       "25%          566.072500                 28.061040          151.000000   \n",
       "50%         1166.155000                 32.280390          225.000000   \n",
       "75%         1945.962500                 36.468591          307.000000   \n",
       "max         4998.070000                 48.540663          408.000000   \n",
       "\n",
       "       Total_EMI_per_month  Amount_invested_monthly  Monthly_Balance  \n",
       "count         50000.000000             47729.000000     4.943800e+04  \n",
       "mean           1491.304305               641.654795     4.045471e+22  \n",
       "std            8595.647887              2053.895420     3.671994e+24  \n",
       "min               0.000000                 0.000000     1.034022e-01  \n",
       "25%              32.222388                74.529270     2.705032e+02  \n",
       "50%              74.733349               135.590430     3.370127e+02  \n",
       "75%             176.157491               266.892228     4.709267e+02  \n",
       "max           82398.000000             10000.000000     3.333333e+26  "
      ]
     },
     "execution_count": 83,
     "metadata": {},
     "output_type": "execute_result"
    }
   ],
   "source": [
    "# taking a look at Test's numerical data's variation dispersion\n",
    "data_test[NumFeatures].describe()"
   ]
  },
  {
   "cell_type": "markdown",
   "id": "71cbeffd",
   "metadata": {},
   "source": [
    "##### **Data Distribution Visualization**"
   ]
  },
  {
   "cell_type": "markdown",
   "id": "25fd5990",
   "metadata": {},
   "source": [
    "To better understand how the data is distributed in each numerical feature, we are going to visualize the data using histogram plots, both for Train and Test dataframes."
   ]
  },
  {
   "cell_type": "code",
   "execution_count": 84,
   "id": "c8a08bfb",
   "metadata": {
    "scrolled": false
   },
   "outputs": [
    {
     "data": {
      "image/png": "[encoded data removed]",
      "text/plain": [
       "<Figure size 1000x5000 with 34 Axes>"
      ]
     },
     "metadata": {},
     "output_type": "display_data"
    }
   ],
   "source": [
    "# setting plot layout\n",
    "fig, axes = plt.subplots(17, 2, figsize = (10, 50))\n",
    "fig.tight_layout(pad = 4)\n",
    "\n",
    "#set titles for train and test dataframes\n",
    "axes[0, 0].set_title('Train Dataframe')\n",
    "\n",
    "axes[0, 1].set_title('Test Dataframe')\n",
    "\n",
    "# plotting the data visualization\n",
    "for i in range(len(NumFeatures)):\n",
    "    axes[i, 0].hist(data_train[NumFeatures[i]],\n",
    "                    color = 'lightblue')\n",
    "    axes[i, 0].set_xlabel(NumFeatures[i])\n",
    "    axes[i, 0].set_ylabel('Count')\n",
    "    ##########################################\n",
    "    axes[i, 1].hist(data_test[NumFeatures[i]],\n",
    "                    color = 'lightgreen')\n",
    "    axes[i, 1].set_xlabel(NumFeatures[i])\n",
    "    axes[i, 1].set_ylabel('Count')\n",
    "plt.show()"
   ]
  },
  {
   "cell_type": "markdown",
   "id": "e8b051ed",
   "metadata": {},
   "source": [
    "### **VIb. Data Exploration Findings**<a class = \"anchor\" id = \"VIb\"></a>"
   ]
  },
  {
   "cell_type": "markdown",
   "id": "8321c73b",
   "metadata": {},
   "source": [
    "Findings:\n",
    "1. Monthly_Inhand_Salary, Num_of_Delayed_Payment, Changed_Credit_Limit, Num_Credit_Inquiries, Credit_History_Age, Amount_invested_monthly, and Monthly_Balance features (total: 7 features) have missing values.\n",
    "2. Age, Annual_Income, Num_Bank_Accounts, Num_Credit_Card, Interest_Rate, Num_of_Loan, Num_of_Delayed_Payment, Changed_Credit_Limit, Num_Credit_Inquiries, Total_EMI_per_month, Amount_invested_monthly, and Monthly_Balance features (total: 12 features) has abnormal max value (upper outlier). These outliers should be addressed when we are filling in the missing values using mean +- stddev imputation method\n",
    "3. Continuing from the Type_of_Loan feature data cleaning, the Num_of_Loan feature will need to be updated with reference to the updated value in Type_of_Loan. The Type_of_Loan feature itself will be dropped afterwards."
   ]
  },
  {
   "cell_type": "markdown",
   "id": "cc247268",
   "metadata": {},
   "source": [
    "Important numerical data cleaning note:\n",
    "In the numerical features data cleaning process, there might be cases in which each one needs a different approach. The cases:\n",
    "1. Missing value in an independent entry\n",
    "2. Missing value in one or more members of an aggregated entries\n",
    "3. Different value in one or more members of an aggregated entries\n",
    "4. Totally missing values of an aggregated entries"
   ]
  },
  {
   "cell_type": "markdown",
   "id": "53dcad21",
   "metadata": {},
   "source": [
    "For example:\n",
    "Customer A has 8 entries in the dataset. The Age value of this customer is either supposed to be the same in all 8 entries or differ with +1 value in the forward entries (assuming he/she might have had a birthday during the period of the data collection). However, when we are looking at the dataset, the Age values of this customer's entries show that they either have missing values or varying values. This kind of case needs to be made distinct from the other cases."
   ]
  },
  {
   "cell_type": "markdown",
   "id": "6b8246c5",
   "metadata": {},
   "source": [
    "## **VII. Data Cleaning and Engineering Phase 3: Numerical Features**<a class = \"anchor\" id = \"VII\"></a>"
   ]
  },
  {
   "cell_type": "markdown",
   "id": "d3d9cad7",
   "metadata": {},
   "source": [
    "### **VIIa. Numerical Feature: Age**<a class = \"anchor\" id = \"VIIa\"></a><a class = \"anchor\" id = \"VIIa\"></a>"
   ]
  },
  {
   "cell_type": "markdown",
   "id": "c5f392d7",
   "metadata": {},
   "source": [
    "The first thing we want to do with the Age feature is to get rid of the illogical values. Let us assume that the oldest people can get in this dataset and still have active credit activities are 90 years old and the youngest ones are 18 years old, based on the general legal age of 18 to be able to have a credit card. Thus, the value above 90 and below 18 will be omitted."
   ]
  },
  {
   "cell_type": "markdown",
   "id": "71fd874e",
   "metadata": {},
   "source": [
    "##### **Calculating the outlier percentage**"
   ]
  },
  {
   "cell_type": "code",
   "execution_count": 85,
   "id": "caf07fa2",
   "metadata": {},
   "outputs": [
    {
     "name": "stdout",
     "output_type": "stream",
     "text": [
      " Train : \n",
      " Age with value larger than 90  : 2781 ( 0.02781 % ) \n",
      " Age with value smaller than 18 : 5706 ( 0.05706 % ) \n",
      "\n",
      " Test : \n",
      " Age with value larger than 90  : 1403 ( 0.02806 % ) \n",
      " Age with value smaller than 18 : 2504 ( 0.05008 % )\n"
     ]
    }
   ],
   "source": [
    "# creating the population variable for Age \n",
    "TrainPop = len(data_train['Age']) #100000\n",
    "TestPop = len(data_test['Age'])  #500000\n",
    "\n",
    "# Age with value larger than 90\n",
    "TrainUpSample = (data_train['Age'] > 90).sum()\n",
    "TestUpSample = (data_test['Age'] > 90).sum()\n",
    "TrainUpPerc = TrainUpSample / TrainPop\n",
    "TestUpPerc = TestUpSample / TestPop\n",
    "\n",
    "# Age with value smaller than 18\n",
    "TrainDownSample = (data_train['Age'] < 18).sum()\n",
    "TestDownSample = (data_test['Age'] < 18).sum()\n",
    "TrainDownPerc = TrainDownSample / TrainPop\n",
    "TestDownPerc = TestDownSample / TestPop\n",
    "\n",
    "# report\n",
    "print(' Train :', '\\n',\n",
    "      'Age with value larger than 90  :', TrainUpSample,\n",
    "      '(', TrainUpPerc, '% )', '\\n',\n",
    "      'Age with value smaller than 18 :', TrainDownSample,\n",
    "      '(', TrainDownPerc, '% )', '\\n' * 2,\n",
    "      'Test :', '\\n',\n",
    "      'Age with value larger than 90  :', TestUpSample,\n",
    "      '(', TestUpPerc, '% )', '\\n',\n",
    "      'Age with value smaller than 18 :', TestDownSample,\n",
    "      '(', TestDownPerc, '% )')"
   ]
  },
  {
   "cell_type": "markdown",
   "id": "bd3e0b93",
   "metadata": {},
   "source": [
    "##### **Dropping the outliers**"
   ]
  },
  {
   "cell_type": "code",
   "execution_count": 86,
   "id": "d24b6eb4",
   "metadata": {},
   "outputs": [],
   "source": [
    "# Train dataframe\n",
    "NewAge = []\n",
    "for i in range(len(data_train['Age'])):\n",
    "    if data_train['Age'][i] > 90 or data_train['Age'][i] < 18:\n",
    "        NewAge.append(np.nan)\n",
    "    else:\n",
    "        NewAge.append(data_train['Age'][i])       \n",
    "data_train['Age'] = NewAge\n",
    "\n",
    "# Test dataframe\n",
    "NewAge = []\n",
    "for i in range(len(data_test['Age'])):\n",
    "    if data_test['Age'][i] > 90 or data_test['Age'][i] < 18:\n",
    "        NewAge.append(np.nan)\n",
    "    else:\n",
    "        NewAge.append(data_test['Age'][i])       \n",
    "data_test['Age'] = NewAge"
   ]
  },
  {
   "cell_type": "markdown",
   "id": "a3bedcd4",
   "metadata": {},
   "source": [
    "##### **Filling in the missing values caused by the omission**"
   ]
  },
  {
   "cell_type": "markdown",
   "id": "a2efd6bd",
   "metadata": {},
   "source": [
    "We are now going to fill in the missing values which appeared because of the previous omission. It is important to differ the type of missing values in this feature. Each customer has 8 entries in the dataset. These 8 entries are supposed to have the same Age value or +1 Age value in the forward entries, considering that he or she might have had a birthday during the data collection period (however, for practicality purpose, we will be assuming the same Age value in all 8 entries for one customer instead). Taking this into consideration, we can not immediately fill in all of the missing values with Age median +- standard deviation. We need to first try filling in the missing values with each customer's mode first.\n",
    "ممكن يكون فيه شخص مثلا في شهر 3 كان عنده 21 سنه و 11 شهر فيكون عمره في شهرة 4 22 وباقي الاماكن تكون 22 دي مش خطأ طالما العمر زايد بسنه واحده مفيش اي مشكله"
   ]
  },
  {
   "cell_type": "code",
   "execution_count": 87,
   "id": "06844a4f",
   "metadata": {},
   "outputs": [
    {
     "data": {
      "text/html": [
       "<div>\n",
       "<style scoped>\n",
       "    .dataframe tbody tr th:only-of-type {\n",
       "        vertical-align: middle;\n",
       "    }\n",
       "\n",
       "    .dataframe tbody tr th {\n",
       "        vertical-align: top;\n",
       "    }\n",
       "\n",
       "    .dataframe thead th {\n",
       "        text-align: right;\n",
       "    }\n",
       "</style>\n",
       "<table border=\"1\" class=\"dataframe\">\n",
       "  <thead>\n",
       "    <tr style=\"text-align: right;\">\n",
       "      <th></th>\n",
       "      <th>Age</th>\n",
       "    </tr>\n",
       "    <tr>\n",
       "      <th>Customer_ID</th>\n",
       "      <th></th>\n",
       "    </tr>\n",
       "  </thead>\n",
       "  <tbody>\n",
       "    <tr>\n",
       "      <th>CUS_0x1000</th>\n",
       "      <td>18.0</td>\n",
       "    </tr>\n",
       "    <tr>\n",
       "      <th>CUS_0x1009</th>\n",
       "      <td>26.0</td>\n",
       "    </tr>\n",
       "    <tr>\n",
       "      <th>CUS_0x100b</th>\n",
       "      <td>[18.0, 19.0]</td>\n",
       "    </tr>\n",
       "    <tr>\n",
       "      <th>CUS_0x1011</th>\n",
       "      <td>44.0</td>\n",
       "    </tr>\n",
       "    <tr>\n",
       "      <th>CUS_0x1013</th>\n",
       "      <td>44.0</td>\n",
       "    </tr>\n",
       "    <tr>\n",
       "      <th>...</th>\n",
       "      <td>...</td>\n",
       "    </tr>\n",
       "    <tr>\n",
       "      <th>CUS_0xff3</th>\n",
       "      <td>55.0</td>\n",
       "    </tr>\n",
       "    <tr>\n",
       "      <th>CUS_0xff4</th>\n",
       "      <td>37.0</td>\n",
       "    </tr>\n",
       "    <tr>\n",
       "      <th>CUS_0xff6</th>\n",
       "      <td>19.0</td>\n",
       "    </tr>\n",
       "    <tr>\n",
       "      <th>CUS_0xffc</th>\n",
       "      <td>18.0</td>\n",
       "    </tr>\n",
       "    <tr>\n",
       "      <th>CUS_0xffd</th>\n",
       "      <td>29.0</td>\n",
       "    </tr>\n",
       "  </tbody>\n",
       "</table>\n",
       "<p>12500 rows × 1 columns</p>\n",
       "</div>"
      ],
      "text/plain": [
       "                      Age\n",
       "Customer_ID              \n",
       "CUS_0x1000           18.0\n",
       "CUS_0x1009           26.0\n",
       "CUS_0x100b   [18.0, 19.0]\n",
       "CUS_0x1011           44.0\n",
       "CUS_0x1013           44.0\n",
       "...                   ...\n",
       "CUS_0xff3            55.0\n",
       "CUS_0xff4            37.0\n",
       "CUS_0xff6            19.0\n",
       "CUS_0xffc            18.0\n",
       "CUS_0xffd            29.0\n",
       "\n",
       "[12500 rows x 1 columns]"
      ]
     },
     "execution_count": 87,
     "metadata": {},
     "output_type": "execute_result"
    }
   ],
   "source": [
    "# creating Age lookup table, aggregated by customer ID\n",
    "\n",
    "# creating the dataframe containing Customer_ID and Age\n",
    "TrainAgeLookup = data_train[['Customer_ID', 'Age']]\n",
    "TestAgeLookup = data_test[['Customer_ID', 'Age']]\n",
    "\n",
    "# returning the Age mode of each customer\n",
    "TrainAgeLookup = TrainAgeLookup.groupby('Customer_ID').agg(pd.Series.mode)\n",
    "TestAgeLookup = TestAgeLookup.groupby('Customer_ID').agg(pd.Series.mode)\n",
    "TrainAgeLookup\n",
    "\n"
   ]
  },
  {
   "cell_type": "code",
   "execution_count": 88,
   "id": "845f4012",
   "metadata": {},
   "outputs": [
    {
     "data": {
      "text/plain": [
       "31.0            2888\n",
       "28.0            2840\n",
       "38.0            2808\n",
       "25.0            2800\n",
       "26.0            2800\n",
       "                ... \n",
       "[30.0, 31.0]       8\n",
       "[]                 8\n",
       "[33.0, 34.0]       8\n",
       "[]                 8\n",
       "[]                 8\n",
       "Name: Age, Length: 1552, dtype: int64"
      ]
     },
     "execution_count": 88,
     "metadata": {},
     "output_type": "execute_result"
    }
   ],
   "source": [
    "# replacing the Age value of each customer with each one's Mode\n",
    "data_train['Age'] = data_train['Customer_ID'].map(TrainAgeLookup['Age'])\n",
    "data_test['Age'] = data_test['Customer_ID'].map(TestAgeLookup['Age'])\n",
    "#Checking Replacing Values\n",
    "data_train['Age'].value_counts()"
   ]
  },
  {
   "cell_type": "markdown",
   "id": "cb3f5d27",
   "metadata": {},
   "source": [
    "With this replacement method, it is possible to generate Age value in type of a list for some customers. This is due to the possibility of those customers having two or three Age values which each has the same amount of occurence in their entries. We are going to eliminate these list values by using the first members of the lists instead."
   ]
  },
  {
   "cell_type": "markdown",
   "id": "083950b0",
   "metadata": {},
   "source": [
    "##### **Eliminating any generated array-type value**"
   ]
  },
  {
   "cell_type": "markdown",
   "id": "aec64540",
   "metadata": {},
   "source": [
    "Now, we are going to eliminate any array-type value generated by the method by using only the first member of the array value."
   ]
  },
  {
   "cell_type": "code",
   "execution_count": 89,
   "id": "37e07691",
   "metadata": {},
   "outputs": [
    {
     "data": {
      "text/plain": [
       "31.0    3048\n",
       "38.0    3048\n",
       "27.0    3024\n",
       "26.0    3016\n",
       "39.0    3016\n",
       "28.0    3000\n",
       "25.0    2992\n",
       "34.0    2968\n",
       "36.0    2968\n",
       "44.0    2960\n",
       "22.0    2952\n",
       "32.0    2944\n",
       "35.0    2880\n",
       "37.0    2864\n",
       "20.0    2856\n",
       "30.0    2856\n",
       "19.0    2832\n",
       "29.0    2816\n",
       "41.0    2792\n",
       "43.0    2784\n",
       "23.0    2760\n",
       "21.0    2752\n",
       "18.0    2720\n",
       "45.0    2688\n",
       "24.0    2680\n",
       "40.0    2680\n",
       "42.0    2672\n",
       "33.0    2560\n",
       "46.0    1696\n",
       "55.0    1448\n",
       "48.0    1440\n",
       "53.0    1440\n",
       "49.0    1400\n",
       "52.0    1384\n",
       "54.0    1336\n",
       "50.0    1328\n",
       "51.0    1296\n",
       "47.0    1240\n",
       "56.0     360\n",
       "Name: Age, dtype: int64"
      ]
     },
     "metadata": {},
     "output_type": "display_data"
    }
   ],
   "source": [
    "# Train dataframe\n",
    "NewAge = []\n",
    "for i in range(len(data_train['Age'])):\n",
    "    # for float type members\n",
    "    if type(data_train['Age'][i]) == np.float64:\n",
    "        NewAge.append(data_train['Age'][i])\n",
    "    # for empty list members\n",
    "    elif type(data_train['Age'][i]) == np.ndarray and len(data_train['Age'][i]) == 0:\n",
    "        NewAge.append(np.nan)\n",
    "    # for non-empty list members\n",
    "    elif type(data_train['Age'][i]) == np.ndarray and len(data_train['Age'][i]) != 0:\n",
    "        NewAge.append(data_train['Age'][i][1])\n",
    "data_train['Age'] = NewAge\n",
    "\n",
    "# Test dataframe\n",
    "NewAge = []\n",
    "for i in range(len(data_test['Age'])):\n",
    "    # for float type members\n",
    "    if type(data_test['Age'][i]) == np.float64:\n",
    "        NewAge.append(data_test['Age'][i])\n",
    "    # for empty list members\n",
    "    elif type(data_test['Age'][i]) == np.ndarray and len(data_test['Age'][i]) == 0:\n",
    "        NewAge.append(np.nan)\n",
    "    # for non-empty list members\n",
    "    elif type(data_test['Age'][i]) == np.ndarray and len(data_test['Age'][i]) != 0:\n",
    "        NewAge.append(data_test['Age'][i][1])\n",
    "data_test['Age'] = NewAge\n",
    "#Checking\n",
    "display(data_train['Age'].value_counts())\n",
    "#Reconverting to float\n",
    "data_train['Age']=data_train['Age'].astype('float64')\n",
    "data_test['Age']=data_test['Age'].astype('float64')"
   ]
  },
  {
   "cell_type": "code",
   "execution_count": 90,
   "id": "a5676ac3",
   "metadata": {},
   "outputs": [
    {
     "name": "stdout",
     "output_type": "stream",
     "text": [
      "Remaining Age missing values (Train): 5504\n",
      "Remaining Age missing values (Test) : 2484\n"
     ]
    }
   ],
   "source": [
    "# rechecking the missing values in Age feature\n",
    "remaining = data_train['Age'].isnull().sum()\n",
    "print('Remaining Age missing values (Train):', remaining)\n",
    "remaining = data_test['Age'].isnull().sum()\n",
    "print('Remaining Age missing values (Test) :', remaining)"
   ]
  },
  {
   "cell_type": "markdown",
   "id": "3308a698",
   "metadata": {},
   "source": [
    "There are still 5504 missing values in Train dataframe's Age feature and 2484 missing values in Test dataframe's Age feature. We are now going to fill in these remaining missing values."
   ]
  },
  {
   "cell_type": "markdown",
   "id": "d4a83d04",
   "metadata": {},
   "source": [
    "##### **Checking the data distribution after the previous process**"
   ]
  },
  {
   "cell_type": "markdown",
   "id": "45206ec7",
   "metadata": {},
   "source": [
    "For the remaining missing values present in the Age feature, we want to fill them in by referencing to a lookup table containing each ID's Age mean +- standard deviation. Before we calculate these parameters though, we need to make sure that the data distribution is distributed quite evenly, so that the parameters' values are not too off."
   ]
  },
  {
   "cell_type": "code",
   "execution_count": 91,
   "id": "c73f2710",
   "metadata": {},
   "outputs": [
    {
     "data": {
      "image/png": "[encoded data removed]",
      "text/plain": [
       "<Figure size 900x400 with 2 Axes>"
      ]
     },
     "metadata": {},
     "output_type": "display_data"
    }
   ],
   "source": [
    "# setting plot layout\n",
    "fig, axes = plt.subplots(1, 2, figsize = (9, 4))\n",
    "fig.tight_layout(pad = 5)\n",
    "\n",
    "# creating histogram plots\n",
    "axes[0].hist(data_train['Age'],\n",
    "             color = 'lightblue')\n",
    "###########################\n",
    "axes[1].hist(data_test['Age'],\n",
    "             color = 'lightgreen')\n",
    "\n",
    "# setting plot information\n",
    "axes[0].set_title('Train Dataframe')\n",
    "axes[0].set_xlabel('Age')\n",
    "axes[0].set_ylabel('Count')\n",
    "#########################\n",
    "axes[1].set_xlabel('Age')\n",
    "axes[1].set_ylabel('Count')\n",
    "axes[1].set_title('Test Dataframe')\n",
    "plt.show()"
   ]
  },
  {
   "cell_type": "markdown",
   "id": "95560713",
   "metadata": {},
   "source": [
    "The distribution looks good, that is the data is distributed pretty evenly. We then can fill in these remaining missing values with the mean +- standard deviation imputation."
   ]
  },
  {
   "cell_type": "code",
   "execution_count": 92,
   "id": "a6daa1f5",
   "metadata": {},
   "outputs": [
    {
     "data": {
      "text/html": [
       "<div>\n",
       "<style scoped>\n",
       "    .dataframe tbody tr th:only-of-type {\n",
       "        vertical-align: middle;\n",
       "    }\n",
       "\n",
       "    .dataframe tbody tr th {\n",
       "        vertical-align: top;\n",
       "    }\n",
       "\n",
       "    .dataframe thead th {\n",
       "        text-align: right;\n",
       "    }\n",
       "</style>\n",
       "<table border=\"1\" class=\"dataframe\">\n",
       "  <thead>\n",
       "    <tr style=\"text-align: right;\">\n",
       "      <th></th>\n",
       "      <th>Customer_ID</th>\n",
       "      <th>Age</th>\n",
       "    </tr>\n",
       "  </thead>\n",
       "  <tbody>\n",
       "    <tr>\n",
       "      <th>0</th>\n",
       "      <td>CUS_0x4080</td>\n",
       "      <td>36.0</td>\n",
       "    </tr>\n",
       "    <tr>\n",
       "      <th>1</th>\n",
       "      <td>CUS_0x8e9b</td>\n",
       "      <td>37.0</td>\n",
       "    </tr>\n",
       "    <tr>\n",
       "      <th>2</th>\n",
       "      <td>CUS_0xb986</td>\n",
       "      <td>39.0</td>\n",
       "    </tr>\n",
       "    <tr>\n",
       "      <th>3</th>\n",
       "      <td>CUS_0x47db</td>\n",
       "      <td>38.0</td>\n",
       "    </tr>\n",
       "    <tr>\n",
       "      <th>4</th>\n",
       "      <td>CUS_0x36ab</td>\n",
       "      <td>24.0</td>\n",
       "    </tr>\n",
       "  </tbody>\n",
       "</table>\n",
       "</div>"
      ],
      "text/plain": [
       "  Customer_ID   Age\n",
       "0  CUS_0x4080  36.0\n",
       "1  CUS_0x8e9b  37.0\n",
       "2  CUS_0xb986  39.0\n",
       "3  CUS_0x47db  38.0\n",
       "4  CUS_0x36ab  24.0"
      ]
     },
     "metadata": {},
     "output_type": "display_data"
    },
    {
     "name": "stdout",
     "output_type": "stream",
     "text": [
      " TrainLookup Rows , cols : (688, 2) \n",
      " TestLookup Rows , cols  : (621, 2)\n"
     ]
    }
   ],
   "source": [
    "# preparing the lookup table\n",
    "TrainTable = data_train[['Customer_ID', 'Age']]\n",
    "TestTable = data_test[['Customer_ID', 'Age']]\n",
    "\n",
    "# locating the ID with empty Age value in the newly created tables\n",
    "TrainID=TrainTable.loc[TrainTable['Age'].isnull(),'Customer_ID']\n",
    "TestID=TestTable.loc[TestTable['Age'].isnull(),'Customer_ID']\n",
    "TrainTable\n",
    "\n",
    "# getting only the unique Customer_ID\n",
    "TrainID = list(TrainID.unique())\n",
    "TestID = list(TestID.unique())\n",
    "\n",
    "# creating empty features to store Age values later\n",
    "TrainAge = []\n",
    "for i in range(len(TrainID)):\n",
    "    TrainAge.append(np.nan)\n",
    "TestAge = []\n",
    "for i in range(len(TestID)):\n",
    "    TestAge.append(np.nan)\n",
    "    \n",
    "# creating the Age lookup table\n",
    "TrainLookup = pd.DataFrame(list(zip(TrainID, TrainAge)))\n",
    "TrainLookup.columns = ['Customer_ID', 'Age']\n",
    "TestLookup = pd.DataFrame(list(zip(TestID, TestAge)))\n",
    "TestLookup.columns = ['Customer_ID', 'Age']\n",
    "TestLookup\n",
    "\n",
    "# calculating the mean value of Age feature\n",
    "Train_Mean = data_train['Age'].mean()\n",
    "Test_Mean = data_test['Age'].mean()\n",
    "\n",
    "# calculating the standard deviation value of Age feature\n",
    "Train_Std = data_train['Age'].std()\n",
    "Test_Std = data_test['Age'].std()\n",
    "\n",
    "# generating the Age value for the lookup table\n",
    "TrainLookup['Age']=TrainLookup['Age'].fillna(pd.Series(\n",
    "    np.random.randint(int(Train_Mean - Train_Std),\n",
    "                     int(Train_Mean + Train_Std) ,\n",
    "                     size=TrainLookup['Age'].isnull().sum())))\n",
    "\n",
    "TrainLookup\n",
    "\n",
    "TestLookup['Age']=TestLookup['Age'].fillna(pd.Series(\n",
    "    np.random.randint(int(Test_Mean - Test_Std),\n",
    "                     int(Test_Mean + Test_Std) ,\n",
    "                     size=TestLookup['Age'].isnull().sum())))\n",
    "\n",
    "# taking a look at the lookup table\n",
    "display(TestLookup.head())\n",
    "print(' TrainLookup Rows , cols :', TrainLookup.shape, '\\n',\n",
    "      'TestLookup Rows , cols  :', TestLookup.shape)\n",
    "\n",
    "\n"
   ]
  },
  {
   "cell_type": "code",
   "execution_count": 93,
   "id": "349c0d87",
   "metadata": {},
   "outputs": [
    {
     "data": {
      "text/plain": [
       "0"
      ]
     },
     "metadata": {},
     "output_type": "display_data"
    },
    {
     "data": {
      "text/plain": [
       "0"
      ]
     },
     "metadata": {},
     "output_type": "display_data"
    }
   ],
   "source": [
    "# filling in the missing Age values in reference to the Age lookup table\n",
    "data_train['Age']=data_train['Age'].fillna(data_train['Customer_ID'].map(TrainLookup.set_index('Customer_ID')['Age']))\n",
    "\n",
    "data_test['Age']=data_test['Age'].fillna(data_test['Customer_ID'].map(TestLookup.set_index('Customer_ID')['Age']))\n",
    "\n",
    "\n",
    "# Checking if there are still missing Age values\n",
    "display(data_train['Age'].isnull().sum())\n",
    "display(data_test['Age'].isnull().sum())"
   ]
  },
  {
   "cell_type": "markdown",
   "id": "deeaa7b3",
   "metadata": {},
   "source": [
    "### **VIIb. Numerical Feature: Annual_ Income**<a class = \"anchor\" id = \"VIIb\"></a>"
   ]
  },
  {
   "cell_type": "markdown",
   "id": "34471347",
   "metadata": {},
   "source": [
    "By looking at the previous histogram, there exists some outliers in the Annual_Income feature as well, with upper outliers the most obvious. Luckily, there are no missing values. Let's deal with the outliers first."
   ]
  },
  {
   "cell_type": "code",
   "execution_count": 94,
   "id": "9d51d0c1",
   "metadata": {},
   "outputs": [
    {
     "name": "stdout",
     "output_type": "stream",
     "text": [
      "Outlier count in Annual_Income : 2783\n",
      "Outlier count in Annual_Income : 1390\n"
     ]
    }
   ],
   "source": [
    "# counting the outliers in Annual_Income\n",
    "countoutlier(data_train, 'Annual_Income')\n",
    "countoutlier(data_test, 'Annual_Income')"
   ]
  },
  {
   "cell_type": "code",
   "execution_count": 95,
   "id": "aa9afd43",
   "metadata": {},
   "outputs": [
    {
     "name": "stdout",
     "output_type": "stream",
     "text": [
      "\n",
      "\n",
      "Annual_Income data boxplot after dropping the outliers : \n"
     ]
    },
    {
     "data": {
      "image/png": "[encoded data removed]",
      "text/plain": [
       "<Figure size 640x480 with 1 Axes>"
      ]
     },
     "metadata": {},
     "output_type": "display_data"
    }
   ],
   "source": [
    "# dropping the outliers in Train dataframe's Annual_Income\n",
    "omitoutlier(data_train, 'Annual_Income')"
   ]
  },
  {
   "cell_type": "code",
   "execution_count": 96,
   "id": "6af9ab00",
   "metadata": {},
   "outputs": [
    {
     "name": "stdout",
     "output_type": "stream",
     "text": [
      "\n",
      "\n",
      "Annual_Income data boxplot after dropping the outliers : \n"
     ]
    },
    {
     "data": {
      "image/png": "[encoded data removed]",
      "text/plain": [
       "<Figure size 640x480 with 1 Axes>"
      ]
     },
     "metadata": {},
     "output_type": "display_data"
    }
   ],
   "source": [
    "# dropping the outliers in Test dataframe's Annual_Income\n",
    "omitoutlier(data_test, 'Annual_Income')"
   ]
  },
  {
   "cell_type": "markdown",
   "id": "f9881bdf",
   "metadata": {},
   "source": [
    "The Annual_Income have 8 values per customer should share a same value, since the data collection only spans over a period of eight months. This is based on the assumption that each customer did not change occupation during the data collection period. For practicality purpose, the eight Annual_Income values per customer will share a same value."
   ]
  },
  {
   "cell_type": "markdown",
   "id": "a17eac28",
   "metadata": {},
   "source": [
    "The data cleaning operation for this feature is basically the same as the previous Age feature"
   ]
  },
  {
   "cell_type": "code",
   "execution_count": 97,
   "id": "433271fd",
   "metadata": {},
   "outputs": [
    {
     "data": {
      "text/plain": [
       "2783"
      ]
     },
     "execution_count": 97,
     "metadata": {},
     "output_type": "execute_result"
    }
   ],
   "source": [
    "data_train['Annual_Income'].isnull().sum()"
   ]
  },
  {
   "cell_type": "code",
   "execution_count": 98,
   "id": "31146cbe",
   "metadata": {},
   "outputs": [
    {
     "data": {
      "text/html": [
       "<div>\n",
       "<style scoped>\n",
       "    .dataframe tbody tr th:only-of-type {\n",
       "        vertical-align: middle;\n",
       "    }\n",
       "\n",
       "    .dataframe tbody tr th {\n",
       "        vertical-align: top;\n",
       "    }\n",
       "\n",
       "    .dataframe thead th {\n",
       "        text-align: right;\n",
       "    }\n",
       "</style>\n",
       "<table border=\"1\" class=\"dataframe\">\n",
       "  <thead>\n",
       "    <tr style=\"text-align: right;\">\n",
       "      <th></th>\n",
       "      <th>Customer_ID</th>\n",
       "      <th>Annual_Income</th>\n",
       "    </tr>\n",
       "  </thead>\n",
       "  <tbody>\n",
       "    <tr>\n",
       "      <th>0</th>\n",
       "      <td>CUS_0xb891</td>\n",
       "      <td>54970.0</td>\n",
       "    </tr>\n",
       "    <tr>\n",
       "      <th>1</th>\n",
       "      <td>CUS_0xb5ff</td>\n",
       "      <td>61587.0</td>\n",
       "    </tr>\n",
       "    <tr>\n",
       "      <th>2</th>\n",
       "      <td>CUS_0x384c</td>\n",
       "      <td>49509.0</td>\n",
       "    </tr>\n",
       "    <tr>\n",
       "      <th>3</th>\n",
       "      <td>CUS_0x6794</td>\n",
       "      <td>78971.0</td>\n",
       "    </tr>\n",
       "    <tr>\n",
       "      <th>4</th>\n",
       "      <td>CUS_0x9c67</td>\n",
       "      <td>74407.0</td>\n",
       "    </tr>\n",
       "  </tbody>\n",
       "</table>\n",
       "</div>"
      ],
      "text/plain": [
       "  Customer_ID  Annual_Income\n",
       "0  CUS_0xb891        54970.0\n",
       "1  CUS_0xb5ff        61587.0\n",
       "2  CUS_0x384c        49509.0\n",
       "3  CUS_0x6794        78971.0\n",
       "4  CUS_0x9c67        74407.0"
      ]
     },
     "metadata": {},
     "output_type": "display_data"
    },
    {
     "name": "stdout",
     "output_type": "stream",
     "text": [
      " TrainLookup Rows , cols : (1174, 2) \n",
      " TestLookup Rows , cols  : (708, 2)\n"
     ]
    }
   ],
   "source": [
    "# preparing the lookup table\n",
    "TrainTable = data_train[['Customer_ID', 'Annual_Income']]\n",
    "TestTable = data_test[['Customer_ID', 'Annual_Income']]\n",
    "\n",
    "# locating the ID with empty Age value in the newly created tables\n",
    "TrainID=TrainTable.loc[TrainTable['Annual_Income'].isnull(),'Customer_ID']\n",
    "TestID=TestTable.loc[TestTable['Annual_Income'].isnull(),'Customer_ID']\n",
    "TrainTable\n",
    "\n",
    "# getting only the unique Customer_ID\n",
    "TrainID = list(TrainID.unique())\n",
    "TestID = list(TestID.unique())\n",
    "\n",
    "# creating empty features to store Age values later\n",
    "TrainAge = []\n",
    "for i in range(len(TrainID)):\n",
    "    TrainAge.append(np.nan)\n",
    "TestAge = []\n",
    "for i in range(len(TestID)):\n",
    "    TestAge.append(np.nan)\n",
    "    \n",
    "# creating the Age lookup table\n",
    "TrainLookup = pd.DataFrame(list(zip(TrainID, TrainAge)))\n",
    "TrainLookup.columns = ['Customer_ID', 'Annual_Income']\n",
    "TestLookup = pd.DataFrame(list(zip(TestID, TestAge)))\n",
    "TestLookup.columns = ['Customer_ID', 'Annual_Income']\n",
    "TestLookup\n",
    "\n",
    "# calculating the mean value of Age feature\n",
    "Train_Mean = data_train['Annual_Income'].mean()\n",
    "Test_Mean = data_test['Annual_Income'].mean()\n",
    "\n",
    "# calculating the standard deviation value of Age feature\n",
    "Train_Std = data_train['Annual_Income'].std()\n",
    "Test_Std = data_test['Annual_Income'].std()\n",
    "\n",
    "# generating the Age value for the lookup table\n",
    "TrainLookup['Annual_Income']=TrainLookup['Annual_Income'].fillna(pd.Series(\n",
    "    np.random.randint(int(Train_Mean - Train_Std),\n",
    "                     int(Train_Mean + Train_Std) ,\n",
    "                     size=TrainLookup['Annual_Income'].isnull().sum())))\n",
    "\n",
    "TrainLookup\n",
    "\n",
    "TestLookup['Annual_Income']=TestLookup['Annual_Income'].fillna(pd.Series(\n",
    "    np.random.randint(int(Test_Mean - Test_Std),\n",
    "                     int(Test_Mean + Test_Std) ,\n",
    "                     size=TestLookup['Annual_Income'].isnull().sum())))\n",
    "\n",
    "# taking a look at the lookup table\n",
    "display(TestLookup.head())\n",
    "print(' TrainLookup Rows , cols :', TrainLookup.shape, '\\n',\n",
    "      'TestLookup Rows , cols  :', TestLookup.shape)\n",
    "\n",
    "\n"
   ]
  },
  {
   "cell_type": "code",
   "execution_count": 99,
   "id": "88669b5d",
   "metadata": {},
   "outputs": [],
   "source": [
    "#Filling nan entries\n",
    "data_train['Annual_Income']=data_train['Annual_Income'].fillna(data_train['Customer_ID'].map(TrainLookup.set_index('Customer_ID')['Annual_Income']))\n",
    "data_test['Annual_Income']=data_test['Annual_Income'].fillna(data_test['Customer_ID'].map(TestLookup.set_index('Customer_ID')['Annual_Income']))"
   ]
  },
  {
   "cell_type": "code",
   "execution_count": 100,
   "id": "fefd55c0",
   "metadata": {},
   "outputs": [
    {
     "data": {
      "text/plain": [
       "count    100000.000000\n",
       "mean      48345.427217\n",
       "std       34818.049089\n",
       "min        7005.930000\n",
       "25%       19369.960000\n",
       "50%       36780.030000\n",
       "75%       69563.340000\n",
       "max      152574.760000\n",
       "Name: Annual_Income, dtype: float64"
      ]
     },
     "execution_count": 100,
     "metadata": {},
     "output_type": "execute_result"
    }
   ],
   "source": [
    "data_train['Annual_Income'].describe()"
   ]
  },
  {
   "cell_type": "code",
   "execution_count": 101,
   "id": "6c0739c4",
   "metadata": {},
   "outputs": [
    {
     "data": {
      "text/plain": [
       "count     50000.000000\n",
       "mean      48335.389852\n",
       "std       34835.250724\n",
       "min        7005.930000\n",
       "25%       19338.105000\n",
       "50%       36754.340000\n",
       "75%       69557.680000\n",
       "max      152796.760000\n",
       "Name: Annual_Income, dtype: float64"
      ]
     },
     "execution_count": 101,
     "metadata": {},
     "output_type": "execute_result"
    }
   ],
   "source": [
    "data_test['Annual_Income'].describe()"
   ]
  },
  {
   "cell_type": "code",
   "execution_count": 102,
   "id": "2dadc2a1",
   "metadata": {},
   "outputs": [
    {
     "data": {
      "image/png": "[encoded data removed]",
      "text/plain": [
       "<Figure size 900x400 with 2 Axes>"
      ]
     },
     "metadata": {},
     "output_type": "display_data"
    }
   ],
   "source": [
    "# setting plot layout\n",
    "fig, axes = plt.subplots(1, 2, figsize = (9, 4))\n",
    "fig.tight_layout(pad = 5)\n",
    "\n",
    "# creating histogram plots\n",
    "axes[0].hist(data_train['Annual_Income'],\n",
    "             color = 'lightblue')\n",
    "###########################\n",
    "axes[1].hist(data_test['Annual_Income'],\n",
    "             color = 'lightgreen')\n",
    "\n",
    "# setting plot information\n",
    "axes[0].set_title('Train Dataframe')\n",
    "axes[0].set_xlabel('Annual_Income')\n",
    "axes[0].set_ylabel('Count')\n",
    "#########################\n",
    "axes[1].set_xlabel('Annual_Income')\n",
    "axes[1].set_ylabel('Count')\n",
    "axes[1].set_title('Test Dataframe')\n",
    "plt.show()"
   ]
  },
  {
   "cell_type": "markdown",
   "id": "f75e99fb",
   "metadata": {},
   "source": [
    "### **VIIc. Numerical Feature: Monthly_Inhand_Salary**<a class = \"anchor\" id = \"VIIc\"></a>"
   ]
  },
  {
   "cell_type": "markdown",
   "id": "2c60bfba",
   "metadata": {},
   "source": [
    "By looking at the previous histogram, there does not seem to exist notable outliers. However, there are some missing values that need to be dealt with. Considering that the Monthly_Inhand_Salary values per customer should share a same value, we will be dealing with this feature using the defined lookupreplacement and aggregatedfillna functions."
   ]
  },
  {
   "cell_type": "code",
   "execution_count": 103,
   "id": "947bb66d",
   "metadata": {},
   "outputs": [
    {
     "data": {
      "text/plain": [
       "15002"
      ]
     },
     "metadata": {},
     "output_type": "display_data"
    },
    {
     "data": {
      "text/plain": [
       "7498"
      ]
     },
     "metadata": {},
     "output_type": "display_data"
    }
   ],
   "source": [
    "#Check null entries\n",
    "display(data_train['Monthly_Inhand_Salary'].isnull().sum())\n",
    "display(data_test['Monthly_Inhand_Salary'].isnull().sum())"
   ]
  },
  {
   "cell_type": "markdown",
   "id": "a6658f7c",
   "metadata": {},
   "source": [
    "We should have 8 entries have the same values for each customer ,\n",
    "it is possible one or more customer his/her salary may be increasd in any month that's okay not a problem"
   ]
  },
  {
   "cell_type": "code",
   "execution_count": 104,
   "id": "5afc0fc4",
   "metadata": {},
   "outputs": [
    {
     "data": {
      "text/plain": [
       "13235"
      ]
     },
     "metadata": {},
     "output_type": "display_data"
    },
    {
     "data": {
      "text/plain": [
       "12793"
      ]
     },
     "metadata": {},
     "output_type": "display_data"
    }
   ],
   "source": [
    "#Check unique values (should be 12500 we have 12500 customer) may be founded one or more customer\n",
    "#have the same Salary \n",
    "display(data_train['Monthly_Inhand_Salary'].nunique())\n",
    "display(data_test['Monthly_Inhand_Salary'].nunique())"
   ]
  },
  {
   "cell_type": "code",
   "execution_count": 105,
   "id": "ce193452",
   "metadata": {},
   "outputs": [
    {
     "data": {
      "text/plain": [
       "0    1824.843333\n",
       "1            NaN\n",
       "2            NaN\n",
       "3            NaN\n",
       "4    1824.843333\n",
       "5            NaN\n",
       "6    1824.843333\n",
       "7    1824.843333\n",
       "Name: Monthly_Inhand_Salary, dtype: float64"
      ]
     },
     "metadata": {},
     "output_type": "display_data"
    },
    {
     "name": "stdout",
     "output_type": "stream",
     "text": [
      "********************\n"
     ]
    },
    {
     "data": {
      "text/plain": [
       "0    1824.843333\n",
       "1    1824.843333\n",
       "2    1824.843333\n",
       "3            NaN\n",
       "Name: Monthly_Inhand_Salary, dtype: float64"
      ]
     },
     "metadata": {},
     "output_type": "display_data"
    }
   ],
   "source": [
    "display(data_train['Monthly_Inhand_Salary'].head(8))\n",
    "print('*'*20)\n",
    "display(data_test['Monthly_Inhand_Salary'].head(4))"
   ]
  },
  {
   "cell_type": "code",
   "execution_count": 106,
   "id": "6c660385",
   "metadata": {},
   "outputs": [
    {
     "name": "stdout",
     "output_type": "stream",
     "text": [
      " Train dataframe :\n",
      "Remaining Monthly_Inhand_Salary missing values : 0\n",
      "\n",
      " Test dataframe :\n",
      "Remaining Monthly_Inhand_Salary missing values : 28\n"
     ]
    }
   ],
   "source": [
    "# replacing the Monthly_Inhand_Salary value of each customer using each customer's Monthly_Inhand_Salary Mode\n",
    "'''\n",
    "This Function Make replacing for the null entries but if it \n",
    "founded [] this will return null values then we should make aggregatedfillna \n",
    "'''\n",
    "print(' Train dataframe :')\n",
    "lookupreplacement(data_train, 'Customer_ID', 'Monthly_Inhand_Salary')\n",
    "print('\\n',\n",
    "      'Test dataframe :')\n",
    "lookupreplacement(data_test, 'Customer_ID', 'Monthly_Inhand_Salary')"
   ]
  },
  {
   "cell_type": "code",
   "execution_count": 107,
   "id": "dee707ca",
   "metadata": {},
   "outputs": [
    {
     "name": "stdout",
     "output_type": "stream",
     "text": [
      "Remaining Monthly_Inhand_Salary missing values : 0\n"
     ]
    }
   ],
   "source": [
    "# filling in the remaining Annual_Income missing values\n",
    "aggregatedfillna(data_test, 'Customer_ID', 'Monthly_Inhand_Salary')"
   ]
  },
  {
   "cell_type": "code",
   "execution_count": 108,
   "id": "3d7be2c9",
   "metadata": {},
   "outputs": [
    {
     "data": {
      "text/plain": [
       "12489"
      ]
     },
     "metadata": {},
     "output_type": "display_data"
    },
    {
     "data": {
      "text/plain": [
       "12490"
      ]
     },
     "metadata": {},
     "output_type": "display_data"
    }
   ],
   "source": [
    "#Check if the fill is True or False\n",
    "display(data_train['Monthly_Inhand_Salary'].nunique())\n",
    "display(data_test['Monthly_Inhand_Salary'].nunique())"
   ]
  },
  {
   "cell_type": "markdown",
   "id": "71c94390",
   "metadata": {},
   "source": [
    "This a good indicator because it is expected to get 12500 but there are a little customers\n",
    "have the same salary this is not a problem"
   ]
  },
  {
   "cell_type": "markdown",
   "id": "eb7237c3",
   "metadata": {},
   "source": [
    "### **VIId. Numerical Feature: Num_Bank_Accounts**<a class = \"anchor\" id = \"VIId\"></a>"
   ]
  },
  {
   "cell_type": "markdown",
   "id": "282459a6",
   "metadata": {},
   "source": [
    "By looking at the previous histogram, there exists some outliers in the Num_Bank_Accounts feature, with upper outliers the most obvious. Luckily, there are no missing values. Let's deal with the outliers first."
   ]
  },
  {
   "cell_type": "code",
   "execution_count": 109,
   "id": "2c88bda4",
   "metadata": {},
   "outputs": [
    {
     "name": "stdout",
     "output_type": "stream",
     "text": [
      " Train dataframe :\n",
      "Outlier count in Num_Bank_Accounts : 1315\n",
      "\n",
      " Test dataframe :\n",
      "Outlier count in Num_Bank_Accounts : 635\n"
     ]
    }
   ],
   "source": [
    "# counting the outliers in Num_Bank_Accounts\n",
    "print(' Train dataframe :')\n",
    "countoutlier(data_train, 'Num_Bank_Accounts')\n",
    "print('\\n',\n",
    "      'Test dataframe :')\n",
    "countoutlier(data_test, 'Num_Bank_Accounts')"
   ]
  },
  {
   "cell_type": "code",
   "execution_count": 110,
   "id": "f3520148",
   "metadata": {},
   "outputs": [
    {
     "name": "stdout",
     "output_type": "stream",
     "text": [
      "\n",
      "\n",
      "Num_Bank_Accounts data boxplot after dropping the outliers : \n"
     ]
    },
    {
     "data": {
      "image/png": "[encoded data removed]",
      "text/plain": [
       "<Figure size 640x480 with 1 Axes>"
      ]
     },
     "metadata": {},
     "output_type": "display_data"
    }
   ],
   "source": [
    "# dropping the outliers in Train dataframe's Num_Bank_Accounts\n",
    "omitoutlier(data_train, 'Num_Bank_Accounts')"
   ]
  },
  {
   "cell_type": "code",
   "execution_count": 111,
   "id": "62fb6401",
   "metadata": {},
   "outputs": [
    {
     "name": "stdout",
     "output_type": "stream",
     "text": [
      "\n",
      "\n",
      "Num_Bank_Accounts data boxplot after dropping the outliers : \n"
     ]
    },
    {
     "data": {
      "image/png": "[encoded data removed]",
      "text/plain": [
       "<Figure size 640x480 with 1 Axes>"
      ]
     },
     "metadata": {},
     "output_type": "display_data"
    }
   ],
   "source": [
    "# dropping the outliers in Test dataframe's Num_Bank_Accounts\n",
    "omitoutlier(data_test, 'Num_Bank_Accounts')"
   ]
  },
  {
   "cell_type": "markdown",
   "id": "cf6adbcf",
   "metadata": {},
   "source": [
    "The data distribution looks nice. Since the Num_Bank_Accounts values per customer share a same value, we will be dealing with this feature using the defined lookupreplacement and aggregatedfillna functions."
   ]
  },
  {
   "cell_type": "code",
   "execution_count": 112,
   "id": "375326f5",
   "metadata": {},
   "outputs": [
    {
     "name": "stdout",
     "output_type": "stream",
     "text": [
      "Train dataframe :\n",
      "Remaining Num_Bank_Accounts missing values : 0\n",
      "\n",
      " Test dataframe :\n",
      "Remaining Num_Bank_Accounts missing values : 0\n"
     ]
    }
   ],
   "source": [
    "# replacing the Num_Bank_Accounts value of each customer using each customer's Num_Bank_Accounts Mode\n",
    "print('Train dataframe :')\n",
    "lookupreplacement(data_train, 'Customer_ID', 'Num_Bank_Accounts')\n",
    "print('\\n',\n",
    "      'Test dataframe :')\n",
    "lookupreplacement(data_test, 'Customer_ID', 'Num_Bank_Accounts')"
   ]
  },
  {
   "cell_type": "markdown",
   "id": "2c2a7123",
   "metadata": {},
   "source": [
    "There are no remaining missing values after the lookupreplacement operation we don't use the agg function, so we will proceed with the next numerical feature."
   ]
  },
  {
   "cell_type": "markdown",
   "id": "c7678986",
   "metadata": {},
   "source": [
    "### **VIIe. Numerical Feature: Num_Credit_Card**<a class = \"anchor\" id = \"VIIe\"></a>"
   ]
  },
  {
   "cell_type": "markdown",
   "id": "55d916fd",
   "metadata": {},
   "source": [
    "By looking at the previous histogram, there exists some outliers in the Num_Credit_Card feature, with upper outliers the most obvious. Luckily, there are no missing values. Let's deal with the outliers first."
   ]
  },
  {
   "cell_type": "code",
   "execution_count": 113,
   "id": "b4056d8b",
   "metadata": {},
   "outputs": [
    {
     "name": "stdout",
     "output_type": "stream",
     "text": [
      " Train dataframe :\n",
      "Outlier count in Num_Credit_Card : 2271\n",
      "\n",
      " Test dataframe :\n",
      "Outlier count in Num_Credit_Card : 1179\n"
     ]
    }
   ],
   "source": [
    "# counting the outliers in Num_Credit_Card\n",
    "print(' Train dataframe :')\n",
    "countoutlier(data_train, 'Num_Credit_Card')\n",
    "print('\\n',\n",
    "      'Test dataframe :')\n",
    "countoutlier(data_test, 'Num_Credit_Card')"
   ]
  },
  {
   "cell_type": "code",
   "execution_count": 114,
   "id": "b433f8dd",
   "metadata": {},
   "outputs": [
    {
     "name": "stdout",
     "output_type": "stream",
     "text": [
      "\n",
      "\n",
      "Num_Credit_Card data boxplot after dropping the outliers : \n"
     ]
    },
    {
     "data": {
      "image/png": "[encoded data removed]",
      "text/plain": [
       "<Figure size 640x480 with 1 Axes>"
      ]
     },
     "metadata": {},
     "output_type": "display_data"
    }
   ],
   "source": [
    "# dropping the outliers in Train dataframe's Num_Credit_Card\n",
    "omitoutlier(data_train, 'Num_Credit_Card')"
   ]
  },
  {
   "cell_type": "code",
   "execution_count": 115,
   "id": "b73bc197",
   "metadata": {},
   "outputs": [
    {
     "name": "stdout",
     "output_type": "stream",
     "text": [
      "\n",
      "\n",
      "Num_Credit_Card data boxplot after dropping the outliers : \n"
     ]
    },
    {
     "data": {
      "image/png": "[encoded data removed]",
      "text/plain": [
       "<Figure size 640x480 with 1 Axes>"
      ]
     },
     "metadata": {},
     "output_type": "display_data"
    }
   ],
   "source": [
    "# dropping the outliers in Test dataframe's Num_Credit_Card\n",
    "omitoutlier(data_test, 'Num_Credit_Card')"
   ]
  },
  {
   "cell_type": "markdown",
   "id": "6e3a46ca",
   "metadata": {},
   "source": [
    "The data distribution looks nice. Since the Num_Credit_Card values per customer share a same value, we will be dealing with this feature using the defined lookupreplacement and aggregatedfillna functions."
   ]
  },
  {
   "cell_type": "code",
   "execution_count": 116,
   "id": "60424b51",
   "metadata": {},
   "outputs": [
    {
     "name": "stdout",
     "output_type": "stream",
     "text": [
      "Train dataframe :\n",
      "Remaining Num_Credit_Card missing values : 0\n",
      "\n",
      " Test dataframe :\n",
      "Remaining Num_Credit_Card missing values : 0\n"
     ]
    }
   ],
   "source": [
    "# replacing the Num_Credit_Card value of each customer using each customer's Num_Credit_Card Mode\n",
    "print('Train dataframe :')\n",
    "lookupreplacement(data_train, 'Customer_ID', 'Num_Credit_Card')\n",
    "print('\\n',\n",
    "      'Test dataframe :')\n",
    "lookupreplacement(data_test, 'Customer_ID', 'Num_Credit_Card')"
   ]
  },
  {
   "cell_type": "markdown",
   "id": "e66579d5",
   "metadata": {},
   "source": [
    "There are no remaining missing values after the lookupreplacement operation we don't use the agg function, so we will proceed with the next numerical feature."
   ]
  },
  {
   "cell_type": "markdown",
   "id": "f090f164",
   "metadata": {},
   "source": [
    "### **VIIf. Numerical Feature: Interest_Rate**<a class = \"anchor\" id = \"VIIf\"></a>"
   ]
  },
  {
   "cell_type": "markdown",
   "id": "dda0f4e6",
   "metadata": {},
   "source": [
    "By looking at the previous histogram, there exists some outliers in the Interest_Rate feature, with upper outliers the most obvious. Luckily, there are no missing values. Let's deal with the outliers first."
   ]
  },
  {
   "cell_type": "code",
   "execution_count": 117,
   "id": "d6802eeb",
   "metadata": {},
   "outputs": [
    {
     "name": "stdout",
     "output_type": "stream",
     "text": [
      " Train dataframe :\n",
      "Outlier count in Interest_Rate : 2034\n",
      "\n",
      " Test dataframe :\n",
      "Outlier count in Interest_Rate : 966\n"
     ]
    }
   ],
   "source": [
    "# counting the outliers in Interest_Rate\n",
    "print(' Train dataframe :')\n",
    "countoutlier(data_train, 'Interest_Rate')\n",
    "print('\\n',\n",
    "      'Test dataframe :')\n",
    "countoutlier(data_test, 'Interest_Rate')"
   ]
  },
  {
   "cell_type": "code",
   "execution_count": 118,
   "id": "2a600f3c",
   "metadata": {},
   "outputs": [
    {
     "name": "stdout",
     "output_type": "stream",
     "text": [
      "\n",
      "\n",
      "Interest_Rate data boxplot after dropping the outliers : \n"
     ]
    },
    {
     "data": {
      "image/png": "[encoded data removed]",
      "text/plain": [
       "<Figure size 640x480 with 1 Axes>"
      ]
     },
     "metadata": {},
     "output_type": "display_data"
    }
   ],
   "source": [
    "# dropping the outliers in Train dataframe's Interest_Rate\n",
    "omitoutlier(data_train, 'Interest_Rate')"
   ]
  },
  {
   "cell_type": "code",
   "execution_count": 119,
   "id": "50734de3",
   "metadata": {},
   "outputs": [
    {
     "name": "stdout",
     "output_type": "stream",
     "text": [
      "\n",
      "\n",
      "Interest_Rate data boxplot after dropping the outliers : \n"
     ]
    },
    {
     "data": {
      "image/png": "[encoded data removed]",
      "text/plain": [
       "<Figure size 640x480 with 1 Axes>"
      ]
     },
     "metadata": {},
     "output_type": "display_data"
    }
   ],
   "source": [
    "# dropping the outliers in Test dataframe's Interest_Rate\n",
    "omitoutlier(data_test, 'Interest_Rate')"
   ]
  },
  {
   "cell_type": "markdown",
   "id": "a3b9c726",
   "metadata": {},
   "source": [
    "The data distribution looks nice. Since the Interest_Rate values per customer share a same value, we will be dealing with this feature using the defined lookupreplacement and aggregatedfillna functions."
   ]
  },
  {
   "cell_type": "code",
   "execution_count": 120,
   "id": "85cd1502",
   "metadata": {},
   "outputs": [
    {
     "name": "stdout",
     "output_type": "stream",
     "text": [
      "Train dataframe :\n",
      "Remaining Interest_Rate missing values : 0\n",
      "\n",
      " Test dataframe :\n",
      "Remaining Interest_Rate missing values : 0\n"
     ]
    }
   ],
   "source": [
    "# replacing the Interest_Rate value of each customer using each customer's Interest_Rate Mode\n",
    "print('Train dataframe :')\n",
    "lookupreplacement(data_train, 'Customer_ID', 'Interest_Rate')\n",
    "print('\\n',\n",
    "      'Test dataframe :')\n",
    "lookupreplacement(data_test, 'Customer_ID', 'Interest_Rate')"
   ]
  },
  {
   "cell_type": "markdown",
   "id": "f690fdcb",
   "metadata": {},
   "source": [
    "There are no remaining missing values after the lookupreplacement operation, so we will proceed with the next numerical feature."
   ]
  },
  {
   "cell_type": "markdown",
   "id": "3f57feb3",
   "metadata": {},
   "source": [
    "### **VIIg. Numerical Feature: Num_of_Loan**<a class = \"anchor\" id = \"VIIg\"></a>"
   ]
  },
  {
   "cell_type": "markdown",
   "id": "2caf6192",
   "metadata": {},
   "source": [
    "The Num_of_Loan feature is dependent to the Type_of_Loan feature. Num_of_Loan is basically the count of loan types that are present in the Type_of_Loan feature. Therefore, we are going to replace the outliers and possibly any wrong values by the count of the previously cleaned Type_of_Loan feature."
   ]
  },
  {
   "cell_type": "markdown",
   "id": "14844529",
   "metadata": {},
   "source": [
    "##### **Creating a new feature that stores Type_of_Loan item count**"
   ]
  },
  {
   "cell_type": "code",
   "execution_count": 121,
   "id": "01913554",
   "metadata": {},
   "outputs": [],
   "source": [
    "#  creating an empty list to store each entry's Type_of_Loan item count\n",
    "TrainLoanCount = []\n",
    "TestLoanCount = []\n",
    "\n",
    "# counting Type_of_Loan in each entry and storing them\n",
    "for row in range(len(data_train['Type_of_Loan'])):\n",
    "    num = len(data_train['Type_of_Loan'][row])\n",
    "    TrainLoanCount.append(num)\n",
    "for row in range(len(data_test['Type_of_Loan'])):\n",
    "    num = len(data_test['Type_of_Loan'][row])\n",
    "    TestLoanCount.append(num)\n",
    "\n",
    "# replacing the values in Num_of_Loan feature with the new list\n",
    "data_train['Num_of_Loan'] = TrainLoanCount\n",
    "data_test['Num_of_Loan'] = TestLoanCount\n",
    "\n",
    "# dropping the Type_of_Loan feature since it's redundant\n",
    "data_train.drop('Type_of_Loan', axis = 1, inplace = True)\n",
    "data_test.drop('Type_of_Loan', axis = 1, inplace = True)"
   ]
  },
  {
   "cell_type": "markdown",
   "id": "51e768e7",
   "metadata": {},
   "source": [
    "##### **Rearranging the column order**"
   ]
  },
  {
   "cell_type": "markdown",
   "id": "3923b92f",
   "metadata": {},
   "source": [
    "To make it more intuitive when further analyzing the data, we will move the Num_of_Loan feature just before the Type_of_Loan features."
   ]
  },
  {
   "cell_type": "code",
   "execution_count": 122,
   "id": "77bbe77b",
   "metadata": {},
   "outputs": [
    {
     "name": "stdout",
     "output_type": "stream",
     "text": [
      " Train dataframe : \n",
      " ['ID', 'Customer_ID', 'Month', 'Age', 'SSN', 'Occupation', 'Annual_Income', 'Monthly_Inhand_Salary', 'Num_Bank_Accounts', 'Num_Credit_Card', 'Interest_Rate', 'Num_of_Loan', 'Delay_from_due_date', 'Num_of_Delayed_Payment', 'Changed_Credit_Limit', 'Num_Credit_Inquiries', 'Credit_Mix', 'Outstanding_Debt', 'Credit_Utilization_Ratio', 'Credit_History_Age', 'Payment_of_Min_Amount', 'Total_EMI_per_month', 'Amount_invested_monthly', 'Payment_Behaviour', 'Monthly_Balance', 'auto loan', 'credit-builder loan', 'debt consolidation loan', 'home equity loan', 'mortgage loan', 'not specified', 'payday loan', 'personal loan', 'student loan', 'high', 'large', 'low', 'medium', 'payments', 'small', 'spent', 'value', 'Credit_Score'] \n",
      "\n",
      " Test dataframe : \n",
      " ['ID', 'Customer_ID', 'Month', 'Age', 'SSN', 'Occupation', 'Annual_Income', 'Monthly_Inhand_Salary', 'Num_Bank_Accounts', 'Num_Credit_Card', 'Interest_Rate', 'Num_of_Loan', 'Delay_from_due_date', 'Num_of_Delayed_Payment', 'Changed_Credit_Limit', 'Num_Credit_Inquiries', 'Credit_Mix', 'Outstanding_Debt', 'Credit_Utilization_Ratio', 'Credit_History_Age', 'Payment_of_Min_Amount', 'Total_EMI_per_month', 'Amount_invested_monthly', 'Payment_Behaviour', 'Monthly_Balance', 'auto loan', 'credit-builder loan', 'debt consolidation loan', 'home equity loan', 'mortgage loan', 'not specified', 'payday loan', 'personal loan', 'student loan', 'high', 'large', 'low', 'medium', 'payments', 'small', 'spent', 'value']\n"
     ]
    }
   ],
   "source": [
    "# temporarily storing the features as a list\n",
    "TrainCols = data_train.columns.tolist()\n",
    "TestCols = data_test.columns.tolist()\n",
    "print(' Train dataframe :', '\\n',\n",
    "      TrainCols, '\\n' * 2,\n",
    "      'Test dataframe :', '\\n',\n",
    "      TestCols)"
   ]
  },
  {
   "cell_type": "code",
   "execution_count": 123,
   "id": "74a41b33",
   "metadata": {},
   "outputs": [
    {
     "name": "stdout",
     "output_type": "stream",
     "text": [
      "['ID', 'Customer_ID', 'Month', 'Age', 'SSN', 'Occupation', 'Annual_Income', 'Monthly_Inhand_Salary', 'Num_Bank_Accounts', 'Num_Credit_Card', 'Interest_Rate', 'Delay_from_due_date', 'Num_of_Delayed_Payment', 'Changed_Credit_Limit', 'Num_Credit_Inquiries', 'Credit_Mix', 'Outstanding_Debt', 'Credit_Utilization_Ratio', 'Credit_History_Age', 'Payment_of_Min_Amount', 'Total_EMI_per_month', 'Amount_invested_monthly', 'Payment_Behaviour', 'Monthly_Balance', 'auto loan', 'credit-builder loan', 'debt consolidation loan', 'home equity loan', 'mortgage loan', 'not specified', 'payday loan', 'personal loan', 'Num_of_Loan', 'student loan', 'high', 'large', 'low', 'medium', 'payments', 'small', 'spent', 'value', 'Credit_Score']\n"
     ]
    }
   ],
   "source": [
    "# creating the arrangement\n",
    "TrainRearranged = TrainCols[:11]+ TrainCols[12:-10]+ [TrainCols[11]] + TrainCols[-10:]\n",
    "TestRearranged = TestCols[:11]+ TestCols[12:-10]+ [TestCols[11]] + TestCols[-10:]\n",
    "print(TrainRearranged) # Checking the order of the features\n",
    "\n",
    "# rearrange the dataframes\n",
    "data_train = data_train[TrainRearranged]\n",
    "data_test = data_test[TestRearranged]"
   ]
  },
  {
   "cell_type": "markdown",
   "id": "6f513e0c",
   "metadata": {},
   "source": [
    "### **VIIh. Numerical Feature: Num_of_Delayed_Payment**<a class = \"anchor\" id = \"VIIh\"></a>"
   ]
  },
  {
   "cell_type": "markdown",
   "id": "178e283c",
   "metadata": {},
   "source": [
    "By looking at the previous histogram, there exists some outliers in the Num_of_Delayed_Payment feature, with upper outliers the most obvious. Luckily, there are no missing values. Let's deal with the outliers first."
   ]
  },
  {
   "cell_type": "code",
   "execution_count": 124,
   "id": "fd06d0ca",
   "metadata": {},
   "outputs": [
    {
     "name": "stdout",
     "output_type": "stream",
     "text": [
      " Train dataframe :\n",
      "Outlier count in Num_of_Delayed_Payment : 736\n",
      "\n",
      " Test dataframe :\n",
      "Outlier count in Num_of_Delayed_Payment : 395\n"
     ]
    }
   ],
   "source": [
    "# counting the outliers in Num_of_Delayed_Payment\n",
    "print(' Train dataframe :')\n",
    "countoutlier(data_train, 'Num_of_Delayed_Payment')\n",
    "print('\\n',\n",
    "      'Test dataframe :')\n",
    "countoutlier(data_test, 'Num_of_Delayed_Payment')"
   ]
  },
  {
   "cell_type": "code",
   "execution_count": 125,
   "id": "e26b98e1",
   "metadata": {},
   "outputs": [
    {
     "name": "stdout",
     "output_type": "stream",
     "text": [
      "\n",
      "\n",
      "Num_of_Delayed_Payment data boxplot after dropping the outliers : \n"
     ]
    },
    {
     "data": {
      "image/png": "[encoded data removed]",
      "text/plain": [
       "<Figure size 640x480 with 1 Axes>"
      ]
     },
     "metadata": {},
     "output_type": "display_data"
    }
   ],
   "source": [
    "# dropping the outliers in Train dataframe's Num_of_Delayed_Payment\n",
    "omitoutlier(data_train, 'Num_of_Delayed_Payment')"
   ]
  },
  {
   "cell_type": "code",
   "execution_count": 126,
   "id": "31b2c8f9",
   "metadata": {},
   "outputs": [
    {
     "name": "stdout",
     "output_type": "stream",
     "text": [
      "\n",
      "\n",
      "Num_of_Delayed_Payment data boxplot after dropping the outliers : \n"
     ]
    },
    {
     "data": {
      "image/png": "[encoded data removed]",
      "text/plain": [
       "<Figure size 640x480 with 1 Axes>"
      ]
     },
     "metadata": {},
     "output_type": "display_data"
    }
   ],
   "source": [
    "# dropping the outliers in Test dataframe's Num_of_Delayed_Payment\n",
    "omitoutlier(data_test, 'Num_of_Delayed_Payment')"
   ]
  },
  {
   "cell_type": "markdown",
   "id": "ca8fadd3",
   "metadata": {},
   "source": [
    "The data distribution looks nice. In Num_of_Loan feature, the eight values shared by a customer does not necessarily have to be a same value. There are two ways to fill in the missing values, that is to simply change the nan values to 0 or using forward fill method. We will be using the later if there exists any 0 value in the feature, since the existence may imply that the nan value does not necessarily mean empty or zero. Forward fill method is one of the better ways to fill in this type of missing values to maintain the similarity between the values shared by each customer."
   ]
  },
  {
   "cell_type": "code",
   "execution_count": 127,
   "id": "f44446d7",
   "metadata": {},
   "outputs": [
    {
     "name": "stdout",
     "output_type": "stream",
     "text": [
      " Count of Num_of_Delayed_Payment with 0 value in Train dataframe : 1609 \n",
      "\n",
      " Count of Num_of_Delayed_Payment with 0 value in Test dataframe : 811\n"
     ]
    }
   ],
   "source": [
    "# checking if there are any Num_of_Delayed_Payment with 0 value\n",
    "print(' Count of Num_of_Delayed_Payment with 0 value in Train dataframe :',\n",
    "      (data_train['Num_of_Delayed_Payment'] == 0).sum(), '\\n' * 2,\n",
    "      'Count of Num_of_Delayed_Payment with 0 value in Test dataframe :',\n",
    "      (data_test['Num_of_Delayed_Payment'] == 0).sum())"
   ]
  },
  {
   "cell_type": "code",
   "execution_count": 128,
   "id": "f5833174",
   "metadata": {},
   "outputs": [
    {
     "name": "stdout",
     "output_type": "stream",
     "text": [
      " Num_of_Delayed_Payment missing values in Train dataframe : 0 \n",
      "\n",
      " Num_of_Delayed_Payment missing values in Test dataframe : 0\n"
     ]
    }
   ],
   "source": [
    "# filling in the missing Num_of_Delayed_Payment values with forward fill method\n",
    "data_train['Num_of_Delayed_Payment'] = data_train['Num_of_Delayed_Payment'].fillna(method = 'ffill')\n",
    "data_test['Num_of_Delayed_Payment'] = data_test['Num_of_Delayed_Payment'].fillna(method = 'ffill')\n",
    "\n",
    "# checking if there are still missing values in the Num_of_Delayed_Payment feature\n",
    "print(' Num_of_Delayed_Payment missing values in Train dataframe :',\n",
    "      data_train['Num_of_Delayed_Payment'].isnull().sum(), '\\n' * 2,\n",
    "      'Num_of_Delayed_Payment missing values in Test dataframe :',\n",
    "      data_test['Num_of_Delayed_Payment'].isnull().sum())"
   ]
  },
  {
   "cell_type": "markdown",
   "id": "c69887dc",
   "metadata": {},
   "source": [
    "### **VIIi. Numerical Feature: Changed_Credit_Limit**<a class = \"anchor\" id = \"VIIi\"></a>"
   ]
  },
  {
   "cell_type": "markdown",
   "id": "da36779c",
   "metadata": {},
   "source": [
    "By looking at the previous histogram, there does not seem to exist notable outliers. However, there are some missing values that need to be dealt with. In Changed_Credit_Limit feature, the eight values shared by a customer does not necessarily have to be a same value. Same as before, we will be filling in the missing values by either changing the nan values to 0 method or using forward fill method."
   ]
  },
  {
   "cell_type": "code",
   "execution_count": 129,
   "id": "f34a0888",
   "metadata": {},
   "outputs": [
    {
     "name": "stdout",
     "output_type": "stream",
     "text": [
      " Count of Changed_Credit_Limit with 0 value in Train dataframe : 4 \n",
      "\n",
      " Count of Changed_Credit_Limit with 0 value in Test dataframe : 2\n"
     ]
    }
   ],
   "source": [
    "# checking if there are any Changed_Credit_Limit with 0 value\n",
    "print(' Count of Changed_Credit_Limit with 0 value in Train dataframe :',\n",
    "      (data_train['Changed_Credit_Limit'] == 0).sum(), '\\n' * 2,\n",
    "      'Count of Changed_Credit_Limit with 0 value in Test dataframe :',\n",
    "      (data_test['Changed_Credit_Limit'] == 0).sum())"
   ]
  },
  {
   "cell_type": "markdown",
   "id": "f1f47a9b",
   "metadata": {},
   "source": [
    "    There exists the 0 values. Therefore, we will be using the forward fill method to fill in the missing values."
   ]
  },
  {
   "cell_type": "code",
   "execution_count": 130,
   "id": "2b8f7631",
   "metadata": {},
   "outputs": [
    {
     "name": "stdout",
     "output_type": "stream",
     "text": [
      " Changed_Credit_Limit missing values in Train dataframe : 0 \n",
      "\n",
      " Changed_Credit_Limit missing values in Test dataframe : 0\n"
     ]
    }
   ],
   "source": [
    "# filling in the missing Changed_Credit_Limit values with forward fill method\n",
    "data_train['Changed_Credit_Limit'] = data_train['Changed_Credit_Limit'].fillna(method = 'ffill')\n",
    "data_test['Changed_Credit_Limit'] = data_test['Changed_Credit_Limit'].fillna(method = 'ffill')\n",
    "\n",
    "# checking if there are still missing values in the Changed_Credit_Limit feature\n",
    "print(' Changed_Credit_Limit missing values in Train dataframe :',\n",
    "      data_train['Changed_Credit_Limit'].isnull().sum(), '\\n' * 2,\n",
    "      'Changed_Credit_Limit missing values in Test dataframe :',\n",
    "      data_test['Changed_Credit_Limit'].isnull().sum())"
   ]
  },
  {
   "cell_type": "markdown",
   "id": "6fe65879",
   "metadata": {},
   "source": [
    "### **VIIj. Numerical Feature: Num_Credit_Inquiries**<a class = \"anchor\" id = \"VIIj\"></a>"
   ]
  },
  {
   "cell_type": "markdown",
   "id": "d7d656fa",
   "metadata": {},
   "source": [
    "By looking at the previous histogram, there exists some outliers in the Num_Credit_Inquiries feature, with upper outliers the most obvious. There are missing values as well. Let's deal with the outliers first."
   ]
  },
  {
   "cell_type": "code",
   "execution_count": 131,
   "id": "1fd46240",
   "metadata": {},
   "outputs": [
    {
     "name": "stdout",
     "output_type": "stream",
     "text": [
      " Train dataframe :\n",
      "Outlier count in Num_Credit_Inquiries : 1650\n",
      "\n",
      " Test dataframe :\n",
      "Outlier count in Num_Credit_Inquiries : 846\n"
     ]
    }
   ],
   "source": [
    "# counting the outliers in Num_Credit_Inquiries\n",
    "print(' Train dataframe :')\n",
    "countoutlier(data_train, 'Num_Credit_Inquiries')\n",
    "print('\\n',\n",
    "      'Test dataframe :')\n",
    "countoutlier(data_test, 'Num_Credit_Inquiries')"
   ]
  },
  {
   "cell_type": "code",
   "execution_count": 132,
   "id": "365a7494",
   "metadata": {},
   "outputs": [
    {
     "name": "stdout",
     "output_type": "stream",
     "text": [
      "\n",
      "\n",
      "Num_Credit_Inquiries data boxplot after dropping the outliers : \n"
     ]
    },
    {
     "data": {
      "image/png": "[encoded data removed]",
      "text/plain": [
       "<Figure size 640x480 with 1 Axes>"
      ]
     },
     "metadata": {},
     "output_type": "display_data"
    }
   ],
   "source": [
    "# dropping the outliers in Train dataframe's Num_Credit_Inquiries\n",
    "omitoutlier(data_train, 'Num_Credit_Inquiries')"
   ]
  },
  {
   "cell_type": "code",
   "execution_count": 133,
   "id": "aa401aae",
   "metadata": {},
   "outputs": [
    {
     "name": "stdout",
     "output_type": "stream",
     "text": [
      "\n",
      "\n",
      "Num_Credit_Inquiries data boxplot after dropping the outliers : \n"
     ]
    },
    {
     "data": {
      "image/png": "[encoded data removed]",
      "text/plain": [
       "<Figure size 640x480 with 1 Axes>"
      ]
     },
     "metadata": {},
     "output_type": "display_data"
    }
   ],
   "source": [
    "# dropping the outliers in Test dataframe's Num_Credit_Inquiries\n",
    "omitoutlier(data_test, 'Num_Credit_Inquiries')"
   ]
  },
  {
   "cell_type": "markdown",
   "id": "9f1c41c3",
   "metadata": {},
   "source": [
    "The data distribution looks nice. In Num_Credit_Inquiries feature, the eight values shared by a customer does not necessarily have to be a same value. Same as before, we will be filling in the missing values by either changing the nan values to 0 method or using forward fill method.\n",
    "مش شرط هنا القيمه ثابته في ال 8 شهور ممكن تزيد وتقل علي حسب العميل هيعمل اي كل شهر \n",
    "لكن فيه عناصر بيكون فيه القيم ثابته نظرا للمنطق"
   ]
  },
  {
   "cell_type": "code",
   "execution_count": 134,
   "id": "186bf0e2",
   "metadata": {},
   "outputs": [
    {
     "name": "stdout",
     "output_type": "stream",
     "text": [
      " Count of Num_Credit_Inquiries with 0 value in Train dataframe : 6972 \n",
      "\n",
      " Count of Num_Credit_Inquiries with 0 value in Test dataframe : 1102\n"
     ]
    }
   ],
   "source": [
    "# checking if there are any Num_Credit_Inquiries with 0 value\n",
    "print(' Count of Num_Credit_Inquiries with 0 value in Train dataframe :',\n",
    "      (data_train['Num_Credit_Inquiries'] == 0).sum(), '\\n' * 2,\n",
    "      'Count of Num_Credit_Inquiries with 0 value in Test dataframe :',\n",
    "      (data_test['Num_Credit_Inquiries'] == 0).sum())"
   ]
  },
  {
   "cell_type": "markdown",
   "id": "bfb22abd",
   "metadata": {},
   "source": [
    "There exists the 0 values. Therefore, we will be using the forward fill method to fill in the missing values."
   ]
  },
  {
   "cell_type": "code",
   "execution_count": 135,
   "id": "5aa830e4",
   "metadata": {},
   "outputs": [
    {
     "name": "stdout",
     "output_type": "stream",
     "text": [
      " Num_Credit_Inquiries missing values in Train dataframe : 0 \n",
      "\n",
      " Num_Credit_Inquiries missing values in Test dataframe : 1\n"
     ]
    }
   ],
   "source": [
    "# filling in the missing Num_Credit_Inquiries values with forward fill method\n",
    "data_train['Num_Credit_Inquiries'] = data_train['Num_Credit_Inquiries'].fillna(method = 'ffill')\n",
    "data_test['Num_Credit_Inquiries'] = data_test['Num_Credit_Inquiries'].fillna(method = 'ffill')\n",
    "\n",
    "# checking if there are still missing values in the Num_Credit_Inquiries feature\n",
    "print(' Num_Credit_Inquiries missing values in Train dataframe :',\n",
    "      data_train['Num_Credit_Inquiries'].isnull().sum(), '\\n' * 2,\n",
    "      'Num_Credit_Inquiries missing values in Test dataframe :',\n",
    "      data_test['Num_Credit_Inquiries'].isnull().sum())"
   ]
  },
  {
   "cell_type": "markdown",
   "id": "dfed73b2",
   "metadata": {},
   "source": [
    "There is still one missing value in this feature in Test dataframe. It probably is the first entry of the dataset. Let's check if it is true."
   ]
  },
  {
   "cell_type": "code",
   "execution_count": 136,
   "id": "1645cdf3",
   "metadata": {},
   "outputs": [
    {
     "data": {
      "text/html": [
       "<div>\n",
       "<style scoped>\n",
       "    .dataframe tbody tr th:only-of-type {\n",
       "        vertical-align: middle;\n",
       "    }\n",
       "\n",
       "    .dataframe tbody tr th {\n",
       "        vertical-align: top;\n",
       "    }\n",
       "\n",
       "    .dataframe thead th {\n",
       "        text-align: right;\n",
       "    }\n",
       "</style>\n",
       "<table border=\"1\" class=\"dataframe\">\n",
       "  <thead>\n",
       "    <tr style=\"text-align: right;\">\n",
       "      <th></th>\n",
       "      <th>ID</th>\n",
       "      <th>Customer_ID</th>\n",
       "      <th>Month</th>\n",
       "      <th>Age</th>\n",
       "      <th>SSN</th>\n",
       "      <th>Occupation</th>\n",
       "      <th>Annual_Income</th>\n",
       "      <th>Monthly_Inhand_Salary</th>\n",
       "      <th>Num_Bank_Accounts</th>\n",
       "      <th>Num_Credit_Card</th>\n",
       "      <th>...</th>\n",
       "      <th>personal loan</th>\n",
       "      <th>student loan</th>\n",
       "      <th>high</th>\n",
       "      <th>large</th>\n",
       "      <th>low</th>\n",
       "      <th>medium</th>\n",
       "      <th>payments</th>\n",
       "      <th>small</th>\n",
       "      <th>spent</th>\n",
       "      <th>value</th>\n",
       "    </tr>\n",
       "  </thead>\n",
       "  <tbody>\n",
       "    <tr>\n",
       "      <th>0</th>\n",
       "      <td>0x160a</td>\n",
       "      <td>CUS_0xd40</td>\n",
       "      <td>September</td>\n",
       "      <td>24.0</td>\n",
       "      <td>821-00-0265</td>\n",
       "      <td>Scientist</td>\n",
       "      <td>19114.12</td>\n",
       "      <td>1824.843333</td>\n",
       "      <td>3.0</td>\n",
       "      <td>4.0</td>\n",
       "      <td>...</td>\n",
       "      <td>1</td>\n",
       "      <td>0</td>\n",
       "      <td>0</td>\n",
       "      <td>0</td>\n",
       "      <td>1</td>\n",
       "      <td>0</td>\n",
       "      <td>1</td>\n",
       "      <td>1</td>\n",
       "      <td>1</td>\n",
       "      <td>1</td>\n",
       "    </tr>\n",
       "  </tbody>\n",
       "</table>\n",
       "<p>1 rows × 42 columns</p>\n",
       "</div>"
      ],
      "text/plain": [
       "       ID Customer_ID      Month   Age          SSN Occupation  Annual_Income  \\\n",
       "0  0x160a   CUS_0xd40  September  24.0  821-00-0265  Scientist       19114.12   \n",
       "\n",
       "   Monthly_Inhand_Salary  Num_Bank_Accounts  Num_Credit_Card  ...  \\\n",
       "0            1824.843333                3.0              4.0  ...   \n",
       "\n",
       "   personal loan  student loan  high  large  low medium  payments  small  \\\n",
       "0              1             0     0      0    1      0         1      1   \n",
       "\n",
       "   spent value  \n",
       "0      1     1  \n",
       "\n",
       "[1 rows x 42 columns]"
      ]
     },
     "execution_count": 136,
     "metadata": {},
     "output_type": "execute_result"
    }
   ],
   "source": [
    "#Access the entry that have missing value\n",
    "data_test.loc[data_test['Num_Credit_Inquiries'].isnull()]"
   ]
  },
  {
   "cell_type": "markdown",
   "id": "9572eef9",
   "metadata": {},
   "source": [
    "It is true that the last missing value presents itself in the first entry of the Test dataframe. We will be filling in this missing value using backward fill method, the counterpart of the previously used forward fill method."
   ]
  },
  {
   "cell_type": "code",
   "execution_count": 137,
   "id": "4f3079d7",
   "metadata": {},
   "outputs": [
    {
     "name": "stdout",
     "output_type": "stream",
     "text": [
      "Num_Credit_Inquiries missing values in Test dataframe : 0\n"
     ]
    }
   ],
   "source": [
    "# filling in the missing Num_Credit_Inquiries values with backward fill method\n",
    "data_test['Num_Credit_Inquiries'] = data_test['Num_Credit_Inquiries'].fillna(method = 'bfill')\n",
    "\n",
    "# checking if there are still missing values in the Num_Credit_Inquiries feature\n",
    "print('Num_Credit_Inquiries missing values in Test dataframe :',\n",
    "      data_test['Num_Credit_Inquiries'].isnull().sum())"
   ]
  },
  {
   "cell_type": "markdown",
   "id": "63f8c9f4",
   "metadata": {},
   "source": [
    "### **VIIk. Numerical Feature: Credit_History_Age**<a class = \"anchor\" id = \"VIIk\"></a>"
   ]
  },
  {
   "cell_type": "markdown",
   "id": "29727147",
   "metadata": {},
   "source": [
    "By looking at the previous histogram, there does not seem to exist notable outliers. However, there are some missing values that need to be dealt with. In Credit_History_Age feature, the eight values shared by a customer does not necessarily have to be a same value. In fact, the values shared by each customer act differently compared to the values in other features.\n",
    "This features we dealing with it in previous stages that we converted all the rows to months"
   ]
  },
  {
   "cell_type": "markdown",
   "id": "99f39687",
   "metadata": {},
   "source": [
    "##### **Train dataframe**"
   ]
  },
  {
   "cell_type": "code",
   "execution_count": 138,
   "id": "e96b657f",
   "metadata": {},
   "outputs": [
    {
     "data": {
      "text/plain": [
       "9030"
      ]
     },
     "execution_count": 138,
     "metadata": {},
     "output_type": "execute_result"
    }
   ],
   "source": [
    "data_train['Credit_History_Age'].isnull().sum()"
   ]
  },
  {
   "cell_type": "code",
   "execution_count": 151,
   "id": "40490168",
   "metadata": {},
   "outputs": [
    {
     "name": "stdout",
     "output_type": "stream",
     "text": [
      "Credit_History_Age missing values in Train dataframe : 0\n"
     ]
    }
   ],
   "source": [
    "# creating a list containing index with step value of 8 to locate the start of each customer\n",
    "\n",
    "# range start\n",
    "start = 0\n",
    "\n",
    "# range stop: the number of the entries\n",
    "stop = len(data_train)#100000\n",
    "\n",
    "# range step: the number of entries for each customer\n",
    "step = len(data_train[data_train['Customer_ID'] == data_train['Customer_ID'].unique()[0]])\n",
    "\n",
    "\n",
    "# defining CustomerIndexer\n",
    "CustomerIndexer = range(start, stop, step) #(0,100000,8) #Final result 12500\n",
    "\n",
    "# start of the moving index\n",
    "i = 0\n",
    "\n",
    "# iterating through each customer to fill the missing values\n",
    "for indexstart, ID in zip(CustomerIndexer, data_train['Customer_ID'].unique()):\n",
    "    \n",
    "    # dealing with the first n missing values\n",
    "    \n",
    "    i = indexstart # index start for each new customer\n",
    "    \n",
    "    # while the beginning entry of the current customer is still empty\n",
    "    while i > -1 and np.isnan(data_train['Credit_History_Age'][indexstart]) == True:\n",
    "        if np.isnan(data_train['Credit_History_Age'][i]) == True: # encountering missing value\n",
    "            i = i + 1\n",
    "        else: # encountering filled entry\n",
    "            data_train['Credit_History_Age'][i - 1] = data_train['Credit_History_Age'][i] - 1\n",
    "            i = i - 1\n",
    "    \n",
    "    # dealing with the rest of the missing values\n",
    "    \n",
    "    i = indexstart # restarting the loop from the current customer's first entry\n",
    "    \n",
    "    # while i is still in bound and the Customer_ID is according to the current cuustomer\n",
    "    while i < len(data_train['Customer_ID']) and data_train['Customer_ID'][i] == ID:\n",
    "        if np.isnan(data_train['Credit_History_Age'][i]) == False: # encountering filled entry\n",
    "            i = i + 1\n",
    "        else: # encountering missing value\n",
    "            data_train['Credit_History_Age'][i] = data_train['Credit_History_Age'][i - 1] + 1\n",
    "            i = i + 1\n",
    "\n",
    "# checking if there are still missing values in the Credit_History_Age feature\n",
    "print('Credit_History_Age missing values in Train dataframe :',\n",
    "      data_train['Credit_History_Age'].isnull().sum())"
   ]
  },
  {
   "cell_type": "code",
   "execution_count": 152,
   "id": "133755ad",
   "metadata": {},
   "outputs": [
    {
     "data": {
      "text/html": [
       "<div>\n",
       "<style scoped>\n",
       "    .dataframe tbody tr th:only-of-type {\n",
       "        vertical-align: middle;\n",
       "    }\n",
       "\n",
       "    .dataframe tbody tr th {\n",
       "        vertical-align: top;\n",
       "    }\n",
       "\n",
       "    .dataframe thead th {\n",
       "        text-align: right;\n",
       "    }\n",
       "</style>\n",
       "<table border=\"1\" class=\"dataframe\">\n",
       "  <thead>\n",
       "    <tr style=\"text-align: right;\">\n",
       "      <th></th>\n",
       "      <th>CustomerIndexer</th>\n",
       "      <th>Customer_ID</th>\n",
       "    </tr>\n",
       "  </thead>\n",
       "  <tbody>\n",
       "    <tr>\n",
       "      <th>0</th>\n",
       "      <td>0</td>\n",
       "      <td>CUS_0xd40</td>\n",
       "    </tr>\n",
       "    <tr>\n",
       "      <th>1</th>\n",
       "      <td>8</td>\n",
       "      <td>CUS_0x21b1</td>\n",
       "    </tr>\n",
       "    <tr>\n",
       "      <th>2</th>\n",
       "      <td>16</td>\n",
       "      <td>CUS_0x2dbc</td>\n",
       "    </tr>\n",
       "    <tr>\n",
       "      <th>3</th>\n",
       "      <td>24</td>\n",
       "      <td>CUS_0xb891</td>\n",
       "    </tr>\n",
       "    <tr>\n",
       "      <th>4</th>\n",
       "      <td>32</td>\n",
       "      <td>CUS_0x1cdb</td>\n",
       "    </tr>\n",
       "    <tr>\n",
       "      <th>...</th>\n",
       "      <td>...</td>\n",
       "      <td>...</td>\n",
       "    </tr>\n",
       "    <tr>\n",
       "      <th>12495</th>\n",
       "      <td>99960</td>\n",
       "      <td>CUS_0x372c</td>\n",
       "    </tr>\n",
       "    <tr>\n",
       "      <th>12496</th>\n",
       "      <td>99968</td>\n",
       "      <td>CUS_0xf16</td>\n",
       "    </tr>\n",
       "    <tr>\n",
       "      <th>12497</th>\n",
       "      <td>99976</td>\n",
       "      <td>CUS_0xaf61</td>\n",
       "    </tr>\n",
       "    <tr>\n",
       "      <th>12498</th>\n",
       "      <td>99984</td>\n",
       "      <td>CUS_0x8600</td>\n",
       "    </tr>\n",
       "    <tr>\n",
       "      <th>12499</th>\n",
       "      <td>99992</td>\n",
       "      <td>CUS_0x942c</td>\n",
       "    </tr>\n",
       "  </tbody>\n",
       "</table>\n",
       "<p>12500 rows × 2 columns</p>\n",
       "</div>"
      ],
      "text/plain": [
       "       CustomerIndexer Customer_ID\n",
       "0                    0   CUS_0xd40\n",
       "1                    8  CUS_0x21b1\n",
       "2                   16  CUS_0x2dbc\n",
       "3                   24  CUS_0xb891\n",
       "4                   32  CUS_0x1cdb\n",
       "...                ...         ...\n",
       "12495            99960  CUS_0x372c\n",
       "12496            99968   CUS_0xf16\n",
       "12497            99976  CUS_0xaf61\n",
       "12498            99984  CUS_0x8600\n",
       "12499            99992  CUS_0x942c\n",
       "\n",
       "[12500 rows x 2 columns]"
      ]
     },
     "execution_count": 152,
     "metadata": {},
     "output_type": "execute_result"
    }
   ],
   "source": [
    "#دي هترجعلي عمودين 12500 انديكس مع 12500 اي دي\n",
    "#بقوله رجعلي مكان كل موظف بالاي دي بتاعه\n",
    "z=pd.DataFrame(list(zip(CustomerIndexer, data_train['Customer_ID'].unique())))\n",
    "z.columns=['CustomerIndexer','Customer_ID']\n",
    "z"
   ]
  },
  {
   "cell_type": "markdown",
   "id": "31b9f45e",
   "metadata": {},
   "source": [
    "# Test dataframe"
   ]
  },
  {
   "cell_type": "code",
   "execution_count": 140,
   "id": "55318d23",
   "metadata": {},
   "outputs": [
    {
     "name": "stderr",
     "output_type": "stream",
     "text": [
      "C:\\Users\\HP\\AppData\\Local\\Temp\\ipykernel_11068\\2112353238.py:38: SettingWithCopyWarning: \n",
      "A value is trying to be set on a copy of a slice from a DataFrame\n",
      "\n",
      "See the caveats in the documentation: https://pandas.pydata.org/pandas-docs/stable/user_guide/indexing.html#returning-a-view-versus-a-copy\n",
      "  data_test['Credit_History_Age'][i] = data_test['Credit_History_Age'][i - 1] + 1\n",
      "C:\\Users\\HP\\AppData\\Local\\Temp\\ipykernel_11068\\2112353238.py:26: SettingWithCopyWarning: \n",
      "A value is trying to be set on a copy of a slice from a DataFrame\n",
      "\n",
      "See the caveats in the documentation: https://pandas.pydata.org/pandas-docs/stable/user_guide/indexing.html#returning-a-view-versus-a-copy\n",
      "  data_test['Credit_History_Age'][i - 1] = data_test['Credit_History_Age'][i] - 1\n"
     ]
    },
    {
     "name": "stdout",
     "output_type": "stream",
     "text": [
      "Credit_History_Age missing values in Test dataframe : 0\n"
     ]
    }
   ],
   "source": [
    "# creating a list containing index with step value of 4 to locate the start of each customer\n",
    "# range start\n",
    "start = 0\n",
    "# range stop: the number of the entries\n",
    "stop = len(data_test)  #100000\n",
    "# range step: the number of entries for each customer\n",
    "step = len(data_test[data_test['Customer_ID'] == data_test['Customer_ID'].unique()[0]]) #8\n",
    "# defining CustomerIndexer\n",
    "CustomerIndexer = range(start, stop, step)\n",
    "\n",
    "# start of the moving index\n",
    "i = 0\n",
    "\n",
    "# iterating through each customer to fill the missing values\n",
    "for indexstart, ID in zip(CustomerIndexer, data_test['Customer_ID'].unique()):\n",
    "    \n",
    "    # dealing with the first n missing values\n",
    "    \n",
    "    i = indexstart # index start for each new customer\n",
    "    \n",
    "    # while the beginning entry of the current customer is still empty\n",
    "    while i > -1 and np.isnan(data_test['Credit_History_Age'][indexstart]) == True:\n",
    "        if np.isnan(data_test['Credit_History_Age'][i]) == True: # encountering missing value\n",
    "            i = i + 1\n",
    "        else: # encountering filled entry\n",
    "            data_test['Credit_History_Age'][i - 1] = data_test['Credit_History_Age'][i] - 1\n",
    "            i = i - 1\n",
    "    \n",
    "    # dealing with the rest of the missing values\n",
    "    \n",
    "    i = indexstart # restarting the loop from the current customer's first entry\n",
    "    \n",
    "    # while i is still in bound and the Customer_ID is according to the current cuustomer\n",
    "    while i < len(data_test['Customer_ID']) and data_test['Customer_ID'][i] == ID:\n",
    "        if np.isnan(data_test['Credit_History_Age'][i]) == False: # encountering filled entry\n",
    "            i = i + 1\n",
    "        else: # encountering missing value\n",
    "            data_test['Credit_History_Age'][i] = data_test['Credit_History_Age'][i - 1] + 1\n",
    "            i = i + 1\n",
    "\n",
    "# checking if there are still missing values in the Credit_History_Age feature\n",
    "print('Credit_History_Age missing values in Test dataframe :',\n",
    "      data_test['Credit_History_Age'].isnull().sum())"
   ]
  },
  {
   "cell_type": "code",
   "execution_count": null,
   "id": "c5aada91",
   "metadata": {},
   "outputs": [],
   "source": []
  }
 ],
 "metadata": {
  "kernelspec": {
   "display_name": "Python 3 (ipykernel)",
   "language": "python",
   "name": "python3"
  },
  "language_info": {
   "codemirror_mode": {
    "name": "ipython",
    "version": 3
   },
   "file_extension": ".py",
   "mimetype": "text/x-python",
   "name": "python",
   "nbconvert_exporter": "python",
   "pygments_lexer": "ipython3",
   "version": "3.9.18"
  }
 },
 "nbformat": 4,
 "nbformat_minor": 5
}
