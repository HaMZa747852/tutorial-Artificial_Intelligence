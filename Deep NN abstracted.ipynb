{
 "cells": [
  {
   "cell_type": "code",
   "execution_count": 54,
   "id": "3eb778b0",
   "metadata": {},
   "outputs": [],
   "source": [
    "class Neural_net():\n",
    "    def __init__(self,X,y,activation='sigmoid',num_nodes=4,alpha=0.2,epochs=90000):\n",
    "        #intialiaztion all the variables that we need \n",
    "        self.input=X\n",
    "        self.target=y\n",
    "        self.output=None\n",
    "        self.activation=activation\n",
    "        self.num_nodes=num_nodes\n",
    "        self.alpha=alpha\n",
    "        self.epochs=epochs\n",
    "        #################################\n",
    "        \n",
    "        #intialize weghits\n",
    "        \n",
    "        #self.W_0=np.array((num_nodes_in_pervious_layer,num_nodes_in_current_layer))\n",
    "        self.W_0=np.random.random((self.input.shape[1],self.num_nodes))\n",
    "        self.W_1=np.random.random((self.num_nodes,self.target.shape[1]))\n",
    "        \n",
    "        \n",
    "    def sigmoid(self,Z,driv=False):\n",
    "        self.s=1/(1+np.exp(-Z))\n",
    "        if driv==True:\n",
    "            return self.s*(1-self.s)\n",
    "        return self.s\n",
    "            \n",
    "    def ReLU(self,Z):\n",
    "        return max(0,Z)\n",
    "        \n",
    "    def forward_propagation(self):\n",
    "        self.a1=(np.dot(self.input,self.W_0))\n",
    "        if self.activation=='sigmoid':\n",
    "            self.a1=self.sigmoid(self.a1)\n",
    "        #second layer\n",
    "        self.a2=(np.dot(self.a1,self.W_1))\n",
    "        if self.activation=='sigmoid':\n",
    "            self.output=self.sigmoid(self.a2)\n",
    "    \n",
    "        \n",
    "    def train(self):\n",
    "        for i in range(self.epochs):\n",
    "            self.forward_propagation()\n",
    "            layer_2_delta = 2 * (self.output - self.target) * self.sigmoid(self.output, driv= True)\n",
    "            layer_2_delta_w_1 = self.a1.T.dot(layer_2_delta)\n",
    "            layer_1_error = layer_2_delta.dot(self.W_1.T)\n",
    "            layer_1_delta = layer_1_error * self.sigmoid(self.a1, driv= True)\n",
    "            layer_1_delta_w0 = self.input.T.dot(layer_1_delta)\n",
    "\n",
    "            self.W_1 -= self.alpha * layer_2_delta_w_1\n",
    "            self.W_0 -= self.alpha * layer_1_delta_w0\n",
    "\n",
    "        "
   ]
  },
  {
   "cell_type": "code",
   "execution_count": 55,
   "id": "8e2540e0",
   "metadata": {},
   "outputs": [],
   "source": [
    "import numpy as np\n",
    "X = np.array([[0,0,1],\n",
    "            [0,1,1],\n",
    "            [1,0,1],\n",
    "            [1,1,1]])\n",
    "                \n",
    "y = np.array([[0],\n",
    "            [1],\n",
    "            [1],\n",
    "            [0]])\n"
   ]
  },
  {
   "cell_type": "code",
   "execution_count": 56,
   "id": "ad1c7978",
   "metadata": {},
   "outputs": [],
   "source": [
    "NN=Neural_net(X,y)\n",
    "NN.train()"
   ]
  },
  {
   "cell_type": "code",
   "execution_count": 57,
   "id": "1abcb210",
   "metadata": {},
   "outputs": [
    {
     "data": {
      "text/plain": [
       "array([[0.0013829 ],\n",
       "       [0.99822464],\n",
       "       [0.99822465],\n",
       "       [0.0015112 ]])"
      ]
     },
     "execution_count": 57,
     "metadata": {},
     "output_type": "execute_result"
    }
   ],
   "source": [
    "NN.output"
   ]
  }
 ],
 "metadata": {
  "kernelspec": {
   "display_name": "Python 3 (ipykernel)",
   "language": "python",
   "name": "python3"
  },
  "language_info": {
   "codemirror_mode": {
    "name": "ipython",
    "version": 3
   },
   "file_extension": ".py",
   "mimetype": "text/x-python",
   "name": "python",
   "nbconvert_exporter": "python",
   "pygments_lexer": "ipython3",
   "version": "3.9.18"
  }
 },
 "nbformat": 4,
 "nbformat_minor": 5
}
