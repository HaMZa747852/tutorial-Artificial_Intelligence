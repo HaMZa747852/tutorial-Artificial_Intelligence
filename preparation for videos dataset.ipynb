{
 "cells": [
  {
   "cell_type": "code",
   "execution_count": null,
   "id": "fea027b8",
   "metadata": {},
   "outputs": [],
   "source": [
    "import os\n",
    "data_directory='D:/My_run_data_folder/'\n",
    "if not os.path.exists(data_directory):\n",
    "    os.makedirs(data_directory)\n",
    "os.chdir(data_directory)"
   ]
  },
  {
   "cell_type": "code",
   "execution_count": 1,
   "id": "8ab22399",
   "metadata": {},
   "outputs": [],
   "source": [
    "import cv2\n",
    "\n",
    "def read_video(video_path):\n",
    "    cap = cv2.VideoCapture(video_path)\n",
    "    frames = []\n",
    "    while cap.isOpened():\n",
    "        ret, frame = cap.read()\n",
    "        if not ret:\n",
    "            break\n",
    "        frames.append(frame)\n",
    "    cap.release()\n",
    "    return frames\n"
   ]
  },
  {
   "cell_type": "code",
   "execution_count": 2,
   "id": "b3ab77b9",
   "metadata": {},
   "outputs": [],
   "source": [
    "def preprocess_frames(frames, width=224, height=224):\n",
    "    preprocessed_frames = []\n",
    "    for frame in frames:\n",
    "        frame = cv2.resize(frame, (width, height))  # Resize frame\n",
    "        frame = frame / 255.0  # Normalize pixel values\n",
    "        preprocessed_frames.append(frame)\n",
    "    return preprocessed_frames\n"
   ]
  },
  {
   "cell_type": "code",
   "execution_count": 3,
   "id": "43da9897",
   "metadata": {},
   "outputs": [],
   "source": [
    "import numpy as np\n",
    "\n",
    "def create_sequences(frames, sequence_length=30):\n",
    "    return np.array([frames[i:i + sequence_length] for i in range(len(frames) - sequence_length + 1)])\n"
   ]
  },
  {
   "cell_type": "code",
   "execution_count": 4,
   "id": "66f311b3",
   "metadata": {},
   "outputs": [],
   "source": [
    "import os\n",
    "\n",
    "def get_data_from_directory(root_directory, sequence_length=30):\n",
    "    X, y = [], []\n",
    "    label_map = {'violence': 1, 'nonviolence': 0}  # Update this map as needed\n",
    "\n",
    "    # Loop through each folder in the root directory\n",
    "    for folder_name in os.listdir(root_directory):\n",
    "        folder_path = os.path.join(root_directory, folder_name)\n",
    "        if os.path.isdir(folder_path):\n",
    "            # Determine label from the folder name using the label map\n",
    "            label = label_map.get(folder_name.lower(), -1)\n",
    "            if label != -1:  # If the label is found in the label map\n",
    "                # Process each video file in the folder\n",
    "                for video_file in os.listdir(folder_path):\n",
    "                    video_path = os.path.join(folder_path, video_file)\n",
    "                    frames = read_video(video_path)\n",
    "                    if frames:  # If frames were captured\n",
    "                        frames = preprocess_frames(frames)\n",
    "                        sequences = create_sequences(frames, sequence_length)\n",
    "                        X.extend(sequences[:10])\n",
    "                        y.extend([label] * len(sequences))\n",
    "    X=np.array(X)\n",
    "    y=np.array(y)\n",
    "    x=X[0]\n",
    "    Y=y[0]\n",
    "    return x,Y \n"
   ]
  },
  {
   "cell_type": "code",
   "execution_count": 1,
   "id": "de1c3c6b",
   "metadata": {},
   "outputs": [],
   "source": [
    "# Replace 'path_to_your_videos_root_folder' with the path to your dataset folder\n",
    "root_directory = 'D:\\\\data'\n",
    "\n",
    "# Get the data and labels\n",
    "X, y = get_data_from_directory(root_directory, sequence_length=30)\n",
    "\n",
    "# X contains the video sequences, and y contains the corresponding labels\n"
   ]
  }
 ],
 "metadata": {
  "kernelspec": {
   "display_name": "Python 3 (ipykernel)",
   "language": "python",
   "name": "python3"
  },
  "language_info": {
   "codemirror_mode": {
    "name": "ipython",
    "version": 3
   },
   "file_extension": ".py",
   "mimetype": "text/x-python",
   "name": "python",
   "nbconvert_exporter": "python",
   "pygments_lexer": "ipython3",
   "version": "3.9.18"
  }
 },
 "nbformat": 4,
 "nbformat_minor": 5
}
