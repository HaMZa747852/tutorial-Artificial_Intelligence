{
 "cells": [
  {
   "cell_type": "code",
   "execution_count": 1,
   "id": "e166552e",
   "metadata": {},
   "outputs": [],
   "source": [
    "import numpy as np\n",
    "import matplotlib.pyplot as plt"
   ]
  },
  {
   "cell_type": "code",
   "execution_count": 2,
   "id": "5d58bb81",
   "metadata": {},
   "outputs": [],
   "source": [
    "X = np.array([[0,0,1],\n",
    "            [0,1,1],\n",
    "            [1,0,1],\n",
    "            [1,1,1]])\n",
    "                \n",
    "y = np.array([[0],\n",
    "            [1],\n",
    "            [1],\n",
    "            [0]])\n"
   ]
  },
  {
   "cell_type": "markdown",
   "id": "fd7424e1",
   "metadata": {},
   "source": [
    "# we will build a deep neural net \n",
    "# with 3 features and 4 neurons to hidden layer , then output layer"
   ]
  },
  {
   "cell_type": "markdown",
   "id": "0ce64adb",
   "metadata": {},
   "source": [
    "# Froward Propagation"
   ]
  },
  {
   "cell_type": "markdown",
   "id": "ac077f71",
   "metadata": {},
   "source": [
    "at first we will calculate equations at first layer \n",
    "h=sigmoid(h.w0)\n",
    "\n",
    "\n",
    "\n",
    "then output layer\n",
    "\n",
    "\n",
    "\n",
    "\n",
    "y_hat=sigmoid(h.w1)"
   ]
  },
  {
   "cell_type": "code",
   "execution_count": 3,
   "id": "7d1386dd",
   "metadata": {},
   "outputs": [],
   "source": [
    "def sigmoid(Z,derv=False):\n",
    "    sig=1/(1+np.exp(-Z))\n",
    "    if derv==True:\n",
    "        return sig*(1-sig)\n",
    "    return sig"
   ]
  },
  {
   "cell_type": "code",
   "execution_count": 38,
   "id": "3b22ff9d",
   "metadata": {},
   "outputs": [],
   "source": [
    "#randomly intialize wheights\n",
    "W_0=np.random.random((3,4))\n",
    "W_1=np.random.random((4,1))\n",
    "#hyperparameters\n",
    "epochs=90000\n",
    "alpha=0.2\n",
    "err=[]\n",
    "for j in range(epochs):\n",
    "    # Calculate feedforward propagation\n",
    "    #First line\n",
    "    a1=sigmoid((np.dot(X,W_0)))\n",
    "    #Second Layer\n",
    "    a2=sigmoid((np.dot(a1,W_1)))\n",
    "    \n",
    "    #calc_errors\n",
    "    err.append(np.mean(np.power(a2-y,2)))   #1/m(y_pred-y_actual)^2\n",
    "    \n",
    "    # Calculate backward propagation\n",
    "    W1_err=2*(a2 - y)*sigmoid(a2,derv=True)\n",
    "    W1_delta=a1.T.dot(W1_err)\n",
    "    \n",
    "    W0_err=W1_err.dot(W_1.T)\n",
    "    layer_1_delta=W0_err*sigmoid(a1,derv=True)\n",
    "    W0_delta=X.T.dot(layer_1_delta)\n",
    "    \n",
    "    # update weghits\n",
    "    W_1=W_1-alpha*W1_delta\n",
    "    W_0=W_0-alpha*W0_delta\n"
   ]
  },
  {
   "cell_type": "code",
   "execution_count": 39,
   "id": "3862031d",
   "metadata": {},
   "outputs": [
    {
     "data": {
      "text/plain": [
       "array([[0],\n",
       "       [1],\n",
       "       [1],\n",
       "       [0]])"
      ]
     },
     "execution_count": 39,
     "metadata": {},
     "output_type": "execute_result"
    }
   ],
   "source": [
    "y"
   ]
  },
  {
   "cell_type": "code",
   "execution_count": 40,
   "id": "76c831b6",
   "metadata": {},
   "outputs": [
    {
     "data": {
      "text/plain": [
       "array([[0.0025719 , 0.        ],\n",
       "       [0.99639865, 1.        ],\n",
       "       [0.99638858, 1.        ],\n",
       "       [0.00318505, 0.        ]])"
      ]
     },
     "execution_count": 40,
     "metadata": {},
     "output_type": "execute_result"
    }
   ],
   "source": [
    "np.c_[a2,y]"
   ]
  },
  {
   "cell_type": "code",
   "execution_count": 41,
   "id": "0a261c59",
   "metadata": {},
   "outputs": [
    {
     "data": {
      "text/plain": [
       "array([[ 45.81116917],\n",
       "       [-26.2529047 ],\n",
       "       [  0.68290786],\n",
       "       [-26.67777966]])"
      ]
     },
     "execution_count": 41,
     "metadata": {},
     "output_type": "execute_result"
    }
   ],
   "source": [
    "W_1"
   ]
  },
  {
   "cell_type": "code",
   "execution_count": 42,
   "id": "0f44a42f",
   "metadata": {},
   "outputs": [
    {
     "data": {
      "text/plain": [
       "array([[  7.39592951, -54.31292502,  -1.54674307,  59.06261752],\n",
       "       [  7.3556197 ,  60.03384945,  -1.72867651, -53.36011821],\n",
       "       [ -6.57369093,  -1.96869137,   2.35443219,  -1.91318282]])"
      ]
     },
     "execution_count": 42,
     "metadata": {},
     "output_type": "execute_result"
    }
   ],
   "source": [
    "W_0"
   ]
  },
  {
   "cell_type": "code",
   "execution_count": 44,
   "id": "a2e1f070",
   "metadata": {},
   "outputs": [
    {
     "data": {
      "text/plain": [
       "<matplotlib.collections.PathCollection at 0x1c8eaedcdf0>"
      ]
     },
     "execution_count": 44,
     "metadata": {},
     "output_type": "execute_result"
    },
    {
     "data": {
      "image/png": "[encoded data removed]",
      "text/plain": [
       "<Figure size 640x480 with 1 Axes>"
      ]
     },
     "metadata": {},
     "output_type": "display_data"
    }
   ],
   "source": [
    "plt.scatter(range(epochs),err)"
   ]
  },
  {
   "cell_type": "code",
   "execution_count": null,
   "id": "538cf8bf",
   "metadata": {},
   "outputs": [],
   "source": []
  },
  {
   "cell_type": "code",
   "execution_count": null,
   "id": "509d70a5",
   "metadata": {},
   "outputs": [],
   "source": []
  }
 ],
 "metadata": {
  "kernelspec": {
   "display_name": "Python 3 (ipykernel)",
   "language": "python",
   "name": "python3"
  },
  "language_info": {
   "codemirror_mode": {
    "name": "ipython",
    "version": 3
   },
   "file_extension": ".py",
   "mimetype": "text/x-python",
   "name": "python",
   "nbconvert_exporter": "python",
   "pygments_lexer": "ipython3",
   "version": "3.9.18"
  }
 },
 "nbformat": 4,
 "nbformat_minor": 5
}
